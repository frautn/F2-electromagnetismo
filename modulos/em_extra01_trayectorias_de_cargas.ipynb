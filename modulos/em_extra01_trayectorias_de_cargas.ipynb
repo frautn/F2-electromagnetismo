{
 "cells": [
  {
   "cell_type": "markdown",
   "metadata": {},
   "source": [
    "# Trayectorias de cargas en presencia de un campo eléctrico\n",
    "\n",
    "En confección.\n",
    "\n",
    "<table>\n",
    "<tr style=\"border:none;\">\n",
    "<td style=\"border:none;\"><a href=\"https://fra.utn.edu.ar/\">\n",
    "<image src=\"https://raw.githubusercontent.com/epplugins/UTN/main/assets/img/logoUTN-500.svg\"  width=\"100\">\n",
    "</a></td>\n",
    "<td style=\"border:none;\">Física 2<br>2024<br>Electromagnetismo<br>Material extra\n",
    "</td>\n",
    "</tr>\n",
    "</table> \n",
    "<table>\n",
    "<tr style=\"border:none;\">\n",
    "<td style=\"border:none;\"><a href=\"https://creativecommons.org/licenses/by-nc-sa/4.0/deed.es\"><image src=\"https://raw.githubusercontent.com/epplugins/UTN/main/assets/img/by-nc-sa.svg\" width=\"70\" /></a></td>\n",
    "<td style=\"border:none;\">Edgardo Palazzo (epalazzo@fra.utn.edu.ar)\n",
    "</td>\n",
    "</tr>\n",
    "</table>\n",
    "\n",
    "---\n",
    "Estudiar como se mueven cargas en distintos campos sencillos.\n",
    "\n",
    "Graficar velocidad y aceleración en función de la posición.\n",
    "\n",
    "Finalizar con algo automatizado que calcule la trayectoria, v y a en presencia de cualquier campo.\n",
    "\n",
    "Buscar algún ejemplo curioso, que genere órbitas o figuras."
   ]
  },
  {
   "cell_type": "markdown",
   "metadata": {},
   "source": [
    "**Tabla de contenidos**<a id='toc0_'></a>    \n",
    "- 1. [Campo de una carga](#toc1_)    \n",
    "- 2. [Campo de dos cargas](#toc2_)    \n",
    "  - 2.1. [El dipolo eléctrico](#toc2_1_)    \n",
    "  - 2.2. [Dos cargas de diferente valor](#toc2_2_)    \n",
    "  - 2.3. [Ejercicio](#toc2_3_)    \n",
    "  - 2.4. [Más de dos cargas](#toc2_4_)    \n",
    "\n",
    "<!-- vscode-jupyter-toc-config\n",
    "\tnumbering=true\n",
    "\tanchor=true\n",
    "\tflat=false\n",
    "\tminLevel=2\n",
    "\tmaxLevel=6\n",
    "\t/vscode-jupyter-toc-config -->\n",
    "<!-- THIS CELL WILL BE REPLACED ON TOC UPDATE. DO NOT WRITE YOUR TEXT IN THIS CELL -->"
   ]
  },
  {
   "cell_type": "code",
   "execution_count": 3,
   "metadata": {},
   "outputs": [],
   "source": [
    "# some imports"
   ]
  },
  {
   "cell_type": "markdown",
   "metadata": {},
   "source": [
    "## 1. <a id='toc1_'></a>[Campo de una carga](#toc0_)"
   ]
  },
  {
   "cell_type": "code",
   "execution_count": 1,
   "metadata": {},
   "outputs": [
    {
     "name": "stdout",
     "output_type": "stream",
     "text": [
      "Hi\n"
     ]
    }
   ],
   "source": [
    "# Con V inicial radial\n",
    "\n",
    "# con v inicial tangencial.\n",
    "\n",
    "print(\"Hi\")"
   ]
  },
  {
   "cell_type": "markdown",
   "metadata": {},
   "source": [
    "## 2. <a id='toc2_'></a>[Campo de dos cargas](#toc0_)\n",
    "\n",
    "### 2.1. <a id='toc2_1_'></a>[El dipolo eléctrico](#toc0_)"
   ]
  },
  {
   "cell_type": "code",
   "execution_count": 5,
   "metadata": {},
   "outputs": [],
   "source": [
    "# some code"
   ]
  },
  {
   "cell_type": "markdown",
   "metadata": {},
   "source": [
    "### 2.2. <a id='toc2_2_'></a>[Dos cargas de diferente valor](#toc0_)"
   ]
  },
  {
   "cell_type": "code",
   "execution_count": 6,
   "metadata": {},
   "outputs": [],
   "source": [
    "# some code"
   ]
  },
  {
   "cell_type": "markdown",
   "metadata": {},
   "source": [
    "### 2.3. <a id='toc2_3_'></a>[Ejercicio](#toc0_)"
   ]
  },
  {
   "cell_type": "code",
   "execution_count": 7,
   "metadata": {},
   "outputs": [],
   "source": [
    "# Algo, buscar los valores de E, la posición de la carga, o la fuerza sobre una carga."
   ]
  },
  {
   "cell_type": "markdown",
   "metadata": {},
   "source": [
    "### 2.4. <a id='toc2_4_'></a>[Más de dos cargas](#toc0_)"
   ]
  },
  {
   "cell_type": "code",
   "execution_count": null,
   "metadata": {},
   "outputs": [],
   "source": []
  }
 ],
 "metadata": {
  "kernelspec": {
   "display_name": "utn",
   "language": "python",
   "name": "python3"
  },
  "language_info": {
   "codemirror_mode": {
    "name": "ipython",
    "version": 3
   },
   "file_extension": ".py",
   "mimetype": "text/x-python",
   "name": "python",
   "nbconvert_exporter": "python",
   "pygments_lexer": "ipython3",
   "version": "3.11.3"
  }
 },
 "nbformat": 4,
 "nbformat_minor": 2
}

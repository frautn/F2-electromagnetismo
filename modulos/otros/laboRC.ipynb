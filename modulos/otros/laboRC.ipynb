{
 "cells": [
  {
   "cell_type": "markdown",
   "metadata": {},
   "source": [
    "https://thepythoncodingstack.substack.com/p/zen-and-the-art-of-python-turtle-animations\n",
    "\n",
    "https://www.codetoday.co.uk/post/create-a-halloween-animation-with-python-a-tutorial\n",
    "\n",
    "https://github.com/ManimCommunity/manim\n",
    "\n",
    "https://docs.manim.community/en/latest/examples.html"
   ]
  },
  {
   "cell_type": "code",
   "execution_count": null,
   "metadata": {},
   "outputs": [],
   "source": []
  }
 ],
 "metadata": {
  "language_info": {
   "name": "python"
  }
 },
 "nbformat": 4,
 "nbformat_minor": 2
}

{
 "cells": [
  {
   "cell_type": "markdown",
   "metadata": {},
   "source": [
    "<table>\n",
    "<tr style=\"border:none;\">\n",
    "<td style=\"border:none;\"><a href=\"https://fra.utn.edu.ar/\">\n",
    "<image src=\"https://raw.githubusercontent.com/frautn/F2-electromagnetismo/main/assets_python/logoUTN-500.svg\"  width=\"100\">\n",
    "</a></td>\n",
    "<td style=\"border:none;\"><font face=\"times\" size=4>Física 2<br>2024<br>Electromagnetismo<br>Material para trabajo en clase</font>\n",
    "</td>\n",
    "</tr>\n",
    "</table> \n",
    "\n",
    "</br>\n",
    "\n",
    "<table>\n",
    "<tr style=\"border:none;\">\n",
    "<td style=\"border:none;\"><a href=\"https://creativecommons.org/licenses/by-nc-sa/4.0/deed.es\"><image src=\"https://raw.githubusercontent.com/frautn/F2-electromagnetismo/main/docs/assets/img/by-nc-sa.svg\" width=\"70\" /></a></td>\n",
    "<td style=\"border:none;\"><font face=\"times\" size=4>2024 Edgardo Palazzo (epalazzo@fra.utn.edu.ar)</font>\n",
    "</td>\n",
    "</tr>\n",
    "</table>\n",
    "\n",
    "# Potencial Eléctrico\n",
    "\n",
    "---"
   ]
  },
  {
   "cell_type": "code",
   "execution_count": 1,
   "metadata": {},
   "outputs": [],
   "source": [
    "# --------------------------------\n",
    "#\n",
    "# En edición.\n",
    "#\n",
    "# --------------------------------"
   ]
  },
  {
   "cell_type": "markdown",
   "metadata": {},
   "source": [
    "**Objetivos**\n",
    "\n",
    "  - Repasar el cálculo de potencial eléctrico con cargas puntuales.\n",
    "  - Analizar equipotenciales de diversas configuraciones de cargas puntuales.\n",
    "  - Obtener el campo eléctrico a partir del potencial eléctrico."
   ]
  },
  {
   "cell_type": "markdown",
   "metadata": {},
   "source": [
    "**Tabla de contenidos**<a id='toc0_'></a>    \n",
    "- 1. [Definición de una función para potencial eléctrico con cargas puntuales](#toc1_)    \n",
    "\n",
    "<!-- vscode-jupyter-toc-config\n",
    "\tnumbering=true\n",
    "\tanchor=true\n",
    "\tflat=false\n",
    "\tminLevel=2\n",
    "\tmaxLevel=6\n",
    "\t/vscode-jupyter-toc-config -->\n",
    "<!-- THIS CELL WILL BE REPLACED ON TOC UPDATE. DO NOT WRITE YOUR TEXT IN THIS CELL -->"
   ]
  },
  {
   "cell_type": "code",
   "execution_count": 1,
   "metadata": {},
   "outputs": [],
   "source": [
    "import matplotlib.pyplot as plt\n",
    "import numpy as np\n",
    "import sys\n",
    "\n",
    "np.seterr(divide='ignore')  # Elimina advertencia al dividir por cero.\n",
    "%precision %.3f\n",
    "\n",
    "# ------------------------------------\n",
    "# Lo siguiente es necesario para que funcione en Google Colab.\n",
    "try:\n",
    "  from libem import plotE, plotEf, plotEfVector, plotEfvector3d\n",
    "except:\n",
    "  # No descarga los archivos (aunque sí descarga .git)\n",
    "  !git clone -n https://github.com/frautn/F2-electromagnetismo.git --depth 1\n",
    "  !cd F2-electromagnetismo;git checkout HEAD modulos/libem.py\n",
    "  sys.path.insert(0, 'F2-electromagnetismo/modulos')\n",
    "  from libem import plotE, plotEf, plotEfVector, plotEfvector3d\n",
    "\n",
    "try:\n",
    "  import google.colab\n",
    "  IN_COLAB = True\n",
    "except:\n",
    "  IN_COLAB = False\n",
    "\n",
    "if IN_COLAB:\n",
    "  !pip --quiet install ipympl\n",
    "  from google.colab import output\n",
    "  output.enable_custom_widget_manager()\n",
    "# Fin Google colab.\n",
    "# ------------------------------------\n",
    "\n",
    "# Figuras interactivas.\n",
    "# Comentar si se quiere mantener las figuras luego de cerrar el cuaderno.\n",
    "# %matplotlib widget\n"
   ]
  },
  {
   "cell_type": "markdown",
   "metadata": {},
   "source": [
    "## 1. <a id='toc1_'></a>[Definición de una función para potencial eléctrico con cargas puntuales](#toc0_)\n",
    "\n",
    "Si consideramos que el potencial vale cero en el infinito, entonces el potencial eléctrico en una posición $\\vec{\\text{x}}$ en presencia de una carga puntual $q_0$ ubicada en la posición $\\vec{\\text{x}}_0$, puede escribirse como:\n",
    "$$\n",
    "V(\\vec{\\text{x}}) = \\frac{1}{4\\pi\\varepsilon_0} \\frac{q}{|\\vec{\\text{r}}|}\\, , \\tag{1}\n",
    "$$\n",
    "donde $|\\vec{\\text{r}}|$ es la distancia entre la posición de la partícula cargada ($\\vec{\\text{x}}_0$) y la posición donde se quiere determinar el valor del potencial eléctrico ($\\vec{\\text{x}}$).\n",
    "\n",
    "En presencia de más de una carga eléctrica puntual, el potencial se calcula como la suma de los potenciales de cada carga:\n",
    "$$\n",
    "V(\\vec{\\text{x}}) = \\frac{1}{4\\pi\\varepsilon_0} \\sum_{i=1}^N \\frac{q_i}{|\\vec{\\text{r}}_i|}\\, , \\tag{2}\n",
    "$$\n",
    "\n",
    "donde\n",
    "* $q_i$ es la carga eléctrica de la partícula i-ésima \n",
    "* $|\\vec{\\text{r}}_i|$ es la distancia entre entre la posición donde se quiere determinar el valor del potencial eléctrico ($\\vec{\\text{x}}$) y la posición de la partícula cargada ($\\vec{\\text{x}}_i$), es decir:\n",
    "$$\n",
    "|\\vec{\\text{r}}_i| = \\sqrt{(x-x_i)^2 + (y-y_i)^2 + (z-z_i)^2} ~ . \\tag{3}\n",
    "$$\n",
    "\n",
    "A continuación se define una función que calcula este potencial eléctrico, siguiendo la misma metodología que en el cuaderno 01."
   ]
  },
  {
   "cell_type": "code",
   "execution_count": 1,
   "metadata": {},
   "outputs": [],
   "source": [
    "def V(x,y,z,Q):\n",
    "    \"\"\"Calcula potencial eléctrico en V.\n",
    "    Ingresar valores de x,y,z en metros y q en coulomb.\n",
    "    Q es una lista de la forma:\n",
    "    Q = [\n",
    "        [q1,x1,y1,z1],\n",
    "        [q2,x2,y2,z2],\n",
    "        ...\n",
    "        [qN,xN,yN,zN]\n",
    "    ]\n",
    "    \"\"\"\n",
    "    k = 9E9   #Constante de Coulomb en las unidades correspondientes.\n",
    "\n",
    "    V = 0\n",
    "    for qi in Q:\n",
    "        r = ((x - qi[1])**2 + (y - qi[2])**2 + (z - qi[3])**2)**(3/2)\n",
    "        V = V + k * qi[0] / r\n",
    "\n",
    "    return V"
   ]
  },
  {
   "cell_type": "markdown",
   "metadata": {},
   "source": [
    "Calculemos el potencial de una sola partícula en alguna posición para comprobar que está funcionando correctamente."
   ]
  },
  {
   "cell_type": "code",
   "execution_count": 3,
   "metadata": {},
   "outputs": [
    {
     "data": {
      "text/plain": [
       "45.0"
      ]
     },
     "execution_count": 3,
     "metadata": {},
     "output_type": "execute_result"
    }
   ],
   "source": [
    "Q = [\n",
    "    [5E-9,0,0,0],\n",
    "]\n",
    "\n",
    "V(1,0,0,Q)"
   ]
  },
  {
   "cell_type": "markdown",
   "metadata": {},
   "source": [
    "Así podemos ver las equipotenciales de este problema:"
   ]
  },
  {
   "cell_type": "code",
   "execution_count": 4,
   "metadata": {},
   "outputs": [],
   "source": [
    "# Formatter para agregar V a las etiquetas de las equipotenciales.\n",
    "def fmt(x):\n",
    "    return f\"{x}V\""
   ]
  },
  {
   "cell_type": "code",
   "execution_count": null,
   "metadata": {},
   "outputs": [],
   "source": [
    "def equipotencialesPuntuales(cargas, dim, levels = 5, roi=(0,0,0), figsize=(6,6), titulo='Título',\n",
    "                EF = False, density=1, dq=0.02):\n",
    "    x = np.arange(-dim, dim+1)\n",
    "    y = np.arange(-dim, dim+1)\n",
    "    X, Y = np.meshgrid(x, y)\n",
    "    V = x*y\n",
    "    V = V*0\n",
    "    for carga in cargas:\n",
    "        xq, yq, q = carga\n",
    "        D = np.sqrt(np.power(X - xq, 2) + \n",
    "                    np.power(Y - yq, 2))\n",
    "        V = V + 9E9 * 1000 * q / D\n",
    "\n",
    "    fig, ax = plt.subplots(1, 1, figsize=figsize,facecolor=(1, 1, 1) )\n",
    "    # CS2 = ax.contour(X, Y, V, levels=levels)\n",
    "    # ax.clabel(CS2, inline=True, fmt=fmt, fontsize=10)\n",
    "    ax.set_title(titulo)\n",
    "    for carga in cargas:\n",
    "        xq, yq, q = carga\n",
    "        circ = plt.Circle((xq,yq), dq*dim, color='red')\n",
    "        ax.add_patch(circ)\n",
    "    if roi[2]>0:\n",
    "        plt.xlim((roi[0], roi[0]+roi[2]))\n",
    "        plt.ylim((roi[1], roi[1]+roi[2]))\n",
    "    \n",
    "    if EF:\n",
    "        CS2 = ax.contour(X, Y, V, levels=levels, alpha=0.4)\n",
    "        E = np.gradient(-1*V)\n",
    "        ax.streamplot(X, Y, E[1], E[0], linewidth=1, cmap=plt.cm.inferno,\n",
    "              density=density, arrowstyle='->', arrowsize=1.5)\n",
    "    else:\n",
    "        CS2 = ax.contour(X, Y, V, levels=levels, alpha=1)\n",
    "    ax.clabel(CS2, inline=True, fmt=fmt, fontsize=10)\n",
    "\n",
    "    plt.xlabel('x [mm]')\n",
    "    plt.ylabel('y [mm]')\n",
    "    plt.grid()\n",
    "    plt.show()\n",
    "        \n",
    "    return V"
   ]
  },
  {
   "cell_type": "markdown",
   "metadata": {},
   "source": []
  }
 ],
 "metadata": {
  "kernelspec": {
   "display_name": "utn",
   "language": "python",
   "name": "python3"
  },
  "language_info": {
   "codemirror_mode": {
    "name": "ipython",
    "version": 3
   },
   "file_extension": ".py",
   "mimetype": "text/x-python",
   "name": "python",
   "nbconvert_exporter": "python",
   "pygments_lexer": "ipython3",
   "version": "3.1.undefined"
  }
 },
 "nbformat": 4,
 "nbformat_minor": 2
}

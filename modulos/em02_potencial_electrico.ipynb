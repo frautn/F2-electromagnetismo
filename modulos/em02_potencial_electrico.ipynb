{
 "cells": [
  {
   "cell_type": "markdown",
   "metadata": {},
   "source": [
    "<table>\n",
    "<tr style=\"border:none;\">\n",
    "<td style=\"border:none;\"><a href=\"https://fra.utn.edu.ar/\">\n",
    "<image src=\"https://raw.githubusercontent.com/frautn/F2-electromagnetismo/main/assets_python/logoUTN-500.svg\"  width=\"100\">\n",
    "</a></td>\n",
    "<td style=\"border:none;\"><font face=\"times\" size=4>Física 2<br>2024<br>Electromagnetismo<br>Material para trabajo en clase</font>\n",
    "</td>\n",
    "</tr>\n",
    "</table> \n",
    "\n",
    "</br>\n",
    "\n",
    "<table>\n",
    "<tr style=\"border:none;\">\n",
    "<td style=\"border:none;\"><a href=\"https://creativecommons.org/licenses/by-nc-sa/4.0/deed.es\"><image src=\"https://raw.githubusercontent.com/frautn/F2-electromagnetismo/main/docs/assets/img/by-nc-sa.svg\" width=\"70\" /></a></td>\n",
    "<td style=\"border:none;\"><font face=\"times\" size=4>2024 Edgardo Palazzo (epalazzo@fra.utn.edu.ar)</font>\n",
    "</td>\n",
    "</tr>\n",
    "</table>\n",
    "\n",
    "# Potencial Eléctrico\n",
    "\n",
    "---"
   ]
  },
  {
   "cell_type": "code",
   "execution_count": 1,
   "metadata": {},
   "outputs": [],
   "source": [
    "# --------------------------------\n",
    "#\n",
    "# En edición.\n",
    "#\n",
    "# --------------------------------"
   ]
  },
  {
   "cell_type": "markdown",
   "metadata": {},
   "source": [
    "**Objetivos**\n",
    "\n",
    "  - Repasar el cálculo de potencial eléctrico con cargas puntuales.\n",
    "  - Analizar equipotenciales de diversas configuraciones de cargas puntuales.\n",
    "  - Obtener el campo eléctrico a partir del potencial eléctrico."
   ]
  },
  {
   "cell_type": "markdown",
   "metadata": {},
   "source": [
    "**Tabla de contenidos**<a id='toc0_'></a>    \n",
    "\n",
    "<!-- vscode-jupyter-toc-config\n",
    "\tnumbering=true\n",
    "\tanchor=true\n",
    "\tflat=false\n",
    "\tminLevel=2\n",
    "\tmaxLevel=6\n",
    "\t/vscode-jupyter-toc-config -->\n",
    "<!-- THIS CELL WILL BE REPLACED ON TOC UPDATE. DO NOT WRITE YOUR TEXT IN THIS CELL -->"
   ]
  },
  {
   "cell_type": "code",
   "execution_count": 2,
   "metadata": {},
   "outputs": [],
   "source": [
    "import matplotlib.pyplot as plt\n",
    "import numpy as np\n",
    "import sys\n",
    "\n",
    "np.seterr(divide='ignore')  # Elimina advertencia al dividir por cero.\n",
    "%precision %.3f\n",
    "\n",
    "# ------------------------------------\n",
    "# Lo siguiente es necesario para que funcione en Google Colab.\n",
    "try:\n",
    "  from libem import plotE, plotEf, plotEfVector, plotEfvector3d\n",
    "except:\n",
    "  # No descarga los archivos (aunque sí descarga .git)\n",
    "  !git clone -n https://github.com/frautn/F2-electromagnetismo.git --depth 1\n",
    "  !cd F2-electromagnetismo;git checkout HEAD modulos/libem.py\n",
    "  sys.path.insert(0, 'F2-electromagnetismo/modulos')\n",
    "  from libem import plotE, plotEf, plotEfVector, plotEfvector3d\n",
    "\n",
    "try:\n",
    "  import google.colab\n",
    "  IN_COLAB = True\n",
    "except:\n",
    "  IN_COLAB = False\n",
    "\n",
    "if IN_COLAB:\n",
    "  !pip --quiet install ipympl\n",
    "  from google.colab import output\n",
    "  output.enable_custom_widget_manager()\n",
    "# Fin Google colab.\n",
    "# ------------------------------------\n",
    "\n",
    "# Figuras interactivas.\n",
    "# Comentar si se quiere mantener las figuras luego de cerrar el cuaderno.\n",
    "# %matplotlib widget\n"
   ]
  },
  {
   "cell_type": "markdown",
   "metadata": {},
   "source": [
    "## 1. Potencial eléctrico con cargas puntuales\n",
    "\n",
    "Si consideramos que el potencial vale cero en el infinito, entonces el potencial eléctrico en una posición $\\vec{\\text{x}}$ en presencia de una carga puntual $q_0$ ubicada en la posición $\\vec{\\text{x}}_0$ puede escribirse como:\n",
    "$$\n",
    "V(\\vec{\\text{x}}) = \\frac{1}{4\\pi\\varepsilon_0} \\frac{q}{|\\vec{\\text{r}}|}\\, , \\tag{1}\n",
    "$$\n",
    "donde $|\\vec{\\text{r}}|$ es la distancia entre la posición de la partícula cargada ($\\vec{\\text{x}}_0$) y la posición donde se quiere determinar el valor del potencial eléctrico ($\\vec{\\text{x}}$).  \n",
    "\n",
    "En presencia de más de una carga eléctrica puntual, el potencial se calcula como la suma de los potenciales de cada carga:\n",
    "$$\n",
    "V(\\vec{\\text{x}}) = \\frac{1}{4\\pi\\varepsilon_0} \\sum_{i=1}^N \\frac{q_i}{|\\vec{\\text{r}}_i|}\\, , \\tag{2}\n",
    "$$\n",
    "\n",
    "donde\n",
    "* $q_i$ es la carga eléctrica de la partícula i-ésima \n",
    "* $\\vec{\\text{r}}_i$ es el vector diferencia entre la posición donde se quiere determinar el valor del potencial eléctrico ($\\vec{\\text{x}}$) y la posición de la partícula cargada ($\\vec{\\text{x}}_i$), es decir:\n",
    "$$\n",
    "\\vec{\\text{r}}_i = (x-x_i)\\hat{\\textbf{i}} + (y-y_i)\\hat{\\textbf{j}} + (z-z_i)\\hat{\\textbf{k}} ~ . \\tag{3}\n",
    "$$\n",
    "\n",
    "\n"
   ]
  },
  {
   "cell_type": "code",
   "execution_count": null,
   "metadata": {},
   "outputs": [],
   "source": [
    "def V1(x,y,z):\n",
    "    \"\"\"Calcula las componentes del campo eléctrico en N/C.\n",
    "    Ingresar valores de x,y,z en metros y q en coulomb.\n",
    "    \"\"\"\n",
    "    k = 9E9   #Constante de Coulomb en las unidades correspondientes.\n",
    "    \n",
    "    q = 1E-9\n",
    "    x0 = 0\n",
    "    y0 = 0\n",
    "    z0 = 0\n",
    "\n",
    "    # El denominador en la ec. 3:\n",
    "    r32 = ((x - x0)**2 + (y - y0)**2 + (z - z0)**2)**(3/2)\n",
    "\n",
    "    # Cada una de las componentes de la ec. 3:\n",
    "    Ei = k * q * (x - x0) / r32\n",
    "    Ej = k * q * (y - y0) / r32\n",
    "    Ek = k * q * (z - z0) / r32\n",
    "\n",
    "    return Ei, Ej, Ek"
   ]
  }
 ],
 "metadata": {
  "kernelspec": {
   "display_name": "utn",
   "language": "python",
   "name": "python3"
  },
  "language_info": {
   "codemirror_mode": {
    "name": "ipython",
    "version": 3
   },
   "file_extension": ".py",
   "mimetype": "text/x-python",
   "name": "python",
   "nbconvert_exporter": "python",
   "pygments_lexer": "ipython3",
   "version": "3.10.12"
  }
 },
 "nbformat": 4,
 "nbformat_minor": 2
}

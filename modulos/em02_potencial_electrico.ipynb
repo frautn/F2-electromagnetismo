{
 "cells": [
  {
   "cell_type": "markdown",
   "metadata": {},
   "source": [
    "<table>\n",
    "<tr style=\"border:none;\">\n",
    "<td style=\"border:none;\"><a href=\"https://fra.utn.edu.ar/\">\n",
    "<image src=\"https://raw.githubusercontent.com/frautn/F2-electromagnetismo/main/assets_python/logoUTN-500.svg\"  width=\"100\">\n",
    "</a></td>\n",
    "<td style=\"border:none;\"><font face=\"times\" size=4>Física 2<br>2024<br>Electromagnetismo<br>Material para trabajo en clase</font>\n",
    "</td>\n",
    "</tr>\n",
    "</table> \n",
    "\n",
    "</br>\n",
    "\n",
    "<table>\n",
    "<tr style=\"border:none;\">\n",
    "<td style=\"border:none;\"><a href=\"https://creativecommons.org/licenses/by-nc-sa/4.0/deed.es\"><image src=\"https://raw.githubusercontent.com/frautn/F2-electromagnetismo/main/docs/assets/img/by-nc-sa.svg\" width=\"70\" /></a></td>\n",
    "<td style=\"border:none;\"><font face=\"times\" size=4>2024 Edgardo Palazzo (epalazzo@fra.utn.edu.ar)</font>\n",
    "</td>\n",
    "</tr>\n",
    "</table>\n",
    "\n",
    "# Potencial Eléctrico\n",
    "\n",
    "---"
   ]
  },
  {
   "cell_type": "markdown",
   "metadata": {},
   "source": [
    "**Objetivos**\n",
    "\n",
    "  - Repasar el cálculo de potencial eléctrico con cargas puntuales.\n",
    "  - Analizar equipotenciales de diversas configuraciones de cargas puntuales.\n",
    "  - Obtener el campo eléctrico a partir del potencial eléctrico."
   ]
  },
  {
   "cell_type": "markdown",
   "metadata": {},
   "source": [
    "**Tabla de contenidos**<a id='toc0_'></a>    \n",
    "- 1. [Definición de una función para potencial eléctrico con cargas puntuales](#toc1_)    \n",
    "- 2. [Dipolo eléctrico](#toc2_)    \n",
    "- 3. [Dos cargas iguales](#toc3_)    \n",
    "- 4. [Ejercicio 1:](#toc4_)    \n",
    "- 5. [¿Qué más?](#toc5_)    \n",
    "\n",
    "<!-- vscode-jupyter-toc-config\n",
    "\tnumbering=true\n",
    "\tanchor=true\n",
    "\tflat=false\n",
    "\tminLevel=2\n",
    "\tmaxLevel=6\n",
    "\t/vscode-jupyter-toc-config -->\n",
    "<!-- THIS CELL WILL BE REPLACED ON TOC UPDATE. DO NOT WRITE YOUR TEXT IN THIS CELL -->"
   ]
  },
  {
   "cell_type": "code",
   "execution_count": null,
   "metadata": {},
   "outputs": [],
   "source": [
    "import matplotlib.pyplot as plt\n",
    "import numpy as np\n",
    "import sys\n",
    "\n",
    "np.seterr(divide='ignore')  # Elimina advertencia al dividir por cero.\n",
    "%precision %.3f\n",
    "\n",
    "# ------------------------------------\n",
    "# Lo siguiente es necesario para que funcione en Google Colab.\n",
    "try:\n",
    "  from libem import equipotencialesPuntuales\n",
    "except:\n",
    "  # No descarga los archivos (aunque sí descarga .git)\n",
    "  !git clone -n https://github.com/frautn/F2-electromagnetismo.git --depth 1\n",
    "  !cd F2-electromagnetismo;git checkout HEAD modulos/libem.py\n",
    "  sys.path.insert(0, 'F2-electromagnetismo/modulos')\n",
    "  from libem import equipotencialesPuntuales\n",
    "\n",
    "try:\n",
    "  import google.colab\n",
    "  IN_COLAB = True\n",
    "except:\n",
    "  IN_COLAB = False\n",
    "\n",
    "if IN_COLAB:\n",
    "  !pip --quiet install ipympl\n",
    "  from google.colab import output\n",
    "  output.enable_custom_widget_manager()\n",
    "# Fin Google colab.\n",
    "# ------------------------------------\n",
    "\n",
    "# Figuras interactivas.\n",
    "# Comentar si se quiere mantener las figuras luego de cerrar el cuaderno.\n",
    "# %matplotlib widget\n"
   ]
  },
  {
   "cell_type": "markdown",
   "metadata": {},
   "source": [
    "## 1. <a id='toc1_'></a>[Definición de una función para potencial eléctrico con cargas puntuales](#toc0_)\n",
    "\n",
    "Si consideramos que el potencial vale cero en el infinito, entonces el potencial eléctrico en una posición $\\vec{\\text{x}}$ en presencia de una carga puntual $q_0$ ubicada en la posición $\\vec{\\text{x}}_0$, puede escribirse como:\n",
    "$$\n",
    "V(\\vec{\\text{x}}) = \\frac{1}{4\\pi\\varepsilon_0} \\frac{q}{|\\vec{\\text{r}}|}\\, , \\tag{1}\n",
    "$$\n",
    "donde $|\\vec{\\text{r}}|$ es la distancia entre la posición de la partícula cargada ($\\vec{\\text{x}}_0$) y la posición donde se quiere determinar el valor del potencial eléctrico ($\\vec{\\text{x}}$).\n",
    "\n",
    "En presencia de más de una carga eléctrica puntual, el potencial se calcula como la suma de los potenciales de cada carga:\n",
    "$$\n",
    "V(\\vec{\\text{x}}) = \\frac{1}{4\\pi\\varepsilon_0} \\sum_{i=1}^N \\frac{q_i}{|\\vec{\\text{r}}_i|}\\, , \\tag{2}\n",
    "$$\n",
    "\n",
    "donde\n",
    "* $q_i$ es la carga eléctrica de la partícula i-ésima \n",
    "* $|\\vec{\\text{r}}_i|$ es la distancia entre entre la posición donde se quiere determinar el valor del potencial eléctrico ($\\vec{\\text{x}}$) y la posición de la partícula cargada ($\\vec{\\text{x}}_i$), es decir:\n",
    "$$\n",
    "|\\vec{\\text{r}}_i| = \\sqrt{(x-x_i)^2 + (y-y_i)^2 + (z-z_i)^2} ~ . \\tag{3}\n",
    "$$\n",
    "\n",
    "A continuación se define una función que calcula este potencial eléctrico, siguiendo la misma metodología que en el cuaderno 01."
   ]
  },
  {
   "cell_type": "code",
   "execution_count": null,
   "metadata": {},
   "outputs": [],
   "source": [
    "def V(x,y,z,Q):\n",
    "    \"\"\"Calcula potencial eléctrico en V.\n",
    "    Ingresar valores de x,y,z en metros y q en coulomb.\n",
    "    Q es una lista de la forma:\n",
    "    Q = [\n",
    "        [q1,x1,y1,z1],\n",
    "        [q2,x2,y2,z2],\n",
    "        ...\n",
    "        [qN,xN,yN,zN]\n",
    "    ]\n",
    "    \"\"\"\n",
    "    k = 9E9   #Constante de Coulomb en las unidades correspondientes.\n",
    "\n",
    "    V = 0\n",
    "    for qi in Q:\n",
    "        r = ((x - qi[1])**2 + (y - qi[2])**2 + (z - qi[3])**2)**(1/2)\n",
    "        V = V + k * qi[0] / r\n",
    "\n",
    "    return V"
   ]
  },
  {
   "cell_type": "markdown",
   "metadata": {},
   "source": [
    "Calculemos el potencial de una sola partícula en alguna posición para comprobar que está funcionando correctamente."
   ]
  },
  {
   "cell_type": "code",
   "execution_count": null,
   "metadata": {},
   "outputs": [],
   "source": [
    "Q = [\n",
    "    [5E-9,0,0,0],\n",
    "]\n",
    "\n",
    "# Potencial a 1 metro de distancia de q.\n",
    "V(1,0,0,Q)"
   ]
  },
  {
   "cell_type": "markdown",
   "metadata": {},
   "source": [
    "Así podemos ver las equipotenciales de este problema:"
   ]
  },
  {
   "cell_type": "code",
   "execution_count": null,
   "metadata": {},
   "outputs": [],
   "source": [
    "# Se eligen cuáles equipotenciales mostrar en una lista. \n",
    "levels = [40, 60, 80, 120, 240, 360, 450]\n",
    "\n",
    "equipotencialesPuntuales(Q, V, levels=levels)"
   ]
  },
  {
   "cell_type": "markdown",
   "metadata": {},
   "source": [
    "También podemos ver las líneas de campo."
   ]
  },
  {
   "cell_type": "code",
   "execution_count": null,
   "metadata": {},
   "outputs": [],
   "source": [
    "equipotencialesPuntuales(Q, V, levels=levels, EF=True)"
   ]
  },
  {
   "cell_type": "markdown",
   "metadata": {},
   "source": [
    "## 2. <a id='toc2_'></a>[Dipolo eléctrico](#toc0_)"
   ]
  },
  {
   "cell_type": "markdown",
   "metadata": {},
   "source": [
    "Se define la lista de cargas correspondiente, el resto de los pasos no cambia."
   ]
  },
  {
   "cell_type": "code",
   "execution_count": null,
   "metadata": {},
   "outputs": [],
   "source": [
    "Q = [\n",
    "    [-1E-9,-0.3,0,0],\n",
    "    [1E-9,0.3,0,0],\n",
    "]"
   ]
  },
  {
   "cell_type": "markdown",
   "metadata": {},
   "source": [
    "Cálculo del potencial en diferentes posiciones."
   ]
  },
  {
   "cell_type": "code",
   "execution_count": null,
   "metadata": {},
   "outputs": [],
   "source": [
    "print(\"V(0,0,0)  = \", V(0,0,0,Q))\n",
    "print(\"V(0.5,0,0)  = \", V(0.5,0,0,Q))\n",
    "print(\"V(-0.5,0,0)  = \", V(-0.5,0,0,Q))\n",
    "print(\"V(0.5,0.5,0)  = \", V(0.5,0.5,0,Q))\n",
    "print(\"V(0,0,0.1)  = \", V(0,0,0.1,Q))\n",
    "print(\"V(0.2,0,0.2)  = \", V(0.2,0,0.2,Q))"
   ]
  },
  {
   "cell_type": "markdown",
   "metadata": {},
   "source": [
    "Veamos las equipotenciales."
   ]
  },
  {
   "cell_type": "code",
   "execution_count": null,
   "metadata": {},
   "outputs": [],
   "source": [
    "# Se eligen cuáles equipotenciales mostrar en una lista. \n",
    "levels = [-60, -30, -10, -5, -2, 0, 2, 5, 10, 30, 60]\n",
    "\n",
    "equipotencialesPuntuales(Q, V, levels=levels)"
   ]
  },
  {
   "cell_type": "code",
   "execution_count": null,
   "metadata": {},
   "outputs": [],
   "source": [
    "equipotencialesPuntuales(Q, V, levels=levels, EF=True, titulo='Dipolo eléctrico')\n"
   ]
  },
  {
   "cell_type": "code",
   "execution_count": null,
   "metadata": {},
   "outputs": [],
   "source": [
    "# Visto desde más lejos\n",
    "\n",
    "equipotencialesPuntuales(Q, V, levels=levels, dim=200)"
   ]
  },
  {
   "cell_type": "markdown",
   "metadata": {},
   "source": [
    "## 3. <a id='toc3_'></a>[Dos cargas iguales](#toc0_)"
   ]
  },
  {
   "cell_type": "code",
   "execution_count": null,
   "metadata": {},
   "outputs": [],
   "source": [
    "Q = [\n",
    "    [1E-9,-0.3,0,0],\n",
    "    [1E-9,0.3,0,0],\n",
    "]\n",
    "\n",
    "levels = [20, 30, 40, 50, 60 ,80]\n",
    "\n",
    "equipotencialesPuntuales(Q, V, levels=levels)"
   ]
  },
  {
   "cell_type": "markdown",
   "metadata": {},
   "source": [
    "Visto desde lejos."
   ]
  },
  {
   "cell_type": "code",
   "execution_count": null,
   "metadata": {},
   "outputs": [],
   "source": [
    "levels = [3,4, 5, 7, 9, 12, 15, 20]\n",
    "equipotencialesPuntuales(Q, V, levels=levels, dim=500)"
   ]
  },
  {
   "cell_type": "markdown",
   "metadata": {},
   "source": [
    "## 4. <a id='toc4_'></a>[Ejercicio 1:](#toc0_)\n",
    "\n",
    "En los vértices de un cuadrado de 1 m se ubican las siguientes cargas: $q_1 = 10\\,\\text{nC}$, $q_2 = -20\\,\\text{nC}$, $q_3 = 30\\,\\text{nC}$ y $q_4 = 20\\,\\text{nC}$.  \n",
    "  1. Calcular el potencial en el centro del cuadrado.\n",
    "  1. Graficar las equipotenciales."
   ]
  },
  {
   "cell_type": "code",
   "execution_count": null,
   "metadata": {},
   "outputs": [],
   "source": [
    "# 1. Calcular V\n",
    "\n"
   ]
  },
  {
   "cell_type": "code",
   "execution_count": null,
   "metadata": {},
   "outputs": [],
   "source": [
    "# 2. Gráfico de equipotenciales. "
   ]
  },
  {
   "cell_type": "markdown",
   "metadata": {},
   "source": [
    "## 5. <a id='toc5_'></a>[Cambiar el plano de las equipotenciales](#toc0_)\n",
    "\n",
    "Hasta ahora graficamos equipotenciales en el plano $xy$. Podemos buscar equipotenciales en otros planos. Las curvas que veremos son las intersecciones se las superficies equipotenciales con el plano definido."
   ]
  },
  {
   "cell_type": "markdown",
   "metadata": {},
   "source": [
    "Elegir distintos valores de $z$ para subir o bajar el plano paralelo al plano $xy$."
   ]
  },
  {
   "cell_type": "code",
   "execution_count": null,
   "metadata": {},
   "outputs": [],
   "source": [
    "Q = [\n",
    "    [-1E-9,-0.3,0,0],\n",
    "    [1E-9,0.5,0.25,0],\n",
    "]\n",
    "\n",
    "levels = [-60, -40, -20, -10, -5, 0, 5, 10, 20, 40, 60]\n",
    "\n",
    "equipotencialesPuntuales(Q, V, levels=levels, z = 0)"
   ]
  },
  {
   "cell_type": "markdown",
   "metadata": {},
   "source": [
    "Elegir distintos valores de $x$ para tener una vista rotada."
   ]
  },
  {
   "cell_type": "code",
   "execution_count": null,
   "metadata": {},
   "outputs": [],
   "source": [
    "Q = [\n",
    "    [-1E-9,-0.3,0,0],\n",
    "    [1E-9,0.5,0.25,0],\n",
    "]\n",
    "\n",
    "levels = [-60, -40, -20, -10, -5, 0, 5, 10, 20, 40, 60]\n",
    "\n",
    "equipotencialesPuntuales(Q, V, levels=levels, x = 0.5)"
   ]
  },
  {
   "cell_type": "markdown",
   "metadata": {},
   "source": [
    "Elegir distintos valores de $y$ para obtener otra vista rotada.\n"
   ]
  },
  {
   "cell_type": "code",
   "execution_count": null,
   "metadata": {},
   "outputs": [],
   "source": [
    "Q = [\n",
    "    [-1E-9,-0.3,0,0],\n",
    "    [1E-9,0.5,0.25,0],\n",
    "]\n",
    "\n",
    "levels = [-60, -40, -20, -10, -5, 0, 5, 10, 20, 40, 60]\n",
    "\n",
    "equipotencialesPuntuales(Q, V, levels=levels, y = 0)"
   ]
  },
  {
   "cell_type": "code",
   "execution_count": null,
   "metadata": {},
   "outputs": [],
   "source": []
  }
 ],
 "metadata": {
  "kernelspec": {
   "display_name": "utn",
   "language": "python",
   "name": "python3"
  },
  "language_info": {
   "codemirror_mode": {
    "name": "ipython",
    "version": 3
   },
   "file_extension": ".py",
   "mimetype": "text/x-python",
   "name": "python",
   "nbconvert_exporter": "python",
   "pygments_lexer": "ipython3",
   "version": "3.10.12"
  }
 },
 "nbformat": 4,
 "nbformat_minor": 2
}

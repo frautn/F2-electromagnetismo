{
 "cells": [
  {
   "cell_type": "markdown",
   "metadata": {},
   "source": [
    "# Actividad 01"
   ]
  },
  {
   "cell_type": "code",
   "execution_count": null,
   "metadata": {},
   "outputs": [],
   "source": [
    "import matplotlib.pyplot as plt\n",
    "import numpy as np\n",
    "from numpy import sqrt, cos, sin, pi\n",
    "import sys\n",
    "\n",
    "np.seterr(divide='ignore')  # Elimina advertencia al dividir por cero.\n",
    "# %precision %.3f\n",
    "\n",
    "!pip install --index-url https://test.pypi.org/simple/ --no-deps --upgrade frautnEM\n",
    "from frautnEM.puntuales import plotEfcontribuciones, plotEfVector, equipotencialesPuntuales\n",
    "from frautnEM.puntuales import plotEf, plotEfVectorHilo, plotEfvector3d\n",
    "\n",
    "try:\n",
    "  import google.colab\n",
    "  IN_COLAB = True\n",
    "except:\n",
    "  IN_COLAB = False\n",
    "\n",
    "if IN_COLAB:\n",
    "  !pip --quiet install ipympl\n",
    "  from google.colab import output\n",
    "  output.enable_custom_widget_manager()\n",
    "\n",
    "# Figuras interactivas.\n",
    "# Comentar si se quiere mantener las figuras luego de cerrar el cuaderno.\n",
    "%matplotlib widget"
   ]
  }
 ],
 "metadata": {
  "kernelspec": {
   "display_name": "utn",
   "language": "python",
   "name": "python3"
  },
  "language_info": {
   "name": "python",
   "version": "3.10.12"
  }
 },
 "nbformat": 4,
 "nbformat_minor": 2
}

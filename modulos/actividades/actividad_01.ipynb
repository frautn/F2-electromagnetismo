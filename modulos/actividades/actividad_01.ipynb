{
 "cells": [
  {
   "cell_type": "markdown",
   "metadata": {},
   "source": [
    "# Actividad 01"
   ]
  },
  {
   "cell_type": "code",
   "execution_count": 40,
   "metadata": {},
   "outputs": [
    {
     "name": "stdout",
     "output_type": "stream",
     "text": [
      "Looking in indexes: https://test.pypi.org/simple/\n",
      "Requirement already satisfied: frautnEM in /home/edg/miniconda3/envs/utn/lib/python3.10/site-packages (0.0.7)\n"
     ]
    }
   ],
   "source": [
    "import matplotlib.pyplot as plt\n",
    "import numpy as np\n",
    "from numpy import sqrt, cos, sin, pi\n",
    "import sys\n",
    "\n",
    "np.seterr(divide='ignore')  # Elimina advertencia al dividir por cero.\n",
    "# %precision %.3f\n",
    "\n",
    "!pip install --index-url https://test.pypi.org/simple/ --no-deps --upgrade frautnEM\n",
    "from frautnEM.puntuales import Ef, V, plotEf, equipotencialesPuntuales\n",
    "\n",
    "try:\n",
    "  import google.colab\n",
    "  IN_COLAB = True\n",
    "except:\n",
    "  IN_COLAB = False\n",
    "\n",
    "if IN_COLAB:\n",
    "  !pip --quiet install ipympl\n",
    "  from google.colab import output\n",
    "  output.enable_custom_widget_manager()\n",
    "\n",
    "# Figuras interactivas.\n",
    "# Comentar si se quiere mantener las figuras luego de cerrar el cuaderno.\n",
    "# %matplotlib widget"
   ]
  },
  {
   "cell_type": "markdown",
   "metadata": {},
   "source": [
    "## Ejercicio 1:\n",
    "\n",
    "Considerar un hilo de longitud $L = 15\\,\\text{cm}$, con carga total de $40\\,\\text{nC}$ distribuida uniformemente, ubicado como se muestra en la figura, siendo $d = 3\\,\\text{cm}$.\n",
    "\n",
    "<div style=\"text-align: center;\">\n",
    "       <image src=\"https://raw.githubusercontent.com/frautn/F2-electromagnetismo/main/modulos/img/actividad01_segmento.svg\" width=\"500\">\n",
    "</div>\n",
    "\n",
    "\n",
    "a) Encontrar una posición aproximada donde ubicar una carga puntual de $2\\,\\mu\\text{C}$, para que el campo eléctrico total en el origen sea horizontal y apunte hacia la izquierda ($-x$).\n"
   ]
  },
  {
   "cell_type": "code",
   "execution_count": 2,
   "metadata": {},
   "outputs": [
    {
     "ename": "SyntaxError",
     "evalue": "invalid syntax (1383727782.py, line 17)",
     "output_type": "error",
     "traceback": [
      "\u001b[0;36m  Cell \u001b[0;32mIn[2], line 17\u001b[0;36m\u001b[0m\n\u001b[0;31m    [ , , , ],\u001b[0m\n\u001b[0m      ^\u001b[0m\n\u001b[0;31mSyntaxError\u001b[0m\u001b[0;31m:\u001b[0m invalid syntax\n"
     ]
    }
   ],
   "source": [
    "# 1) Escribir la lista de pequeñas cargas que conforman el hilo.\n",
    "\n",
    "# Si fueran 4 cargas, el formato es el siguiente:\n",
    "\n",
    "# Q = [\n",
    "#     [q1, x1, y1, z1],\n",
    "#     [q2, x2, y2, z2],\n",
    "#     [q3, x3, y3, z3],\n",
    "#     [q4, x4, y4, z4],\n",
    "# ]\n",
    "\n",
    "# Recordar que cada carga debe estar en el centro del segmento correspondiente.\n",
    "\n",
    "# Llamar a esta lista Q1.\n",
    "\n",
    "Q1 = [\n",
    "    [ , , , ],\n",
    "]"
   ]
  },
  {
   "cell_type": "code",
   "execution_count": null,
   "metadata": {},
   "outputs": [],
   "source": [
    "# Si se desea particionar al hilo en un número grande de cargas, es necesario un ciclo for como el utilizado en el cuaderno 03 (adaptar el siguiente ejemplo):\n",
    "\n",
    "# Qtotal = 1E-9\n",
    "# N = 20\n",
    "# dq = Qtotal/N\n",
    "# dx = L/N\n",
    "# # Valor inicial de x (el centro del primer \"diferencial\" de longitud dx):\n",
    "# x0 = -L/2 + dx/2\n",
    "# Q1 = []\n",
    "# for i in range(N):\n",
    "#     Q1 = Q1 + [[dq, x0+i*dx,0,0]]"
   ]
  },
  {
   "cell_type": "code",
   "execution_count": 41,
   "metadata": {},
   "outputs": [],
   "source": [
    "Qtotal = 40E-9\n",
    "L = 0.15\n",
    "N = 50\n",
    "dq = Qtotal/N\n",
    "dx = L/N\n",
    "# Valor inicial de x (el centro del primer \"diferencial\" de longitud dx):\n",
    "x0 = dx/2\n",
    "Q1 = []\n",
    "for i in range(N):\n",
    "    Q1 = Q1 + [[dq, x0+i*dx, -0.03,0]]"
   ]
  },
  {
   "cell_type": "code",
   "execution_count": 4,
   "metadata": {},
   "outputs": [],
   "source": [
    "# 2) Calcular el campo del hilo en el origen.\n",
    "\n",
    "# Utilizar la función de la biblioteca: Ef(x,y,z,Q)\n",
    "# Reemplazar los valores de x, y, z del punto donde se desea el campo, y Q con el\n",
    "# nombre de la lista de cargas.\n",
    "\n"
   ]
  },
  {
   "cell_type": "code",
   "execution_count": 42,
   "metadata": {},
   "outputs": [
    {
     "data": {
      "text/plain": [
       "(-64344.604401826015, 78446.59908124391, 0.0)"
      ]
     },
     "execution_count": 42,
     "metadata": {},
     "output_type": "execute_result"
    }
   ],
   "source": [
    "Ef(0,0,0,Q1)"
   ]
  },
  {
   "cell_type": "code",
   "execution_count": 6,
   "metadata": {},
   "outputs": [],
   "source": [
    "# 3) Decidir alguna posición donde ubicar la carga puntual y escribir la lista (de un solo elemento) de carga Q2:\n",
    "\n",
    "# Q2 = [\n",
    "#     [q, x, y, z],\n",
    "# ]"
   ]
  },
  {
   "cell_type": "code",
   "execution_count": 43,
   "metadata": {},
   "outputs": [
    {
     "data": {
      "text/plain": [
       "(-144247.00084189928, -78395.10915320614, 0.0)"
      ]
     },
     "execution_count": 43,
     "metadata": {},
     "output_type": "execute_result"
    }
   ],
   "source": [
    "\n",
    "Q2 = [\n",
    "    [2E-7, 0.092, 0.05, 0],\n",
    "]\n",
    "Ef(0,0,0,Q2)\n"
   ]
  },
  {
   "cell_type": "code",
   "execution_count": 8,
   "metadata": {},
   "outputs": [],
   "source": [
    "# 4) Calcular el campo en el origen sumando las componentes de ambos campos.\n",
    "\n",
    "# Reemplazar x, y, z con la posición donde se desea el campo y calcular\n",
    "# las componentes para cada uno. Luego sumarlas. \n",
    "\n",
    "# x = \n",
    "# y = \n",
    "# z = \n",
    "# Ei1, Ej1, Ek1 = Ef(x,y,z,Q1)\n",
    "# Ei2, Ej2, Ek2 = Ef(x,y,z,Q2)\n",
    "# Ei1 + Ei2, Ej1 + Ej2, Ek1 + Ek2"
   ]
  },
  {
   "cell_type": "code",
   "execution_count": 44,
   "metadata": {},
   "outputs": [
    {
     "data": {
      "text/plain": [
       "(-208591.6052437253, 51.48992803777219, 0.0)"
      ]
     },
     "execution_count": 44,
     "metadata": {},
     "output_type": "execute_result"
    }
   ],
   "source": [
    "x = 0\n",
    "y = 0\n",
    "z = 0\n",
    "Ei1, Ej1, Ek1 = Ef(x,y,z,Q1)\n",
    "Ei2, Ej2, Ek2 = Ef(x,y,z,Q2)\n",
    "Ei1 + Ei2, Ej1 + Ej2, Ek1 + Ek2"
   ]
  },
  {
   "cell_type": "code",
   "execution_count": 10,
   "metadata": {},
   "outputs": [],
   "source": [
    "# 5) Repetir el procedimiento hasta encontrar una posición para Q2 que cumpla con lo pedido."
   ]
  },
  {
   "cell_type": "code",
   "execution_count": 11,
   "metadata": {},
   "outputs": [],
   "source": [
    "# 6) Mostrar la respuesta.\n",
    "\n",
    "# Ejecutar Q2 para mostrar la carga y su posición y E1+E2 para mostrar el resultado del campo."
   ]
  },
  {
   "cell_type": "code",
   "execution_count": 12,
   "metadata": {},
   "outputs": [
    {
     "data": {
      "text/plain": [
       "[[2e-07, 0.092, 0.05, 0]]"
      ]
     },
     "execution_count": 12,
     "metadata": {},
     "output_type": "execute_result"
    }
   ],
   "source": [
    "Q2"
   ]
  },
  {
   "cell_type": "code",
   "execution_count": 13,
   "metadata": {},
   "outputs": [
    {
     "data": {
      "text/plain": [
       "(-208591.6052437253, 51.48992803777219, 0.0)"
      ]
     },
     "execution_count": 13,
     "metadata": {},
     "output_type": "execute_result"
    }
   ],
   "source": [
    "Ei1, Ej1, Ek1 = Ef(x,y,z,Q1)\n",
    "Ei2, Ej2, Ek2 = Ef(x,y,z,Q2)\n",
    "Ei1 + Ei2, Ej1 + Ej2, Ek1 + Ek2"
   ]
  },
  {
   "cell_type": "markdown",
   "metadata": {},
   "source": [
    "b) Calcular el potencial eléctrico en el origen."
   ]
  },
  {
   "cell_type": "code",
   "execution_count": 14,
   "metadata": {},
   "outputs": [],
   "source": [
    "# Usar la función de la biblioteca V(x,y,z,Q) y sumar los voltajes debido a Q1 y Q2.\n",
    "\n",
    "# V(x,y,z,Q1) + V(x,y,z,Q2)\n"
   ]
  },
  {
   "cell_type": "code",
   "execution_count": 15,
   "metadata": {},
   "outputs": [
    {
     "data": {
      "text/plain": [
       "22740.369266517002"
      ]
     },
     "execution_count": 15,
     "metadata": {},
     "output_type": "execute_result"
    }
   ],
   "source": [
    "V(x,y,z,Q1) + V(x,y,z,Q2)"
   ]
  },
  {
   "cell_type": "markdown",
   "metadata": {},
   "source": [
    "Respuesta:\n",
    "\n"
   ]
  },
  {
   "cell_type": "markdown",
   "metadata": {},
   "source": [
    "c) Graficar las líneas de campo con la carga puntual en la posición seleccionada."
   ]
  },
  {
   "cell_type": "code",
   "execution_count": 16,
   "metadata": {},
   "outputs": [],
   "source": [
    "# Para graficar necesitamos el campo total, y para eso debemos unificar\n",
    "# todas las cargas en una misma lista. \n",
    "# El código para juntar Q1 y Q2 en una misma lista es el siguiente:\n",
    "\n",
    "# Qtotal = Q1 + Q2\n",
    "\n",
    "# El gráfico se genera con la función de la biblioteca plotEf(Q)\n",
    "\n",
    "# Si se desea cambiar el rango de x e y, incluir los valores en dx: plotEf(Q, dx)\n"
   ]
  },
  {
   "cell_type": "code",
   "execution_count": 31,
   "metadata": {},
   "outputs": [],
   "source": [
    "Qtotal = Q1 + Q2"
   ]
  },
  {
   "cell_type": "code",
   "execution_count": 45,
   "metadata": {},
   "outputs": [
    {
     "ename": "TypeError",
     "evalue": "'float' object is not iterable",
     "output_type": "error",
     "traceback": [
      "\u001b[0;31m---------------------------------------------------------------------------\u001b[0m",
      "\u001b[0;31mTypeError\u001b[0m                                 Traceback (most recent call last)",
      "Cell \u001b[0;32mIn[45], line 1\u001b[0m\n\u001b[0;32m----> 1\u001b[0m \u001b[43mplotEf\u001b[49m\u001b[43m(\u001b[49m\u001b[43mQtotal\u001b[49m\u001b[43m,\u001b[49m\u001b[43m \u001b[49m\u001b[43mdx\u001b[49m\u001b[43m \u001b[49m\u001b[38;5;241;43m=\u001b[39;49m\u001b[43m \u001b[49m\u001b[38;5;241;43m0.1\u001b[39;49m\u001b[43m)\u001b[49m\n",
      "File \u001b[0;32m~/miniconda3/envs/utn/lib/python3.10/site-packages/frautnEM/puntuales.py:113\u001b[0m, in \u001b[0;36mplotEf\u001b[0;34m(Q, **params)\u001b[0m\n\u001b[1;32m    110\u001b[0m Y, X \u001b[38;5;241m=\u001b[39m np\u001b[38;5;241m.\u001b[39mmgrid[\u001b[38;5;241m-\u001b[39mdx:dx:w, \u001b[38;5;241m-\u001b[39mdy:dy:w]\n\u001b[1;32m    111\u001b[0m Z \u001b[38;5;241m=\u001b[39m \u001b[38;5;241m0\u001b[39m\u001b[38;5;241m*\u001b[39mX\n\u001b[0;32m--> 113\u001b[0m Ei, Ej, Ek \u001b[38;5;241m=\u001b[39m \u001b[43mEf\u001b[49m\u001b[43m(\u001b[49m\u001b[43mX\u001b[49m\u001b[43m,\u001b[49m\u001b[43mY\u001b[49m\u001b[43m,\u001b[49m\u001b[43mZ\u001b[49m\u001b[43m,\u001b[49m\u001b[43mQ\u001b[49m\u001b[43m)\u001b[49m\n\u001b[1;32m    115\u001b[0m fig, axs \u001b[38;5;241m=\u001b[39m plt\u001b[38;5;241m.\u001b[39msubplots(\u001b[38;5;241m1\u001b[39m, \u001b[38;5;241m1\u001b[39m, figsize\u001b[38;5;241m=\u001b[39mfigsize)\n\u001b[1;32m    116\u001b[0m strm \u001b[38;5;241m=\u001b[39m axs\u001b[38;5;241m.\u001b[39mstreamplot(X, Y, Ei, Ej, color\u001b[38;5;241m=\u001b[39m\u001b[38;5;124m'\u001b[39m\u001b[38;5;124mb\u001b[39m\u001b[38;5;124m'\u001b[39m,\n\u001b[1;32m    117\u001b[0m                     linewidth\u001b[38;5;241m=\u001b[39mlinewidth, density\u001b[38;5;241m=\u001b[39mdensity)\n",
      "File \u001b[0;32m~/miniconda3/envs/utn/lib/python3.10/site-packages/frautnEM/puntuales.py:38\u001b[0m, in \u001b[0;36mEf\u001b[0;34m(x, y, z, Q)\u001b[0m\n\u001b[1;32m     35\u001b[0m k \u001b[38;5;241m=\u001b[39m \u001b[38;5;241m9E9\u001b[39m   \u001b[38;5;66;03m#Constante de Coulomb en las unidades correspondientes.\u001b[39;00m\n\u001b[1;32m     37\u001b[0m Ei,Ej,Ek \u001b[38;5;241m=\u001b[39m \u001b[38;5;241m0\u001b[39m,\u001b[38;5;241m0\u001b[39m,\u001b[38;5;241m0\u001b[39m\n\u001b[0;32m---> 38\u001b[0m \u001b[38;5;28;01mfor\u001b[39;00m qi \u001b[38;5;129;01min\u001b[39;00m Q:\n\u001b[1;32m     39\u001b[0m     r \u001b[38;5;241m=\u001b[39m ((x \u001b[38;5;241m-\u001b[39m qi[\u001b[38;5;241m1\u001b[39m])\u001b[38;5;241m*\u001b[39m\u001b[38;5;241m*\u001b[39m\u001b[38;5;241m2\u001b[39m \u001b[38;5;241m+\u001b[39m (y \u001b[38;5;241m-\u001b[39m qi[\u001b[38;5;241m2\u001b[39m])\u001b[38;5;241m*\u001b[39m\u001b[38;5;241m*\u001b[39m\u001b[38;5;241m2\u001b[39m \u001b[38;5;241m+\u001b[39m (z \u001b[38;5;241m-\u001b[39m qi[\u001b[38;5;241m3\u001b[39m])\u001b[38;5;241m*\u001b[39m\u001b[38;5;241m*\u001b[39m\u001b[38;5;241m2\u001b[39m)\u001b[38;5;241m*\u001b[39m\u001b[38;5;241m*\u001b[39m(\u001b[38;5;241m3\u001b[39m\u001b[38;5;241m/\u001b[39m\u001b[38;5;241m2\u001b[39m)\n\u001b[1;32m     40\u001b[0m     Ei \u001b[38;5;241m=\u001b[39m Ei \u001b[38;5;241m+\u001b[39m k \u001b[38;5;241m*\u001b[39m qi[\u001b[38;5;241m0\u001b[39m] \u001b[38;5;241m*\u001b[39m (x \u001b[38;5;241m-\u001b[39m qi[\u001b[38;5;241m1\u001b[39m]) \u001b[38;5;241m/\u001b[39m r\n",
      "\u001b[0;31mTypeError\u001b[0m: 'float' object is not iterable"
     ]
    }
   ],
   "source": [
    "plotEf(Qtotal, dx = 0.1)"
   ]
  },
  {
   "cell_type": "markdown",
   "metadata": {},
   "source": [
    "d) Ubicar la misma carga puntual en alguna posición tal que el campo eléctrico total sea aproximadamente cero en algún punto del eje $y$."
   ]
  },
  {
   "cell_type": "code",
   "execution_count": 19,
   "metadata": {},
   "outputs": [],
   "source": [
    "# Ayuda:\n",
    "# - Elegir una posición sobre el eje y calcular el campo del hilo en esa posición.\n",
    "# - Calcular la tangente del ángulo para ese vector.\n",
    "# - La carga puntual debe estar ubicada sobre la misma recta que este vector, entonces\n",
    "#   las coordenadas x e y de la carga puntual cumplen con la misma relación para la tangente.\n",
    "#   Escribir una relación entre x e y con esa información.\n",
    "# - Modificar solo una variable (x o y) hasta encontrar que el campo total sea cero.\n",
    "\n",
    "\n",
    "\n"
   ]
  },
  {
   "cell_type": "code",
   "execution_count": 35,
   "metadata": {},
   "outputs": [
    {
     "data": {
      "text/plain": [
       "(-6371.004924465715, 13951.35392806354, 0.0)"
      ]
     },
     "execution_count": 35,
     "metadata": {},
     "output_type": "execute_result"
    }
   ],
   "source": [
    "Eih, Ejh, Ekh = Ef(0,0.1,0, Q1)\n",
    "Eih, Ejh, Ekh"
   ]
  },
  {
   "cell_type": "code",
   "execution_count": 37,
   "metadata": {},
   "outputs": [
    {
     "data": {
      "text/plain": [
       "(-10.408714016108206, -10.602683183942645, 0.0)"
      ]
     },
     "execution_count": 37,
     "metadata": {},
     "output_type": "execute_result"
    }
   ],
   "source": [
    "tangente = -Ejh/Eih\n",
    "x = -0.142\n",
    "y = 0.4117\n",
    "# y = -tangente*x + 0.1\n",
    "Q2 = [\n",
    "    [2E-7, x, y, 0],\n",
    "]\n",
    "Ei1, Ej1, Ek1 = Ef(0,0.1,0,Q1)\n",
    "Ei2, Ej2, Ek2 = Ef(0,0.1,0,Q2)\n",
    "Ei1 + Ei2, Ej1 + Ej2, Ek1 + Ek2\n"
   ]
  },
  {
   "cell_type": "code",
   "execution_count": 38,
   "metadata": {},
   "outputs": [
    {
     "data": {
      "text/plain": [
       "(-6371.004924465715, 13951.35392806354, 0.0)"
      ]
     },
     "execution_count": 38,
     "metadata": {},
     "output_type": "execute_result"
    }
   ],
   "source": [
    "Ef(0,0.1,0,Q1)"
   ]
  },
  {
   "cell_type": "code",
   "execution_count": 39,
   "metadata": {},
   "outputs": [
    {
     "data": {
      "text/plain": [
       "(6360.596210449607, -13961.956611247482, 0.0)"
      ]
     },
     "execution_count": 39,
     "metadata": {},
     "output_type": "execute_result"
    }
   ],
   "source": [
    "Ef(0,0.1,0,Q2)"
   ]
  },
  {
   "cell_type": "markdown",
   "metadata": {},
   "source": [
    "## Ejercicio 2:\n",
    "\n",
    "<div style=\"text-align: center;\">\n",
    "       <image src=\"https://raw.githubusercontent.com/frautn/F2-electromagnetismo/main/modulos/img/actividad01_dos_segmentos.svg\" width=\"500\">\n",
    "</div>\n"
   ]
  },
  {
   "cell_type": "markdown",
   "metadata": {},
   "source": []
  }
 ],
 "metadata": {
  "kernelspec": {
   "display_name": "utn",
   "language": "python",
   "name": "python3"
  },
  "language_info": {
   "codemirror_mode": {
    "name": "ipython",
    "version": 3
   },
   "file_extension": ".py",
   "mimetype": "text/x-python",
   "name": "python",
   "nbconvert_exporter": "python",
   "pygments_lexer": "ipython3",
   "version": "3.10.12"
  }
 },
 "nbformat": 4,
 "nbformat_minor": 2
}

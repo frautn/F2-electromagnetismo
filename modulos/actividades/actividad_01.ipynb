{
 "cells": [
  {
   "cell_type": "markdown",
   "metadata": {},
   "source": [
    "# Actividad 01"
   ]
  },
  {
   "cell_type": "code",
   "execution_count": 1,
   "metadata": {},
   "outputs": [
    {
     "name": "stdout",
     "output_type": "stream",
     "text": [
      "Looking in indexes: https://test.pypi.org/simple/\n",
      "Requirement already satisfied: frautnEM in /home/edg/miniconda3/envs/utn/lib/python3.10/site-packages (0.0.6)\n",
      "Collecting frautnEM\n",
      "  Downloading https://test-files.pythonhosted.org/packages/f1/98/b4d7f2d387a1659ca2aa8cdedebf9126321d3559401523612ab156f45dad/frautnEM-0.0.7-py3-none-any.whl.metadata (717 bytes)\n",
      "Downloading https://test-files.pythonhosted.org/packages/f1/98/b4d7f2d387a1659ca2aa8cdedebf9126321d3559401523612ab156f45dad/frautnEM-0.0.7-py3-none-any.whl (18 kB)\n",
      "Installing collected packages: frautnEM\n",
      "  Attempting uninstall: frautnEM\n",
      "    Found existing installation: frautnEM 0.0.6\n",
      "    Uninstalling frautnEM-0.0.6:\n",
      "      Successfully uninstalled frautnEM-0.0.6\n",
      "Successfully installed frautnEM-0.0.7\n"
     ]
    }
   ],
   "source": [
    "import matplotlib.pyplot as plt\n",
    "import numpy as np\n",
    "from numpy import sqrt, cos, sin, pi\n",
    "import sys\n",
    "\n",
    "np.seterr(divide='ignore')  # Elimina advertencia al dividir por cero.\n",
    "# %precision %.3f\n",
    "\n",
    "!pip install --index-url https://test.pypi.org/simple/ --no-deps --upgrade frautnEM\n",
    "from frautnEM.puntuales import Ef, V, plotEf, equipotencialesPuntuales\n",
    "\n",
    "try:\n",
    "  import google.colab\n",
    "  IN_COLAB = True\n",
    "except:\n",
    "  IN_COLAB = False\n",
    "\n",
    "if IN_COLAB:\n",
    "  !pip --quiet install ipympl\n",
    "  from google.colab import output\n",
    "  output.enable_custom_widget_manager()\n",
    "\n",
    "# Figuras interactivas.\n",
    "# Comentar si se quiere mantener las figuras luego de cerrar el cuaderno.\n",
    "# %matplotlib widget"
   ]
  },
  {
   "cell_type": "markdown",
   "metadata": {},
   "source": [
    "## Ejercicio 1:\n",
    "\n",
    "Un hilo de 15 cm con carga total 40 nC. \n",
    "\n",
    "Figura.\n",
    "\n",
    "a) Donde ubicar una carga de 2 microC para que el campo en el origen sea horizontal y apunte hacia la izquierda (-x).\n"
   ]
  },
  {
   "cell_type": "code",
   "execution_count": null,
   "metadata": {},
   "outputs": [],
   "source": []
  }
 ],
 "metadata": {
  "kernelspec": {
   "display_name": "utn",
   "language": "python",
   "name": "python3"
  },
  "language_info": {
   "codemirror_mode": {
    "name": "ipython",
    "version": 3
   },
   "file_extension": ".py",
   "mimetype": "text/x-python",
   "name": "python",
   "nbconvert_exporter": "python",
   "pygments_lexer": "ipython3",
   "version": "3.10.12"
  }
 },
 "nbformat": 4,
 "nbformat_minor": 2
}

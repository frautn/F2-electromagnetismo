{
 "cells": [
  {
   "cell_type": "markdown",
   "metadata": {},
   "source": [
    "<table>\n",
    "<tr style=\"border:none;\">\n",
    "<td style=\"border:none;\"><a href=\"https://fra.utn.edu.ar/\">\n",
    "<image src=\"https://raw.githubusercontent.com/frautn/F2-electromagnetismo/main/assets_python/logoUTN-500.svg\"  width=\"100\">\n",
    "</a></td>\n",
    "<td style=\"border:none;\"><font face=\"times\" size=4>Física 2<br>2024<br>Electromagnetismo<br>Material para trabajo en clase</font>\n",
    "</td>\n",
    "</tr>\n",
    "</table> \n",
    "\n",
    "</br>\n",
    "\n",
    "<table>\n",
    "<tr style=\"border:none;\">\n",
    "<td style=\"border:none;\"><a href=\"https://creativecommons.org/licenses/by-nc-sa/4.0/deed.es\"><image src=\"https://raw.githubusercontent.com/frautn/F2-electromagnetismo/main/docs/assets/img/by-nc-sa.svg\" width=\"70\" /></a></td>\n",
    "<td style=\"border:none;\"><font face=\"times\" size=4>2024 Edgardo Palazzo (epalazzo@fra.utn.edu.ar)</font>\n",
    "</td>\n",
    "</tr>\n",
    "</table>\n",
    "\n",
    "# Actividad 01\n",
    "\n",
    "---"
   ]
  },
  {
   "cell_type": "code",
   "execution_count": null,
   "metadata": {},
   "outputs": [],
   "source": [
    "import matplotlib.pyplot as plt\n",
    "import numpy as np\n",
    "from numpy import sqrt, cos, sin, pi\n",
    "import sys\n",
    "\n",
    "np.seterr(divide='ignore')  # Elimina advertencia al dividir por cero.\n",
    "# %precision %.3f\n",
    "\n",
    "!pip install --index-url https://test.pypi.org/simple/ --no-deps --upgrade frautnEM\n",
    "from frautnEM.puntuales import Ef, V, plotEf, plotEfVector, equipotencialesPuntuales\n",
    "\n",
    "try:\n",
    "  import google.colab\n",
    "  IN_COLAB = True\n",
    "except:\n",
    "  IN_COLAB = False\n",
    "\n",
    "if IN_COLAB:\n",
    "  !pip --quiet install ipympl\n",
    "  from google.colab import output\n",
    "  output.enable_custom_widget_manager()\n",
    "\n",
    "# Figuras interactivas.\n",
    "# Comentar si se quiere mantener las figuras luego de cerrar el cuaderno.\n",
    "# %matplotlib widget"
   ]
  },
  {
   "cell_type": "markdown",
   "metadata": {},
   "source": [
    "## Ejercicio 1:\n",
    "\n",
    "Considerar un hilo de longitud $L = 15\\,\\text{cm}$, con carga total de $40\\,\\text{nC}$ distribuida uniformemente, ubicado como se muestra en la figura, siendo $d = 3\\,\\text{cm}$.\n",
    "\n",
    "<div style=\"text-align: center;\">\n",
    "       <image src=\"https://raw.githubusercontent.com/frautn/F2-electromagnetismo/main/modulos/img/actividad01_segmento.svg\" width=\"500\">\n",
    "</div>\n",
    "\n",
    "\n",
    "a) Encontrar una posición aproximada donde ubicar una carga puntual de $2\\,\\mu\\text{C}$, para que el campo eléctrico total en el origen sea horizontal y apunte hacia la izquierda ($-x$).\n"
   ]
  },
  {
   "cell_type": "code",
   "execution_count": null,
   "metadata": {},
   "outputs": [],
   "source": [
    "# 1) Escribir la lista de pequeñas cargas que conforman el hilo.\n",
    "\n",
    "# Si fueran 4 cargas, el formato es el siguiente:\n",
    "\n",
    "# Q = [\n",
    "#     [q1, x1, y1, z1],\n",
    "#     [q2, x2, y2, z2],\n",
    "#     [q3, x3, y3, z3],\n",
    "#     [q4, x4, y4, z4],\n",
    "# ]\n",
    "\n",
    "# Recordar que cada carga debe estar en el centro del segmento correspondiente.\n",
    "\n",
    "# Llamar a esta lista Q1.\n",
    "\n",
    "# Q1 = [\n",
    "#     [ , , , ],\n",
    "# ]"
   ]
  },
  {
   "cell_type": "code",
   "execution_count": null,
   "metadata": {},
   "outputs": [],
   "source": [
    "# Opcional: Si se desea particionar al hilo en un número grande de cargas, es necesario un ciclo for como el utilizado en el cuaderno 03 (adaptar el siguiente ejemplo):\n",
    "\n",
    "# Qtotal = 1E-9\n",
    "# N = 20\n",
    "# dq = Qtotal/N\n",
    "# dx = L/N\n",
    "# # Valor inicial de x (el centro del primer \"diferencial\" de longitud dx):\n",
    "# x0 = -L/2 + dx/2\n",
    "# Q1 = []\n",
    "# for i in range(N):\n",
    "#     Q1 = Q1 + [[dq, x0+i*dx,0,0]]"
   ]
  },
  {
   "cell_type": "code",
   "execution_count": null,
   "metadata": {},
   "outputs": [],
   "source": [
    "# 2) Calcular el campo del hilo en el origen.\n",
    "\n",
    "# Utilizar la función de la biblioteca: Ef(x,y,z,Q)\n",
    "# Reemplazar los valores de x, y, z del punto donde se desea el campo, y Q con el\n",
    "# nombre de la lista de cargas.\n",
    "\n",
    "# Ef(x,y,z,Q)\n",
    "\n"
   ]
  },
  {
   "cell_type": "code",
   "execution_count": null,
   "metadata": {},
   "outputs": [],
   "source": [
    "# 3) Decidir alguna posición donde ubicar la carga puntual, escribir la lista (de un solo elemento) de carga Q2, y calcular el campo en el origen sumando las componentes de ambos campos.\n",
    "\n",
    "# Reemplazar x, y, z con la posición donde se desea el campo y calcular\n",
    "# las componentes para cada uno. Luego sumarlas. \n",
    "\n",
    "\n",
    "# Q2 = [\n",
    "#     [q, xi, yi, zi],\n",
    "# ]\n",
    "\n",
    "# x = \n",
    "# y = \n",
    "# z = \n",
    "\n",
    "# Ei1, Ej1, Ek1 = Ef(x,y,z,Q1)\n",
    "# Ei2, Ej2, Ek2 = Ef(x,y,z,Q2)\n",
    "# Ei1 + Ei2, Ej1 + Ej2, Ek1 + Ek2"
   ]
  },
  {
   "cell_type": "code",
   "execution_count": null,
   "metadata": {},
   "outputs": [],
   "source": [
    "# 5) Repetir el procedimiento hasta encontrar una posición para Q2 que cumpla con lo pedido."
   ]
  },
  {
   "cell_type": "code",
   "execution_count": null,
   "metadata": {},
   "outputs": [],
   "source": [
    "# 6) Mostrar la respuesta.\n",
    "\n",
    "# Ejecutar Q2 para mostrar la carga y su posición y E1+E2 para mostrar el resultado del campo."
   ]
  },
  {
   "cell_type": "code",
   "execution_count": null,
   "metadata": {},
   "outputs": [],
   "source": [
    "Q2"
   ]
  },
  {
   "cell_type": "code",
   "execution_count": null,
   "metadata": {},
   "outputs": [],
   "source": [
    "Ei1, Ej1, Ek1 = Ef(x,y,z,Q1)\n",
    "Ei2, Ej2, Ek2 = Ef(x,y,z,Q2)\n",
    "Ei1 + Ei2, Ej1 + Ej2, Ek1 + Ek2"
   ]
  },
  {
   "cell_type": "markdown",
   "metadata": {},
   "source": [
    "**Respuesta**:\n",
    "\n",
    "Escribir la respuesta en este lugar."
   ]
  },
  {
   "cell_type": "markdown",
   "metadata": {},
   "source": [
    "b) Calcular el potencial eléctrico en el origen."
   ]
  },
  {
   "cell_type": "code",
   "execution_count": null,
   "metadata": {},
   "outputs": [],
   "source": [
    "# Usar la función de la biblioteca V(x,y,z,Q) y sumar los voltajes debido a Q1 y Q2.\n",
    "\n",
    "# V(x,y,z,Q1) + V(x,y,z,Q2)\n"
   ]
  },
  {
   "cell_type": "markdown",
   "metadata": {},
   "source": [
    "**Respuesta**:\n",
    "\n",
    "Escribir la respuesta en este lugar."
   ]
  },
  {
   "cell_type": "markdown",
   "metadata": {},
   "source": [
    "c) Graficar las líneas de campo en el plano $xy$ con la carga puntual en la posición seleccionada."
   ]
  },
  {
   "cell_type": "code",
   "execution_count": null,
   "metadata": {},
   "outputs": [],
   "source": [
    "# Para graficar necesitamos el campo total, y para eso debemos unificar\n",
    "# todas las cargas en una misma lista. \n",
    "# El código para juntar Q1 y Q2 en una misma lista es el siguiente:\n",
    "\n",
    "# Qtotal = Q1 + Q2\n",
    "\n",
    "# El gráfico se genera con la función de la biblioteca plotEf(Q)\n",
    "\n",
    "# Si se desea cambiar el rango de x e y, incluir los valores en dx: plotEf(Q, dx)\n"
   ]
  },
  {
   "cell_type": "markdown",
   "metadata": {},
   "source": [
    "d) Encontrar otra posición para la misma carga puntual tal que el campo eléctrico total sea aproximadamente cero en el origen."
   ]
  },
  {
   "cell_type": "code",
   "execution_count": null,
   "metadata": {},
   "outputs": [],
   "source": [
    "# Ayuda:\n",
    "# - Calcular el campo del hilo en el origen.\n",
    "# - Calcular la tangente del ángulo para ese vector.\n",
    "# - La carga puntual debe estar ubicada sobre la misma recta que este vector, entonces\n",
    "#   las coordenadas x e y de la carga puntual cumplen con la misma relación para la tangente.\n",
    "#   Escribir una relación entre x e y con esa información.\n",
    "# - Modificar solo una variable (x o y) hasta encontrar que el campo total sea aproximadamente cero.\n",
    "\n",
    "\n",
    "\n"
   ]
  },
  {
   "cell_type": "markdown",
   "metadata": {},
   "source": [
    "**Respuesta**:\n",
    "\n",
    "Escribir la respuesta en este lugar."
   ]
  },
  {
   "cell_type": "markdown",
   "metadata": {},
   "source": [
    "## Ejercicio 2:\n",
    "\n",
    "En la figura se muestran el alambre 1 de longitud $L_1 = 15\\,\\text{cm}$ y el alambre 2 de longitud $L_2 = 6\\, \\text{cm}$, donde $d = 3\\,\\text{cm}\\,.$\n",
    "\n",
    "<div style=\"text-align: center;\">\n",
    "       <image src=\"https://raw.githubusercontent.com/frautn/F2-electromagnetismo/main/modulos/img/actividad01_dos_segmentos.svg\" width=\"500\">\n",
    "</div>\n",
    "\n",
    "Ambos alambres están cargados uniformemente. La carga total del alambre 1 es $400\\,\\text{nC}$ y la del alambre 2 es $-400\\,\\text{nC}\\,.$"
   ]
  },
  {
   "cell_type": "markdown",
   "metadata": {},
   "source": [
    "a) Graficar las equipotenciales de esta distribución en el plano $xy$. Incluir las líneas de campo en la misma figura."
   ]
  },
  {
   "cell_type": "code",
   "execution_count": null,
   "metadata": {},
   "outputs": [],
   "source": [
    "# Recomendaciones:\n",
    "# 1. Crear las listas de cargas para cada segmento y sumarlas Qtotal = Q1 + Q2, \n",
    "#    o armar directamente una única lista con las cargas de ambos segmentos.\n",
    "# 2. Hacer un gráfico preliminar para tener una idea de los valores de las equipotenciales.\n",
    "#    equipotencialesPuntuales(Qtotal)\n",
    "# 3. Se eligen cuáles equipotenciales mostrar en una lista. \n",
    "\n",
    "#    levels = [-200, -100, 0 , 40, 60, 80, 120, 240]\n",
    "\n",
    "# 4. Graficar las equipotenciales con las líneas de campo, ajustando el valor de \"dim\" \n",
    "#    para obtener una buena visualización.\n",
    "\n",
    "#    equipotencialesPuntuales(Qtotal, EF=True, levels = levels, dim=20)\n"
   ]
  },
  {
   "cell_type": "markdown",
   "metadata": {},
   "source": [
    "b) Calcular el potencial en el origen."
   ]
  },
  {
   "cell_type": "code",
   "execution_count": null,
   "metadata": {},
   "outputs": [],
   "source": [
    "# Cálculo del potencial:\n",
    "\n"
   ]
  },
  {
   "cell_type": "markdown",
   "metadata": {},
   "source": [
    "**Respuesta**:\n",
    "\n",
    "Escribir la respuesta en este lugar."
   ]
  },
  {
   "cell_type": "markdown",
   "metadata": {},
   "source": [
    "c) Encontrar alguna posición en el eje $x$ tal que el potencial sea aproximadamente cero."
   ]
  },
  {
   "cell_type": "code",
   "execution_count": null,
   "metadata": {},
   "outputs": [],
   "source": [
    "# Aprovechar el gráfico de las equipotenciales para unicar ese punto.\n",
    "\n",
    "\n"
   ]
  },
  {
   "cell_type": "code",
   "execution_count": null,
   "metadata": {},
   "outputs": [],
   "source": [
    "x = 0.066888\n",
    "y = 0\n",
    "z = 0\n",
    "V(x,y,z,Qtotal)"
   ]
  },
  {
   "cell_type": "markdown",
   "metadata": {},
   "source": [
    "**Respuesta**:\n",
    "\n",
    "Escribir la respuesta en este lugar."
   ]
  },
  {
   "cell_type": "markdown",
   "metadata": {},
   "source": [
    "d) Calcular la fuerza neta que el alambre 2 ejerce sobre el alambre 1. "
   ]
  },
  {
   "cell_type": "code",
   "execution_count": null,
   "metadata": {},
   "outputs": [],
   "source": [
    "# Con un ciclo \"for\", se calcula el campo producido por el alambre superior\n",
    "#    Ef(x,y,z,Q2)\n",
    "# en la posición de cada porción del alambre inferior, y se multiplican sus\n",
    "# componentes por la carga de dicha porción de alambre:\n",
    "#    Fi = q*Ei\n",
    "# Se suman todas estas fuerzas en cada componente para obtener las componentes\n",
    "# de la fuerza neta.\n",
    "\n",
    "Fi = 0\n",
    "Fj = 0\n",
    "Fk = 0\n",
    "for q1 in Q1:\n",
    "    x = q1[1]\n",
    "    y = q1[2]\n",
    "    z = q1[3]\n",
    "    Ei, Ej, Ek = Ef(x,y,z,Q2)\n",
    "    Fi = Fi + q1[0] * Ei\n",
    "    Fj = Fj + q1[0] * Ej\n",
    "    Fk = Fk + q1[0] * Ek\n",
    "Fi, Fj, Fk"
   ]
  },
  {
   "cell_type": "markdown",
   "metadata": {},
   "source": [
    "**Respuesta**:\n",
    "\n",
    "Escribir la respuesta en este lugar."
   ]
  },
  {
   "cell_type": "markdown",
   "metadata": {},
   "source": [
    "b) En lugar de la fuerza total, analizar las fuerzas que sienten cada porción del alambre inferior."
   ]
  },
  {
   "cell_type": "code",
   "execution_count": null,
   "metadata": {},
   "outputs": [],
   "source": [
    "# Una lista de objetos puntuales con carga 0 para graficar la varilla inferior y\n",
    "# no calcular su campo, solo queremos el campo de la varilla 2 en las posiciones\n",
    "# de la varilla 1.\n",
    "Qneta = 0\n",
    "L = 0.15\n",
    "N = 50\n",
    "dq = Qneta/N\n",
    "dx = L/N\n",
    "# Valor inicial de x (el centro del primer \"diferencial\" de longitud dx):\n",
    "x0 = dx/2\n",
    "Qcero = []\n",
    "for i in range(N):\n",
    "    Qcero = Qcero + [[dq, x0+i*dx, -0.03,0]]\n",
    "\n",
    "Qtotal2 = Q2 + Qcero\n",
    "\n",
    "# Posiciones donde queremos los vectores campo eléctrico.\n",
    "X = [[0.015,-0.03,0],[0.045,-0.03,0],[0.075,-0.03,0],[0.105,-0.03,0], [0.135,-0.03,0]]\n",
    "\n",
    "plotEfVector(Ef, Qtotal2, X, scale=20)"
   ]
  },
  {
   "cell_type": "markdown",
   "metadata": {},
   "source": [
    "Suponiendo que el alambre 1 (el inferior) se libera, y teniendo en cuenta la fuerza total y estos vectores del campo eléctrico producidos por el alambre 2 en las posiciones del alambre 1, describir el movimiento inicial del alambre inferior. "
   ]
  },
  {
   "cell_type": "markdown",
   "metadata": {},
   "source": [
    "**Respuesta**:\n",
    "\n",
    "Escribir la respuesta en este lugar."
   ]
  }
 ],
 "metadata": {
  "kernelspec": {
   "display_name": "utn",
   "language": "python",
   "name": "python3"
  },
  "language_info": {
   "codemirror_mode": {
    "name": "ipython",
    "version": 3
   },
   "file_extension": ".py",
   "mimetype": "text/x-python",
   "name": "python",
   "nbconvert_exporter": "python",
   "pygments_lexer": "ipython3",
   "version": "3.10.12"
  }
 },
 "nbformat": 4,
 "nbformat_minor": 2
}

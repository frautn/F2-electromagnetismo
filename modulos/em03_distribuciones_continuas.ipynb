{
 "cells": [
  {
   "cell_type": "markdown",
   "metadata": {},
   "source": [
    "<table>\n",
    "<tr style=\"border:none;\">\n",
    "<td style=\"border:none;\"><a href=\"https://fra.utn.edu.ar/\">\n",
    "<image src=\"https://raw.githubusercontent.com/frautn/F2-electromagnetismo/main/assets_python/logoUTN-500.svg\"  width=\"100\">\n",
    "</a></td>\n",
    "<td style=\"border:none;\"><font face=\"times\" size=4>Física 2<br>2024<br>Electromagnetismo<br>Material para trabajo en clase</font>\n",
    "</td>\n",
    "</tr>\n",
    "</table> \n",
    "\n",
    "</br>\n",
    "\n",
    "<table>\n",
    "<tr style=\"border:none;\">\n",
    "<td style=\"border:none;\"><a href=\"https://creativecommons.org/licenses/by-nc-sa/4.0/deed.es\"><image src=\"https://raw.githubusercontent.com/frautn/F2-electromagnetismo/main/docs/assets/img/by-nc-sa.svg\" width=\"70\" /></a></td>\n",
    "<td style=\"border:none;\"><font face=\"times\" size=4>2024 Edgardo Palazzo (epalazzo@fra.utn.edu.ar)</font>\n",
    "</td>\n",
    "</tr>\n",
    "</table>\n",
    "\n",
    "# Distribuciones de carga contínuas\n",
    "\n",
    "**Parte 1**\n",
    "\n",
    "En este cuaderno los campos se calculan con métodos numéricos simples, con el objetivo de visualizar y comprender como se obtiene el campo total pensando a los objetos extensos como una distribución de muchas cargas puntuales y sumando sus contribuciones individuales.\n",
    "\n",
    "---"
   ]
  },
  {
   "cell_type": "markdown",
   "metadata": {},
   "source": [
    "**Objetivos**\n",
    "\n",
    "- Interpretar a las distribuciones contínuas como formadas por muchas cargas puntuales."
   ]
  },
  {
   "cell_type": "markdown",
   "metadata": {},
   "source": [
    "**Tabla de contenidos**<a id='toc0_'></a>    \n",
    "- 1. [Campo y potencial eléctrico de distribuciones de carga contínuas consideradas como sistemas de muchas cargas infinitesimales](#toc1_)    \n",
    "- 2. [Segmento de línea](#toc2_)    \n",
    "  - 2.1. [Con carga uniforme](#toc2_1_)    \n",
    "  - 2.2. [Segmento muy largo (línea infinita) con carga uniforme](#toc2_2_)    \n",
    "  - 2.3. [Segmento con carga no uniforme](#toc2_3_)    \n",
    "  - 2.4. [Más de un segmento](#toc2_4_)    \n",
    "- 3. [Anillo cargado uniformemente](#toc3_)    \n",
    "- 4. [Anillo con carga no uniforme](#toc4_)    \n",
    "- 5. [Disco con carga uniforme](#toc5_)    \n",
    "- 6. [Dos planos](#toc6_)    \n",
    "- 7. [Referencias](#toc7_)    \n",
    "\n",
    "<!-- vscode-jupyter-toc-config\n",
    "\tnumbering=true\n",
    "\tanchor=true\n",
    "\tflat=false\n",
    "\tminLevel=2\n",
    "\tmaxLevel=6\n",
    "\t/vscode-jupyter-toc-config -->\n",
    "<!-- THIS CELL WILL BE REPLACED ON TOC UPDATE. DO NOT WRITE YOUR TEXT IN THIS CELL -->"
   ]
  },
  {
   "cell_type": "code",
   "execution_count": null,
   "metadata": {},
   "outputs": [],
   "source": [
    "import matplotlib.pyplot as plt\n",
    "import numpy as np\n",
    "from numpy import sqrt, cos, sin, pi\n",
    "import sys\n",
    "\n",
    "np.seterr(divide='ignore')  # Elimina advertencia al dividir por cero.\n",
    "%precision %.3f\n",
    "\n",
    "!pip install --index-url https://test.pypi.org/simple/ --no-deps frautnEM\n",
    "from frautnEM.puntuales import plotEfcontribuciones, plotEfVector, equipotencialesPuntuales\n",
    "from frautnEM.puntuales import plotEf, plotEfVectorHilo, plotEfvector3d\n",
    "\n",
    "try:\n",
    "  import google.colab\n",
    "  IN_COLAB = True\n",
    "except:\n",
    "  IN_COLAB = False\n",
    "\n",
    "if IN_COLAB:\n",
    "  !pip --quiet install ipympl\n",
    "  from google.colab import output\n",
    "  output.enable_custom_widget_manager()\n",
    "\n",
    "# Figuras interactivas.\n",
    "# Comentar si se quiere mantener las figuras luego de cerrar el cuaderno.\n",
    "%matplotlib widget"
   ]
  },
  {
   "cell_type": "markdown",
   "metadata": {},
   "source": [
    "## 1. <a id='toc1_'></a>[Campo y potencial eléctrico de distribuciones de carga contínuas consideradas como sistemas de muchas cargas infinitesimales](#toc0_)\n",
    "\n",
    "Para comenzar el estudio de distribuciones contínuas, consideremos una línea con carga total $Q$. Podemos pensar dicha línea está formada por $N$ partículas de carga $q_i$ de forma que:\n",
    "$$\n",
    "Q = \\sum_{i=1}^N q_i ~ . \\tag{1}\n",
    "$$\n",
    "\n",
    "El campo eléctrico producido por cada carga $q_i$ ubicada en la posición $\\vec{\\text{x}}_i$ a lo largo de la línea, puede escribirse como:\n",
    "$$\n",
    "\\vec{E}_i(\\vec{\\text{x}}) = \\frac{1}{4\\pi\\varepsilon_0} \\frac{q_i}{|\\vec{\\text{r}}_i|^3} \\vec{\\text{r}}_i\\, , \\tag{2}\n",
    "$$\n",
    "\n",
    "donde\n",
    "* $q_i$ es la carga eléctrica de la partícula i-ésima \n",
    "* $\\vec{\\text{r}}_i$ es el vector diferencia entre la posición donde se quiere obtener el vector de campo eléctrico ($\\vec{\\text{x}}$) y la posición de la partícula cargada ($\\vec{\\text{x}}_i$), es decir: \n",
    "$$\n",
    "\\vec{\\text{r}}_i = (x-x_i)\\hat{i} + (y-y_i)\\hat{j} + (z-z_i)\\hat{k} ~ . \\tag{3}\n",
    "$$\n",
    "\n",
    "En la siguiente figura se muestran a modo de ejemplo los vectores correspondientes a la primera ($q_1$) y a la última ($q_N$) cargas a lo largo de una línea curvada. \n",
    "\n",
    "<div style=\"text-align: center;\">\n",
    "       <image src=\"https://raw.githubusercontent.com/frautn/F2-electromagnetismo/main/modulos/img/em02_linea.svg\">\n",
    "</div>\n",
    "\n",
    "Por último, para obtener el campo total es necesario sumar los vectores de los campos de todas las $q_i$ a lo largo de la línea:\n",
    "$$\n",
    "\\vec{E}(\\vec{\\text{x}}) = \\sum_{i=1}^N \\vec{E}_i(\\vec{\\text{x}})  ~ . \\tag{4}\n",
    "$$\n",
    "\n",
    "Este procedimiento se puede extender a sumar cargas distribuidas sobre una superficie o cargas distribuidas en un volumen, para los casos de superficies o volúmenes cargados.\n",
    "\n",
    "Para calcular el campo eléctrico reutilizaremos la función que escribimos en el cuaderno [em01_campo_electrico.ipynb - sección 2.3](em01_campo_electrico.ipynb), donde ya sumábamos el campo producido por $N$ cargas.\n"
   ]
  },
  {
   "cell_type": "code",
   "execution_count": null,
   "metadata": {},
   "outputs": [],
   "source": [
    "def E(x, y, z, Q):\n",
    "    \"\"\"Calcula las componentes del campo eléctrico en N/C.\n",
    "    Ingresar valores de x,y,z en metros y q en coulomb.\n",
    "    Q es una lista de la forma:\n",
    "    Q = [\n",
    "        [q1,x1,y1,z1],\n",
    "        [q2,x2,y2,z2],\n",
    "        ...\n",
    "        [qN,xN,yN,zN]\n",
    "    ]\n",
    "    \"\"\"\n",
    "    k = 9E9   #Constante de Coulomb en las unidades correspondientes.\n",
    "\n",
    "    Ei,Ej,Ek = 0,0,0\n",
    "    for qi in Q:\n",
    "        r = ((x - qi[1])**2 + (y - qi[2])**2 + (z - qi[3])**2)**(3/2)\n",
    "        Ei = Ei + k * qi[0] * (x - qi[1]) / r\n",
    "        Ej = Ej + k * qi[0] * (y - qi[2]) / r\n",
    "        Ek = Ek + k * qi[0] * (z - qi[3]) / r\n",
    "\n",
    "    return Ei, Ej, Ek"
   ]
  },
  {
   "cell_type": "markdown",
   "metadata": {},
   "source": [
    "Con respecto al potencial eléctrico debido a una distribución contínua de carga, también se puede proceder a sumar los potenciales de cada carga puntual que forman la línea, superficie o volumen. Reutilizaremos la función definida en [em02_potencial_electrico.ipynb](em02_potencial_electrico.ipynb):"
   ]
  },
  {
   "cell_type": "code",
   "execution_count": null,
   "metadata": {},
   "outputs": [],
   "source": [
    "def V(x,y,z,Q):\n",
    "    \"\"\"Calcula potencial eléctrico en V.\n",
    "    Ingresar valores de x,y,z en metros y q en coulomb.\n",
    "    Q es una lista de la forma:\n",
    "    Q = [\n",
    "        [q1,x1,y1,z1],\n",
    "        [q2,x2,y2,z2],\n",
    "        ...\n",
    "        [qN,xN,yN,zN]\n",
    "    ]\n",
    "    \"\"\"\n",
    "    k = 9E9   #Constante de Coulomb en las unidades correspondientes.\n",
    "\n",
    "    V = 0\n",
    "    for qi in Q:\n",
    "        r = ((x - qi[1])**2 + (y - qi[2])**2 + (z - qi[3])**2)**(1/2)\n",
    "        V = V + k * qi[0] / r\n",
    "\n",
    "    return V"
   ]
  },
  {
   "cell_type": "markdown",
   "metadata": {},
   "source": [
    "## 2. <a id='toc2_'></a>[Segmento de línea](#toc0_)\n",
    "### 2.1. <a id='toc2_1_'></a>[Con carga uniforme](#toc0_)\n",
    "\n",
    "Consideremos un segmento de longitud $L = 20 \\text{ cm}$, ubicado sobre el eje $x$ centrado en el origen, y con carga total $Q = 1\\text{ nC}$ distribuida uniformemente.  \n",
    "\n",
    "<div style=\"text-align: center;\">\n",
    "       <image src=\"https://raw.githubusercontent.com/frautn/F2-electromagnetismo/main/modulos/img/em03_segmento.svg\" height=\"280\">\n",
    "</div>\n",
    "\n",
    "El resultado exacto para el módulo del campo eléctrico en el punto $P$ mostrado en la figura se puede calcular con la siguiente fórmula [[1]](#segmento):\n",
    "\n",
    "$$\n",
    "|\\vec{E}(\\vec{\\text{x}}_P)| = \\frac{2kQ}{a} \\frac{1}{\\sqrt{L^2 + 4a^2}}\\ . \\tag{5}\n",
    "$$\n",
    "\n",
    "Calculemos el módulo del campo si la distancia del punto sobre el eje de simetría es $a = 5\\text{ cm}$, usando la fórmula 5:"
   ]
  },
  {
   "cell_type": "code",
   "execution_count": null,
   "metadata": {},
   "outputs": [],
   "source": [
    "k = 9E9\n",
    "Q = 1E-9\n",
    "L = 0.2\n",
    "a = 0.05\n",
    "\n",
    "(2*k*Q/a)*(1/sqrt(L**2 + 4*a**2))"
   ]
  },
  {
   "cell_type": "markdown",
   "metadata": {},
   "source": [
    "Ahora aproximemos al segmento como si fueran 5 cargas puntuales, cada una con carga $q_i = Q/5$, y calculemos el campo usando nuestra función E(x, y, z, Q).\n",
    " \n",
    "<div style=\"text-align: center;\">\n",
    "       <image src=\"https://raw.githubusercontent.com/frautn/F2-electromagnetismo/main/modulos/img/em03_segmento-partido.svg\" height=\"75\">\n",
    "</div>\n"
   ]
  },
  {
   "cell_type": "code",
   "execution_count": null,
   "metadata": {},
   "outputs": [],
   "source": [
    "# El valor de cada carga es Q/N.\n",
    "q = 1E-9/5\n",
    "\n",
    "Q = [\n",
    "    [q,-0.08,0,0],\n",
    "    [q,-0.04,0,0],\n",
    "    [q,    0,0,0],\n",
    "    [q, 0.04,0,0],\n",
    "    [q, 0.08,0,0],\n",
    "]\n",
    "\n",
    "E(0,0.05,0,Q)"
   ]
  },
  {
   "cell_type": "markdown",
   "metadata": {},
   "source": [
    "Nuestra aproximación es bastante buena. Lo que estamos calculando es la contribución de cada porción del segmento en el cálculo del campo total en el punto $P$, es decir, la suma de los siguientes vectores:"
   ]
  },
  {
   "cell_type": "code",
   "execution_count": null,
   "metadata": {},
   "outputs": [],
   "source": [
    "x = [0, 0.05, 0]\n",
    "plotEfcontribuciones(E, Q, x, limites=[-0.15, 0.15, -0.05, 0.15], scale=3)"
   ]
  },
  {
   "cell_type": "markdown",
   "metadata": {},
   "source": [
    "Si queremos mejorar nuestra aproximación, necesitamos partir al segmento en más cargas. El nuevo desafío es escribir la configuración de cargas cuando son muchas. A continuación utilizamos un ciclo para generar la cantidad de cargas que consideremos necesaria. (¿Cuántas son suficientes?)"
   ]
  },
  {
   "cell_type": "code",
   "execution_count": null,
   "metadata": {},
   "outputs": [],
   "source": [
    "# Carga total del objeto:\n",
    "Qtotal = 1E-9\n",
    "\n",
    "# Longitud del segmento (en m):\n",
    "L = 20E-2\n",
    "\n",
    "# Número de cargas en que se divide el cuerpo extenso:\n",
    "N = 50\n",
    "\n",
    "# Valor de cada carga puntual.\n",
    "dq = Qtotal/N\n",
    "\n",
    "# Separación entre cargas:\n",
    "dx = L/N\n",
    "\n",
    "# Valor inicial de x (el centro del primer \"diferencial\" de longitud dx):\n",
    "x0 = -L/2 + dx/2\n",
    "\n",
    "Q = []\n",
    "for i in range(N):\n",
    "    Q = Q + [[dq, x0+i*dx,0,0]]\n",
    "\n",
    "E(0,0.05,0,Q)\n"
   ]
  },
  {
   "cell_type": "markdown",
   "metadata": {},
   "source": [
    "El nuevo cálculo se acerca más al resultado exacto. Grafiquemos algunos vectores de campo eléctrico para verificar visualmente que está funcionando bien."
   ]
  },
  {
   "cell_type": "code",
   "execution_count": null,
   "metadata": {},
   "outputs": [],
   "source": [
    "X = [[0,0.1,0],[0,-0.1,0],[-0.2,0,0],[0.2,0,0],[-0.1,0.1,0],[0.1,0.1,0],[-0.1,-0.1,0],[0.1,-0.1,0]]\n",
    "plotEfVector(E, Q, X, limites=[-0.3,0.3,-0.3,0.3], title=\"Segmento con carga uniforme\", scale=10)"
   ]
  },
  {
   "cell_type": "markdown",
   "metadata": {},
   "source": [
    "Y las líneas de campo y equipotenciales del segmento."
   ]
  },
  {
   "cell_type": "code",
   "execution_count": null,
   "metadata": {},
   "outputs": [],
   "source": [
    "levels = [30, 40, 60, 80, 120, 160]\n",
    "\n",
    "equipotencialesPuntuales(Q, V, levels=levels, dim=30, EF=True)"
   ]
  },
  {
   "cell_type": "markdown",
   "metadata": {},
   "source": [
    "### 2.2. <a id='toc2_2_'></a>[Segmento muy largo (línea infinita) con carga uniforme](#toc0_)\n",
    "\n",
    "El cálculo análitico para obtener el campo eléctrico producido por una línea recta de carga infinita es mucho más sencillo que el correspondiente a un segmento de longitud finita. Es por ello que se aprovecha el resultado analítico de la línea infinita para aproximar el campo de un segmento en regiones donde se lo puede considerar muy largo, cerca del centro del segmento.\n",
    "\n",
    "El campo producido por un hilo infinito con densidad de carga uniforme se puede calcular con la siguiente fórmula [[2]](#hiloinfinito):\n",
    "\n",
    "$$\n",
    "    \\vec{E}(r) = \\frac{2k\\lambda}{r} \\hat{r} ~ , \\tag{6}\n",
    "$$\n",
    "\n",
    "donde\n",
    "* $r$ es la distancia entre el punto donde se calcula el campo y la línea cargada\n",
    "* $\\hat{r}$ es la dirección radial respecto de la línea de carga\n",
    "* $\\lambda$ es la densidad lineal de carga\n",
    "\n",
    "A continuación definimos una función que realiza el cálculo utilizando la fórmula 6 para una línea infinita sobre el eje $x$."
   ]
  },
  {
   "cell_type": "code",
   "execution_count": null,
   "metadata": {},
   "outputs": [],
   "source": [
    "def Ehilo(x, y, z, Lambda):\n",
    "    \"\"\"Calcula las componentes del campo eléctrico en N/C para un hilo\n",
    "    infinito ubicado sobre el eje i, con densidad de carga Lambda.\n",
    "    Ingresar valores de x,y,z en m y Lambda en C/m.\n",
    "    \"\"\"\n",
    "    k = 9E9   #Constante de Coulomb en las unidades correspondientes.\n",
    "\n",
    "    # Módulo de r al cuadrado:\n",
    "    r2 = y**2+z**2\n",
    "\n",
    "    Ej = 2 * k * Lambda * y / r2\n",
    "    Ek = 2 * k * Lambda * z / r2\n",
    "\n",
    "    return 0, Ej, Ek"
   ]
  },
  {
   "cell_type": "markdown",
   "metadata": {},
   "source": [
    "Verifiquemos que para un hilo con densidad $\\lambda = 1\\text{ nC/m}$ se obtiene lo esperado calculando $E$ en distintos $r$ y distintos ángulos:"
   ]
  },
  {
   "cell_type": "code",
   "execution_count": null,
   "metadata": {},
   "outputs": [],
   "source": [
    "Lambda = 1E-9\n",
    "\n",
    "# A 20 cm de distancia\n",
    "\n",
    "Ehilo(0,0.2,0, Lambda)"
   ]
  },
  {
   "cell_type": "code",
   "execution_count": null,
   "metadata": {},
   "outputs": [],
   "source": [
    "# En otras posiciones\n",
    "\n",
    "print(\"E(0,0.1,0) = \", np.round( Ehilo(0, 0.1,   0, Lambda)  ,3))\n",
    "print(\"E(1,0.1,0) = \", np.round( Ehilo(1, 0.1,   0, Lambda)  ,3))\n",
    "\n",
    "print(\"E(0,0.2,0) = \", np.round( Ehilo(0, 0.2,   0, Lambda)  ,3))\n",
    "print(\"E(0,-0.2,0) = \", np.round( Ehilo(0, -0.2,   0, Lambda)  ,3))\n",
    "print(\"E(0,0,0.2) = \", np.round( Ehilo(0,   0, 0.2, Lambda)  ,3))\n",
    "# 20cm a 45 grados en y-z:\n",
    "print(\"E(0,0.2/1.4142,0.2/1.4142) = \", np.round( Ehilo(0,0.2/1.4142,0.2/1.4142, Lambda) ,5))"
   ]
  },
  {
   "cell_type": "markdown",
   "metadata": {},
   "source": [
    "La fórmula 6 es muy fácil de usar pero los hilos infinitos no existen. Usemos nuestro cálculo del campo de un segmento, sumando cargas pequeñas, para analizar el error que se comete cuando aproximamos un segmento por una línea infinita. Para el mismo problema que se resolvió en la sección 2.1, vamos a calcular el campo a distintas distancias $y$ del centro y a diferentes posiciones $x$ a la misma distancia del segmento, y comparar los resultados de usar la fórmula del hilo infinito y el cálculo sumando muchas cargas pequeñas (que asumimos como muy buena aproximación).\n",
    "\n",
    "\n",
    "<div style=\"text-align: center;\">\n",
    "       <image src=\"https://raw.githubusercontent.com/frautn/F2-electromagnetismo/main/modulos/img/em03_segmento-aproximacion.svg\" width=\"500\">\n",
    "</div>\n",
    "\n",
    "Volvemos a considerar un segmento de longitud $L = 20 \\text{ cm}$, ubicado sobre el eje $x$ centrado en el origen, y con carga total $Q = 1\\text{ nC}$ distribuida uniformemente. Su densidad lineal de carga es $\\lambda = 5\\text{ nC/m}$.\n"
   ]
  },
  {
   "cell_type": "code",
   "execution_count": null,
   "metadata": {},
   "outputs": [],
   "source": [
    "# Lista de cargas puntuales que conforman el segmento.\n",
    "\n",
    "# Carga total del objeto:\n",
    "Qtotal = 1E-9\n",
    "# Longitud del segmento (en m):\n",
    "L = 20E-2\n",
    "# Número de cargas en que se divide el cuerpo extenso:\n",
    "N = 50\n",
    "# Valor de cada carga puntual.\n",
    "dq = Qtotal/N\n",
    "# Separación entre cargas:\n",
    "dx = L/N\n",
    "# Valor inicial de x (el centro del primer \"diferencial\" de longitud dx):\n",
    "x0 = -L/2 + dx/2\n",
    "\n",
    "Q = []\n",
    "for i in range(N):\n",
    "    Q = Q + [[dq, x0+i*dx,0,0]]\n",
    "\n",
    "# Densidad lineal de carga del segmento\n",
    "Lambda = Qtotal/L\n",
    "\n",
    "print(\"Lambda = \", Lambda, \"C/m\")\n"
   ]
  },
  {
   "cell_type": "markdown",
   "metadata": {},
   "source": [
    "Cálculo a distintas distancias del centro:"
   ]
  },
  {
   "cell_type": "code",
   "execution_count": null,
   "metadata": {},
   "outputs": [],
   "source": [
    "# Lista de posiciones donde se calculará el campo E.\n",
    "y = np.linspace(0.01, 0.2, num=50)\n",
    "x = 0\n",
    "z = 0\n",
    "\n",
    "# Ciclo para calcular E usando las dos funciones en cada valor de y.\n",
    "EjInfinito = []\n",
    "EjPuntuales = []\n",
    "for yi in y:\n",
    "    Ei, Ej, Ek = Ehilo(x,yi,z,Lambda)\n",
    "    EjInfinito.append(Ej)\n",
    "    Ei, Ej, Ek = E(x,yi,z,Q)\n",
    "    EjPuntuales.append(Ej)"
   ]
  },
  {
   "cell_type": "code",
   "execution_count": null,
   "metadata": {},
   "outputs": [],
   "source": [
    "fig, ax = plt.subplots(figsize=(5, 4), layout='constrained')\n",
    "ax.plot(y, EjInfinito, label='Aproximación de hilo infinito')\n",
    "ax.plot(y, EjPuntuales, label='Segmento')\n",
    "ax.set_xlabel('Distancia al centro del segmento [m]')\n",
    "ax.set_ylabel('|E| [N/C]')\n",
    "ax.set_title(\"Campo E de un segmento sobre el eje transversal\")\n",
    "ax.legend()"
   ]
  },
  {
   "cell_type": "markdown",
   "metadata": {},
   "source": [
    "Cálculo en diferentes valores de $x$ a la misma distancia del segmento:"
   ]
  },
  {
   "cell_type": "code",
   "execution_count": null,
   "metadata": {},
   "outputs": [],
   "source": [
    "# Lista de posiciones donde se calculará el campo E.\n",
    "y = 0.01\n",
    "X = [[-0.1,y,0],[-0.08,y,0],[-0.05,y,0],[-0.02,y,0],[0.02,y,0],[0.05,y,0],[0.08,y,0],[0.1,y,0]]\n",
    "\n",
    "plotEfVectorHilo(Ehilo, E, Lambda, Q, X, limites=[-0.15, 0.15, -0.005, 0.1], scale=30)"
   ]
  },
  {
   "cell_type": "markdown",
   "metadata": {},
   "source": [
    "### 2.3. <a id='toc2_3_'></a>[Segmento con carga no uniforme](#toc0_)\n",
    "\n",
    "Continuemos con el segmento de longitud $L = 20\\text{ cm}$ sobre el eje $x$, pero ahora con una densidad lineal de carga:\n",
    "$$\n",
    "\\lambda = ax+b \\, ,\n",
    "$$\n",
    "siendo $a = 20\\text{ nC/m}^2$ y $b = -1\\text{ nC/m}$."
   ]
  },
  {
   "cell_type": "code",
   "execution_count": null,
   "metadata": {},
   "outputs": [],
   "source": [
    "# Definimos una función para la densidad de carga:\n",
    "def densidad(x):\n",
    "    a = 25\n",
    "    b = -1\n",
    "    return a*x+b \n",
    "\n",
    "# Longitud del segmento (en m):\n",
    "L = 20E-2\n",
    "\n",
    "# Número de cargas en que se divide el cuerpo extenso:\n",
    "N = 50\n",
    "\n",
    "# Separación entre cargas:\n",
    "dx = L/N\n",
    "\n",
    "# Valor inicial de x (el centro del primer \"diferencial\" de longitud dx):\n",
    "x0 = -L/2 + dx/2\n",
    "\n",
    "Q = []\n",
    "for i in range(N):\n",
    "    # El valor de cada carga es lambda*dx\n",
    "    xi = x0+i*dx\n",
    "    dq = densidad(xi)\n",
    "    Q = Q + [[dq, xi,0,0]]\n",
    "\n"
   ]
  },
  {
   "cell_type": "code",
   "execution_count": null,
   "metadata": {},
   "outputs": [],
   "source": [
    "plotEf(E, Q, dx=0.3, density=1, title='Segmento con densidad no uniforme', figsize=(6,6))"
   ]
  },
  {
   "cell_type": "markdown",
   "metadata": {},
   "source": [
    "### 2.4. <a id='toc2_4_'></a>[Más de un segmento](#toc0_)"
   ]
  },
  {
   "cell_type": "code",
   "execution_count": null,
   "metadata": {},
   "outputs": [],
   "source": [
    "# Lista de cargas puntuales que conforman el segmento.\n",
    "\n",
    "# Carga total del objeto:\n",
    "Qtotal1 = 1E-9\n",
    "# Longitud del segmento (en m):\n",
    "L1 = 20E-2\n",
    "# Número de cargas en que se divide el cuerpo extenso:\n",
    "N1 = 50\n",
    "# Valor de cada carga puntual.\n",
    "dq1 = Qtotal1/N1\n",
    "# Separación entre cargas:\n",
    "dx1 = L1/N1\n",
    "# Valor inicial de x (el centro del primer \"diferencial\" de longitud dx):\n",
    "x01 = -L1/2 + dx1/2\n",
    "\n",
    "Q = []\n",
    "for i in range(N1):\n",
    "    Q = Q + [[dq1, x01+i*dx1,0,0]]\n",
    "\n",
    "# Otro segmento\n",
    "Qtotal2 = -2E-9\n",
    "L2 = 20E-2\n",
    "N2 = 50\n",
    "dq2 = Qtotal2/N2\n",
    "dx2 = L2/N2\n",
    "x02 = -L2/2 + 0.05 + dx2/2\n",
    "\n",
    "for i in range(N2):\n",
    "    Q = Q + [[dq2, x02+i*dx2,0.05,0]]\n"
   ]
  },
  {
   "cell_type": "code",
   "execution_count": null,
   "metadata": {},
   "outputs": [],
   "source": [
    "plotEf(E, Q, dx=0.3, density=1, title='Líneas de campo de dos segmentos',\n",
    "          figsize=(6,6))"
   ]
  },
  {
   "cell_type": "markdown",
   "metadata": {},
   "source": [
    "## 3. <a id='toc3_'></a>[Anillo cargado uniformemente](#toc0_)\n",
    "\n",
    "Anillo de radio $R = 20\\text{ cm}$ sobre el plano $ij$ (es decir, $z=0$), centrado en el origen, con carga total $Q = 1\\text{ nC}$ distribuida uniformemente."
   ]
  },
  {
   "cell_type": "code",
   "execution_count": null,
   "metadata": {},
   "outputs": [],
   "source": [
    "# Carga total del objeto:\n",
    "Qtotal = 1E-9\n",
    "# Radio del anillo (en m):\n",
    "R = 20E-2\n",
    "# Número de cargas en que se divide el cuerpo extenso:\n",
    "N = 100\n",
    "\n",
    "dq = Qtotal/N\n",
    "# Separación angular entre cargas:\n",
    "dt = 2*np.pi/N\n",
    "# Angulo de la primer carga (el centro del primer \"diferencial\" de longitud dx=R*dt):\n",
    "t0 = dt/2\n",
    "\n",
    "Q = []\n",
    "for i in np.arange(N):\n",
    "    Q = Q + [[dq, R*cos(t0+i*dt), R*sin(t0+i*dt),0]]\n"
   ]
  },
  {
   "cell_type": "markdown",
   "metadata": {},
   "source": [
    "Algunos vectores de ejemplo:"
   ]
  },
  {
   "cell_type": "code",
   "execution_count": null,
   "metadata": {},
   "outputs": [],
   "source": [
    "# X = [[0,0.1,0],[0,-0.1,0],[-0.2,0,0],[0.2,0,0],[-0.1,0.1,0],[0.1,0.1,0],[-0.1,-0.1,0],[0.1,-0.1,0]]\n",
    "X = [[0,0.1,0], [0.2,0.2,0], [0.1, -0.1,0]]\n",
    "plotEfVector(E, Q, X, limites=[-0.3,0.3,-0.3,0.3], title=\"Anillo con carga uniforme\", scale=10)"
   ]
  },
  {
   "cell_type": "code",
   "execution_count": null,
   "metadata": {},
   "outputs": [],
   "source": [
    "plotEf(E, Q, dx=0.3, density=0.75, title='Líneas de campo de un\\n anillo con carga uniforme')"
   ]
  },
  {
   "cell_type": "code",
   "execution_count": null,
   "metadata": {},
   "outputs": [],
   "source": [
    "# Para ver las líneas sobre el plano $ik$ usando la misma función, hacemos trampa y\n",
    "# escribimos el anillo en el plano $ik$ y graficamos la líneas\n",
    "# en el plano $ij$.\n",
    "\n",
    "Qr = []\n",
    "for i in np.arange(N):\n",
    "    Qr = Qr + [[dq, R*np.cos(t0+i*dt), 0, R*np.sin(t0+i*dt)]]\n",
    "\n",
    "plotEf(E, Qr, dx=0.3, density=0.5, title='Líneas de campo de un\\n anillo con carga uniforme',\n",
    "          figsize=(6,6))\n"
   ]
  },
  {
   "cell_type": "markdown",
   "metadata": {},
   "source": [
    "## 4. <a id='toc4_'></a>[Anillo con carga no uniforme](#toc0_)\n",
    "\n",
    "Trabajemos nuevamente con un anillo de radio $R = 20\\text{ cm}$ sobre el plano $ij$, pero ahora la densidad de carga está dada por la siguiente función:\n",
    "$$\n",
    "\\lambda = a\\cos(2\\theta) \\, ,\n",
    "$$\n",
    "donde $a = 1\\text{ nC/m}$ y $\\theta$ es el ángulo respecto del eje $i$ positivo."
   ]
  },
  {
   "cell_type": "code",
   "execution_count": null,
   "metadata": {},
   "outputs": [],
   "source": [
    "# Definimos una función para la densidad:\n",
    "def Lambda(t):\n",
    "    a = 1E-9\n",
    "    return a*cos(2*t)\n",
    "\n",
    "# Radio del anillo en m:\n",
    "R = 20E-2\n",
    "# Número de cargas en que se divide el cuerpo extenso:\n",
    "N = 1000\n",
    "\n",
    "# Separación angular entre cargas:\n",
    "dt = 2*pi/N\n",
    "# Angulo de la primer carga (el centro del primer \"diferencial\" de longitud dx=R*dt):\n",
    "t0 = dt/2\n",
    "\n",
    "Q = []\n",
    "# Longitud de arco para cada segmento de anillo.\n",
    "ds = R*dt\n",
    "for i in np.arange(N):\n",
    "    t = t0 + i*dt\n",
    "    # Carga de un pequeño arco de anillo: dq= lambda*longitud de arco\n",
    "    dqi = Lambda(t)*ds\n",
    "    Q = Q + [[dqi, R*cos(t0+i*dt), R*sin(t0+i*dt),0]]"
   ]
  },
  {
   "cell_type": "code",
   "execution_count": null,
   "metadata": {},
   "outputs": [],
   "source": [
    "plotEf(E, Q, dx=0.3, density=0.75, title='Líneas de campo de un\\n anillo con carga no uniforme')"
   ]
  },
  {
   "cell_type": "code",
   "execution_count": null,
   "metadata": {},
   "outputs": [],
   "source": [
    "# Para ver las líneas sobre el plano $ik$ usando la misma función, hacemos trampa y\n",
    "# escribimos el anillo en el plano $ik$ y graficamos la líneas\n",
    "# en el plano $ij$.\n",
    "\n",
    "Qr = []\n",
    "for i in np.arange(N):\n",
    "    t = t0 + i*dt\n",
    "    # Carga de un pequeño arco de anillo: dq= lambda*longitud de arco\n",
    "    dqi = Lambda(t)*ds\n",
    "    Qr = Qr + [[dqi, R*np.cos(t0+i*dt), 0, R*np.sin(t0+i*dt)]]\n",
    "\n",
    "plotEf(E, Qr, dx=0.5, density=0.75, title='Líneas de campo de un\\n anillo con carga no uniforme',\n",
    "          figsize=(6,6))\n"
   ]
  },
  {
   "cell_type": "code",
   "execution_count": null,
   "metadata": {},
   "outputs": [],
   "source": [
    "# La figura en 3D puede demorar mucho tiempo dependiendo de la cantidad de cargas que se utilicen.\n",
    "R = 20E-2\n",
    "N = 100\n",
    "dt = 2*pi/N\n",
    "t0 = dt/2\n",
    "Q = []\n",
    "ds = R*dt\n",
    "for i in np.arange(N):\n",
    "    t = t0 + i*dt\n",
    "    dqi = Lambda(t)*ds\n",
    "    Q = Q + [[dqi, R*cos(t0+i*dt), R*sin(t0+i*dt),0]]\n",
    "\n",
    "plotEfvector3d(E, Q, dx=0.3, w=5, figsize=(6,6))"
   ]
  },
  {
   "cell_type": "markdown",
   "metadata": {},
   "source": [
    "## 5. <a id='toc5_'></a>[Disco con carga uniforme](#toc0_)\n",
    "\n",
    "El disco como una suma de anillos."
   ]
  },
  {
   "cell_type": "code",
   "execution_count": null,
   "metadata": {},
   "outputs": [],
   "source": [
    "# Carga total del objeto:\n",
    "Qtotal = 1E-9\n",
    "# Longitud del segmento (en m):\n",
    "R = 20E-2\n",
    "# Número de cargas en que se divide el cuerpo extenso: N*Nanillos\n",
    "N = 50\n",
    "Nanillos = 10\n",
    "\n",
    "dq = Qtotal/(N*Nanillos)\n",
    "dR = R/Nanillos\n",
    "# Separación angular entre cargas:\n",
    "dt = 2*np.pi/N\n",
    "# Angulo de la primer carga (el centro del primer \"diferencial\" de longitud dx=R*dt):\n",
    "t0 = dt/2\n",
    "# Radio del primer anillo:\n",
    "R0 = dR/2\n",
    "\n",
    "Q = []\n",
    "for i in np.arange(N):\n",
    "    for j in np.arange(Nanillos):\n",
    "        Q = Q + [[dq, (R0+j*dR)*np.cos(t0+i*dt), 0, (R0+j*dR)*np.sin(t0+i*dt)]]"
   ]
  },
  {
   "cell_type": "code",
   "execution_count": null,
   "metadata": {},
   "outputs": [],
   "source": [
    "plotEf(E, Q, dx=0.5, density=1, title='Líneas de campo de un\\n disco con carga uniforme',\n",
    "          figsize=(6,6))"
   ]
  },
  {
   "cell_type": "code",
   "execution_count": null,
   "metadata": {},
   "outputs": [],
   "source": [
    "# La figura en 3D puede demorar mucho tiempo dependiendo de la cantidad de cargas que se utilicen.\n",
    "\n",
    "plotEfvector3d(E, Q, dx=0.3, w=4, figsize=(6,6))"
   ]
  },
  {
   "cell_type": "markdown",
   "metadata": {},
   "source": [
    "## 6. <a id='toc6_'></a>[Dos planos](#toc0_)\n",
    "\n",
    "Dos superficies planas paralelas al plano $ik$, centradas en el eje $j$. Una superficie se encuentra en $y=a$ y la otra en $y=-a$."
   ]
  },
  {
   "cell_type": "code",
   "execution_count": null,
   "metadata": {},
   "outputs": [],
   "source": [
    "a = 0.05\n",
    "# Carga total del plano 1:\n",
    "Qtotal1 = 1E-9\n",
    "# Longitud de los lados (en m):\n",
    "Lx = 0.20\n",
    "Lz = 0.20\n",
    "# Número de cargas en que se divide el cuerpo extenso: N*Nanillos\n",
    "Nx = 50\n",
    "Nz = 50\n",
    "\n",
    "dq1 = Qtotal1/(Nx*Nz)\n",
    "dx = Lx/Nx\n",
    "dz = Lz/Nz\n",
    "\n",
    "x0 = -Lx/2 + dx/2\n",
    "z0 = -Lz/2 + dz/2\n",
    "\n",
    "Q = []\n",
    "for i in np.arange(Nx):\n",
    "    for j in np.arange(Nz):\n",
    "        Q = Q + [[dq1, x0 + i*dx, -a, z0 + j*dz]]\n",
    "\n",
    "# Carga total del plano 2:\n",
    "Qtotal2 = -1E-9\n",
    "dq2 = Qtotal2/(Nx*Nz)\n",
    "\n",
    "for i in np.arange(Nx):\n",
    "    for j in np.arange(Nz):\n",
    "        Q = Q + [[dq2, x0 + i*dx, a, z0 + j*dz]]\n"
   ]
  },
  {
   "cell_type": "code",
   "execution_count": null,
   "metadata": {},
   "outputs": [],
   "source": [
    "plotEf(E, Q, dx=0.2, density=1, title='Líneas de campo de dos\\n planos con carga uniforme', figsize=(6,6))"
   ]
  },
  {
   "cell_type": "markdown",
   "metadata": {},
   "source": [
    "Analicemos como cambia la componente perpendicular en la región entre los planos, si nos desplazamos perpendicularmente a los planos: "
   ]
  },
  {
   "cell_type": "code",
   "execution_count": null,
   "metadata": {},
   "outputs": [],
   "source": [
    "# Lista de posiciones donde se calculará el campo E.\n",
    "y = np.linspace(-0.04, 0.04, num=50)\n",
    "x = 0\n",
    "z = 0\n",
    "\n",
    "# Ciclo para calcular E en cada valor de y.\n",
    "Ej = []\n",
    "for yi in y:\n",
    "    Eii, Ejj, Ekk = E(x,yi,z,Q)\n",
    "    Ej.append(Ejj)"
   ]
  },
  {
   "cell_type": "code",
   "execution_count": null,
   "metadata": {},
   "outputs": [],
   "source": [
    "fig, ax = plt.subplots(figsize=(5, 4), layout='constrained')\n",
    "ax.plot(y, Ej)\n",
    "ax.set_xlabel('y [m]')\n",
    "ax.set_ylabel('$E_j$ [N/C]')\n",
    "ax.set_title('Valor de $E_j$ a diferentes distancias de los planos')\n",
    "ax.set_ylim([0,2200])"
   ]
  },
  {
   "cell_type": "markdown",
   "metadata": {},
   "source": [
    "Analicemos como varía la componente vertical de $E$ a medida que nos desplazamos paralelamente a los planos:"
   ]
  },
  {
   "cell_type": "code",
   "execution_count": null,
   "metadata": {},
   "outputs": [],
   "source": [
    "# Lista de posiciones donde se calculará el campo E.\n",
    "x = np.linspace(-0.1, 0.1, num=50)\n",
    "y = 0\n",
    "z = 0\n",
    "\n",
    "# Ciclo para calcular E en cada valor de y.\n",
    "Ej = []\n",
    "for xi in x:\n",
    "    Eii, Ejj, Ekk = E(xi,y,z,Q)\n",
    "    Ej.append(Ejj)"
   ]
  },
  {
   "cell_type": "code",
   "execution_count": null,
   "metadata": {},
   "outputs": [],
   "source": [
    "fig, [ax1, ax2] = plt.subplots(1,2,figsize=(10, 4), layout='constrained')\n",
    "ax1.plot(x, Ej)\n",
    "ax1.set_xlabel('y [m]')\n",
    "ax1.set_ylabel('$E_j$ [N/C]')\n",
    "ax1.set_title('Valor de $E_j$ a diferentes distancias de los planos')\n",
    "ax1.set_ylim([0,2200])\n",
    "ax2.plot(x, Ej)\n",
    "ax2.set_xlabel('y [m]')\n",
    "ax2.set_ylabel('$E_j$ [N/C]')\n",
    "ax2.set_title('Valor de $E_j$ a diferentes distancias de los planos\\n(acercado)')\n",
    "ax2.set_ylim([0,2200])\n",
    "ax2.set_xlim([-0.02,0.02])"
   ]
  },
  {
   "cell_type": "markdown",
   "metadata": {},
   "source": [
    "A partir de estos gráficos podemos analizar la validez de utilizar la aproximación del campo de un plano infinito que resulta ser un campo uniforme. En nuestro problema, si nos mantenemos en la región central, lejos de los bordes, el valor de $E_j$ no varía demasiado. "
   ]
  },
  {
   "cell_type": "markdown",
   "metadata": {},
   "source": [
    "## 7. <a id='toc7_'></a>[Referencias](#toc0_)\n",
    "\n",
    "Young, Hugh D. y Freedman, Roger A., _Física universitaria con física moderna - volumen 2_, 13ra ed. (Pearson, México, 2013)  \n",
    "<a id='segmento'>[1]</a> Ejemplo 21.10: Campo de una línea de carga, pág. 706  \n",
    "<a id='hiloinfinito'>[2]</a> Ejemplo 21.10: Campo de una línea de carga, págs. 706-707  "
   ]
  },
  {
   "cell_type": "code",
   "execution_count": null,
   "metadata": {},
   "outputs": [],
   "source": [
    "# Si se abrieron muchas figuras, con el siguiente comando se puede liberar memoria.\n",
    "\n",
    "# plt.close('all')    "
   ]
  }
 ],
 "metadata": {
  "kernelspec": {
   "display_name": "utn",
   "language": "python",
   "name": "python3"
  },
  "language_info": {
   "codemirror_mode": {
    "name": "ipython",
    "version": 3
   },
   "file_extension": ".py",
   "mimetype": "text/x-python",
   "name": "python",
   "nbconvert_exporter": "python",
   "pygments_lexer": "ipython3",
   "version": "3.1.-1"
  }
 },
 "nbformat": 4,
 "nbformat_minor": 2
}

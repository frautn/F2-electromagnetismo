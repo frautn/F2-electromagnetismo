{
 "cells": [
  {
   "cell_type": "markdown",
   "metadata": {},
   "source": [
    "<table>\n",
    "<tr style=\"border:none;\">\n",
    "<td style=\"border:none;\"><a href=\"https://fra.utn.edu.ar/\">\n",
    "<image src=\"https://raw.githubusercontent.com/frautn/F2-electromagnetismo/main/assets_python/logoUTN-500.svg\"  width=\"100\">\n",
    "</a></td>\n",
    "<td style=\"border:none;\"><font face=\"times\" size=4>Física 2<br>2024<br>Electromagnetismo<br>Material para trabajo en clase</font>\n",
    "</td>\n",
    "</tr>\n",
    "</table> \n",
    "\n",
    "</br>\n",
    "\n",
    "<table>\n",
    "<tr style=\"border:none;\">\n",
    "<td style=\"border:none;\"><a href=\"https://creativecommons.org/licenses/by-nc-sa/4.0/deed.es\"><image src=\"https://raw.githubusercontent.com/frautn/F2-electromagnetismo/main/docs/assets/img/by-nc-sa.svg\" width=\"70\" /></a></td>\n",
    "<td style=\"border:none;\"><font face=\"times\" size=4>2024 Edgardo Palazzo (epalazzo@fra.utn.edu.ar)</font>\n",
    "</td>\n",
    "</tr>\n",
    "</table>\n",
    "\n",
    "# Distribuciones de carga contínuas\n",
    "\n",
    "**Parte 1**\n",
    "\n",
    "En este cuaderno los campos se calculan con métodos numéricos simples, con el objetivo de visualizar y comprender como se obtiene el campo total pensando a los objetos extensos como una distribución de muchas cargas puntuales y sumando sus contribuciones individuales.\n",
    "\n",
    "---"
   ]
  },
  {
   "cell_type": "markdown",
   "metadata": {},
   "source": [
    "**Objetivos**\n",
    "\n",
    "- Interpretar a las distribuciones contínuas como formadas por muchas cargas puntuales."
   ]
  },
  {
   "cell_type": "markdown",
   "metadata": {},
   "source": [
    "**Tabla de contenidos**<a id='toc0_'></a>    \n",
    "- 1. [Línea de carga](#toc1_)    \n",
    "  - 1.1. [Campo eléctrico de una línea de carga](#toc1_1_)    \n",
    "  - 1.2. [Potencial eléctrico de una línea de carga](#toc1_2_)    \n",
    "  - 1.3. [Segmento de línea con carga uniforme](#toc1_3_)    \n",
    "  - 1.4. [Cálculo exacto del campo de un segmento](#toc1_4_)    \n",
    "  - 1.5. [Segmento muy largo (línea infinita) con carga uniforme](#toc1_5_)    \n",
    "- 2. [Ejercicio XX.2: Dos segmentos](#toc2_)    \n",
    "- 3. [Ejercicio XX.3: Anillo cargado uniformemente](#toc3_)    \n",
    "  - 3.1. [Disco con carga uniforme](#toc3_1_)    \n",
    "  - 3.2. [Plano muy grande (infinito) con carga uniforme](#toc3_2_)    \n",
    "- 4. [Ejercicio XX.3: Dos planos](#toc4_)    \n",
    "\n",
    "<!-- vscode-jupyter-toc-config\n",
    "\tnumbering=true\n",
    "\tanchor=true\n",
    "\tflat=false\n",
    "\tminLevel=2\n",
    "\tmaxLevel=6\n",
    "\t/vscode-jupyter-toc-config -->\n",
    "<!-- THIS CELL WILL BE REPLACED ON TOC UPDATE. DO NOT WRITE YOUR TEXT IN THIS CELL -->"
   ]
  },
  {
   "cell_type": "code",
   "execution_count": 39,
   "metadata": {},
   "outputs": [],
   "source": [
    "import matplotlib.pyplot as plt\n",
    "import numpy as np\n",
    "import sys\n",
    "from math import sqrt\n",
    "\n",
    "np.seterr(divide='ignore')  # Elimina advertencia al dividir por cero.\n",
    "%precision %.3f\n",
    "\n",
    "import importlib\n",
    "# import sympy as sym\n",
    "# Necesario para que pylance ande bien con sympy:\n",
    "sym = importlib.import_module('sympy')\n",
    "sym.init_printing(use_unicode=False, wrap_line=False)\n",
    "\n",
    "\n",
    "# ------------------------------------\n",
    "# Lo siguiente es necesario para que funcione en Google Colab.\n",
    "try:\n",
    "  from libem import plotEf, plotEfcontribuciones, plotEfVector, equipotencialesPuntuales\n",
    "except:\n",
    "  # No descarga los archivos (aunque sí descarga .git)\n",
    "  !git clone -n https://github.com/frautn/F2-electromagnetismo.git --depth 1\n",
    "  !cd F2-electromagnetismo;git checkout HEAD modulos/libem.py\n",
    "  sys.path.insert(0, 'F2-electromagnetismo/modulos')\n",
    "  from libem import plotEf, plotEfcontribuciones, plotEfVector, equipotencialesPuntuales\n",
    "\n",
    "try:\n",
    "  import google.colab\n",
    "  IN_COLAB = True\n",
    "except:\n",
    "  IN_COLAB = False\n",
    "\n",
    "if IN_COLAB:\n",
    "  !pip --quiet install ipympl\n",
    "  from google.colab import output\n",
    "  output.enable_custom_widget_manager()\n",
    "# Fin Google colab.\n",
    "# ------------------------------------\n",
    "\n",
    "# %precision 3\n",
    "\n",
    "# Figuras interactivas.\n",
    "# Comentar si se quiere mantener las figuras luego de cerrar el cuaderno.\n",
    "# %matplotlib widget"
   ]
  },
  {
   "cell_type": "markdown",
   "metadata": {},
   "source": [
    "## 1. <a id='toc1_'></a>[Línea de carga](#toc0_)\n",
    "\n",
    "### 1.1. <a id='toc1_1_'></a>[Campo eléctrico de una línea de carga](#toc0_)\n",
    "\n",
    "Podemos pensar que una línea contínua de carga total $Q$ está formada por $N$ partículas de carga $q_i$ de forma que:\n",
    "$$\n",
    "Q = \\sum_{i=1}^N q_i ~ . \\tag{1}\n",
    "$$\n",
    "\n",
    "El campo eléctrico producido por cada carga $q_i$ ubicada en la posición $\\vec{\\text{x}}_i$ a lo largo de la línea, puede escribirse como:\n",
    "$$\n",
    "\\vec{E}_i(\\vec{\\text{x}}) = \\frac{1}{4\\pi\\varepsilon_0} \\frac{q_i}{|\\vec{\\text{r}}_i|^3} \\vec{\\text{r}}_i\\, , \\tag{2}\n",
    "$$\n",
    "\n",
    "donde\n",
    "* $q_i$ es la carga eléctrica de la partícula i-ésima \n",
    "* $\\vec{\\text{r}}_i$ es el vector diferencia entre la posición donde se quiere obtener el vector de campo eléctrico ($\\vec{\\text{x}}$) y la posición de la partícula cargada ($\\vec{\\text{x}}_i$), es decir: \n",
    "$$\n",
    "\\vec{\\text{r}}_i = (x-x_i)\\hat{i} + (y-y_i)\\hat{j} + (z-z_i)\\hat{k} ~ . \\tag{3}\n",
    "$$\n",
    "\n",
    "En la siguiente figura se muestran a modo de ejemplo los vectores correspondientes a la primera ($q_1$) y a la última ($q_N$) cargas a lo largo de una línea curvada. \n",
    "\n",
    "<div style=\"text-align: center;\">\n",
    "       <image src=\"https://raw.githubusercontent.com/frautn/F2-electromagnetismo/main/modulos/img/em02_linea.svg\">\n",
    "</div>\n",
    "\n",
    "Por último, para obtener el campo total es necesario sumar los vectores de los campos de todas las $q_i$ a lo largo de la línea:\n",
    "$$\n",
    "\\vec{E}(\\vec{\\text{x}}) = \\sum_{i=1}^N \\vec{E}_i(\\vec{\\text{x}})  ~ . \\tag{4}\n",
    "$$\n",
    "\n",
    "Para calcular el campo eléctrico reutilizaremos la función que escribimos en el cuaderno [em01_campo_electrico.ipynb - sección 2.3](em01_campo_electrico.ipynb), donde ya sumábamos el campo producido por $N$ cargas.\n"
   ]
  },
  {
   "cell_type": "code",
   "execution_count": 3,
   "metadata": {},
   "outputs": [],
   "source": [
    "def E(x, y, z, Q):\n",
    "    \"\"\"Calcula las componentes del campo eléctrico en N/C.\n",
    "    Ingresar valores de x,y,z en metros y q en coulomb.\n",
    "    Q es una lista de la forma:\n",
    "    Q = [\n",
    "        [q1,x1,y1,z1],\n",
    "        [q2,x2,y2,z2],\n",
    "        ...\n",
    "        [qN,xN,yN,zN]\n",
    "    ]\n",
    "    \"\"\"\n",
    "    k = 9E9   #Constante de Coulomb en las unidades correspondientes.\n",
    "\n",
    "    Ei,Ej,Ek = 0,0,0\n",
    "    for qi in Q:\n",
    "        r = ((x - qi[1])**2 + (y - qi[2])**2 + (z - qi[3])**2)**(3/2)\n",
    "        Ei = Ei + k * qi[0] * (x - qi[1]) / r\n",
    "        Ej = Ej + k * qi[0] * (y - qi[2]) / r\n",
    "        Ek = Ek + k * qi[0] * (z - qi[3]) / r\n",
    "\n",
    "    return Ei, Ej, Ek"
   ]
  },
  {
   "cell_type": "markdown",
   "metadata": {},
   "source": [
    "### 1.2. <a id='toc1_2_'></a>[Potencial eléctrico de una línea de carga](#toc0_)"
   ]
  },
  {
   "cell_type": "code",
   "execution_count": null,
   "metadata": {},
   "outputs": [],
   "source": [
    "def V(x,y,z,Q):\n",
    "    \"\"\"Calcula potencial eléctrico en V.\n",
    "    Ingresar valores de x,y,z en metros y q en coulomb.\n",
    "    Q es una lista de la forma:\n",
    "    Q = [\n",
    "        [q1,x1,y1,z1],\n",
    "        [q2,x2,y2,z2],\n",
    "        ...\n",
    "        [qN,xN,yN,zN]\n",
    "    ]\n",
    "    \"\"\"\n",
    "    k = 9E9   #Constante de Coulomb en las unidades correspondientes.\n",
    "\n",
    "    V = 0\n",
    "    for qi in Q:\n",
    "        r = ((x - qi[1])**2 + (y - qi[2])**2 + (z - qi[3])**2)**(1/2)\n",
    "        V = V + k * qi[0] / r\n",
    "\n",
    "    return V"
   ]
  },
  {
   "cell_type": "markdown",
   "metadata": {},
   "source": [
    "### 1.3. <a id='toc1_3_'></a>[Segmento de línea con carga uniforme](#toc0_)\n",
    "\n",
    "Segmento de longitud $L = 20 \\text{ cm}$, ubicado sobre el eje $x$, centrado en el origen y con carga total $Q = 1\\text{ nC}$ distribuida uniformemente.  \n",
    "\n",
    "<div style=\"text-align: center;\">\n",
    "       <image src=\"https://raw.githubusercontent.com/frautn/F2-electromagnetismo/main/modulos/img/em03_segmento.svg\" height=\"280\">\n",
    "</div>\n",
    "\n",
    "El resultado exacto para el módulo del campo eléctrico en el punto $P$ mostrado en la figura se puede calcular con la siguiente fórmula:\n",
    "\n",
    "$$\n",
    "|\\vec{E}(\\vec{\\text{x}}_P)| = \\frac{2kQ}{a} \\frac{1}{\\sqrt{L^2 + 4a^2}}\\ . \\tag{5}\n",
    "$$\n",
    "\n",
    "Calculemos el módulo del campo si la distancia del punto sobre el eje de simetría es $a = 5\\text{ cm}$, usando la fórmula 5:"
   ]
  },
  {
   "cell_type": "code",
   "execution_count": 27,
   "metadata": {},
   "outputs": [
    {
     "data": {
      "image/png": "[encoded data removed]",
      "text/latex": [
       "$\\displaystyle 1609.96894379985$"
      ],
      "text/plain": [
       "1609.9689437998484"
      ]
     },
     "execution_count": 27,
     "metadata": {},
     "output_type": "execute_result"
    }
   ],
   "source": [
    "k = 9E9\n",
    "Q = 1E-9\n",
    "L = 0.2\n",
    "a = 0.05\n",
    "\n",
    "(2*k*Q/a)*(1/sqrt(L**2 + 4*a**2))"
   ]
  },
  {
   "cell_type": "markdown",
   "metadata": {},
   "source": [
    "Ahora aproximemos al segmento como si fueran 5 cargas puntuales, cada una con carga $q = Q/5$, y calculemos el campo usando nuestra función E(x, y, z, Q).\n",
    " \n",
    "<div style=\"text-align: center;\">\n",
    "       <image src=\"https://raw.githubusercontent.com/frautn/F2-electromagnetismo/main/modulos/img/em03_segmento-partido.svg\" height=\"75\">\n",
    "</div>\n"
   ]
  },
  {
   "cell_type": "code",
   "execution_count": 28,
   "metadata": {},
   "outputs": [
    {
     "data": {
      "image/png": "[encoded data removed]",
      "text/latex": [
       "$\\displaystyle \\left( 0.0, \\  1620.02249956157, \\  0.0\\right)$"
      ],
      "text/plain": [
       "(0.0, 1620.022499561568, 0.0)"
      ]
     },
     "execution_count": 28,
     "metadata": {},
     "output_type": "execute_result"
    }
   ],
   "source": [
    "# El valor de cada carga es Q/N.\n",
    "q = 1E-9/5\n",
    "\n",
    "Q = [\n",
    "    [q,-0.08,0,0],\n",
    "    [q,-0.04,0,0],\n",
    "    [q,    0,0,0],\n",
    "    [q, 0.04,0,0],\n",
    "    [q, 0.08,0,0],\n",
    "]\n",
    "\n",
    "E(0,0.05,0,Q)"
   ]
  },
  {
   "cell_type": "markdown",
   "metadata": {},
   "source": [
    "Nuestra aproximación es bastante buena. Lo que estamos calculando es la contribución de cada porción del segmento en el cálculo del campo total en el punto $P$, es decir, la suma de los siguientes vectores:"
   ]
  },
  {
   "cell_type": "code",
   "execution_count": 29,
   "metadata": {},
   "outputs": [
    {
     "data": {
      "image/png": "[encoded data removed]",
      "text/plain": [
       "<Figure size 500x500 with 1 Axes>"
      ]
     },
     "metadata": {},
     "output_type": "display_data"
    }
   ],
   "source": [
    "x = [0, 0.05, 0]\n",
    "plotEfcontribuciones(E, Q, x, limites=[-0.15, 0.15, -0.05, 0.15], scale=3)"
   ]
  },
  {
   "cell_type": "markdown",
   "metadata": {},
   "source": [
    "Si queremos mejorar nuestra aproximación, necesitamos partir al segmento en más cargas. El nuevo desafío es escribir la configuración de cargas cuando son muchas. A continuación utilizamos un ciclo para generar la cantidad de cargas que consideremos necesaria."
   ]
  },
  {
   "cell_type": "code",
   "execution_count": 34,
   "metadata": {},
   "outputs": [
    {
     "data": {
      "image/png": "[encoded data removed]",
      "text/latex": [
       "$\\displaystyle \\left( 7.63833440942108 \\cdot 10^{-14}, \\  1610.02043781661, \\  0.0\\right)$"
      ],
      "text/plain": [
       "(7.638334409421077e-14, 1610.0204378166084, 0.0)"
      ]
     },
     "execution_count": 34,
     "metadata": {},
     "output_type": "execute_result"
    }
   ],
   "source": [
    "# Carga total del objeto:\n",
    "Qtotal = 1E-9\n",
    "# Longitud del segmento (en m):\n",
    "L = 20E-2\n",
    "# Número de cargas en que se divide el cuerpo extenso:\n",
    "N = 50\n",
    "\n",
    "dq = Qtotal/N\n",
    "# Separación entre cargas:\n",
    "dx = L/N\n",
    "# Valor inicial de x (el centro del primer \"diferencial\" de longitud dx):\n",
    "x0 = -L/2 + dx/2\n",
    "\n",
    "Q = []\n",
    "for i in range(N):\n",
    "    Q = Q + [[dq, x0+i*dx,0,0]]\n",
    "\n",
    "E(0,0.05,0,Q)\n"
   ]
  },
  {
   "cell_type": "markdown",
   "metadata": {},
   "source": [
    "Grafiquemos algunos vectores de campo eléctrico para verificar que está funcionando bien."
   ]
  },
  {
   "cell_type": "code",
   "execution_count": 38,
   "metadata": {},
   "outputs": [
    {
     "data": {
      "image/png": "[encoded data removed]",
      "text/plain": [
       "<Figure size 500x500 with 1 Axes>"
      ]
     },
     "metadata": {},
     "output_type": "display_data"
    }
   ],
   "source": [
    "X = [[0,0.1,0],[0,-0.1,0],[-0.2,0,0],[0.2,0,0],[-0.1,0.1,0],[0.1,0.1,0],[-0.1,-0.1,0],[0.1,-0.1,0]]\n",
    "plotEfVector(E, Q, X, limites=[-0.3,0.3,-0.3,0.3], title=\"Segmento con carga uniforme\", scale=10)"
   ]
  },
  {
   "cell_type": "markdown",
   "metadata": {},
   "source": [
    "Y las líneas de campo y equipotenciales del segmento."
   ]
  },
  {
   "cell_type": "code",
   "execution_count": 41,
   "metadata": {},
   "outputs": [
    {
     "ename": "NameError",
     "evalue": "name 'V' is not defined",
     "output_type": "error",
     "traceback": [
      "\u001b[0;31m---------------------------------------------------------------------------\u001b[0m",
      "\u001b[0;31mNameError\u001b[0m                                 Traceback (most recent call last)",
      "Cell \u001b[0;32mIn[41], line 3\u001b[0m\n\u001b[1;32m      1\u001b[0m levels \u001b[38;5;241m=\u001b[39m [\u001b[38;5;241m40\u001b[39m, \u001b[38;5;241m60\u001b[39m, \u001b[38;5;241m80\u001b[39m, \u001b[38;5;241m120\u001b[39m, \u001b[38;5;241m240\u001b[39m, \u001b[38;5;241m360\u001b[39m, \u001b[38;5;241m450\u001b[39m]\n\u001b[0;32m----> 3\u001b[0m equipotencialesPuntuales(Q, \u001b[43mV\u001b[49m, levels\u001b[38;5;241m=\u001b[39mlevels, EF\u001b[38;5;241m=\u001b[39m\u001b[38;5;28;01mTrue\u001b[39;00m)\n",
      "\u001b[0;31mNameError\u001b[0m: name 'V' is not defined"
     ]
    }
   ],
   "source": [
    "levels = [40, 60, 80, 120, 240, 360, 450]\n",
    "\n",
    "equipotencialesPuntuales(Q, V, levels=levels, EF=True)"
   ]
  },
  {
   "cell_type": "markdown",
   "metadata": {},
   "source": [
    "### 1.4. <a id='toc1_4_'></a>[Cálculo exacto del campo de un segmento](#toc0_)\n",
    "\n",
    "Considerando que la distribución de carga es contínua, la suma que estamos realizando\n",
    "$$\n",
    "\\vec{E}(\\vec{\\text{x}}) = \\frac{1}{4\\pi\\varepsilon_0} \\sum_{i=1}^N \\frac{q_i}{|\\vec{\\text{r}}_i|^3} \\vec{\\text{r}}_i\\, , \\tag{4}\n",
    "$$\n",
    "\n",
    "cuando el objeto se divide en cargas infinitesimales, se puede expresar como la siguiente integral:\n",
    "\n",
    "$$\n",
    "\\vec{E}(\\vec{\\text{x}}) = \\frac{1}{4\\pi\\varepsilon_0} \\int \\frac{\\vec{\\text{r}}}{|\\vec{\\text{r}}|^3} dq   ~ . \\tag{5}\n",
    "$$\n",
    "\n",
    "En el caso de una carga distribuida a lo largo de una línea, la carga infinitesimal es\n",
    "$$\n",
    "dq = \\lambda dl ~ \\tag{6}\n",
    "$$\n",
    "siendo\n",
    "* $\\lambda$ una densidad lineal de carga (carga / longitud), que puede ser función de la posición\n",
    "* $dl$ un diferencial de longitud, paralelo a la línea de carga.\n",
    "\n",
    "Volviendo al caso del segmento sobre el eje $x$, el diferencial de longitud es $dl = dx$. Por lo tanto, si el segmento se desarrolla desde $x = a$ hasta $x = b$, el campo que genera se calcula como:\n",
    "\n",
    "$$\n",
    "\\vec{E}(\\vec{\\text{x}}) = \\frac{1}{4\\pi\\varepsilon_0} \\int_a^b \\frac{\\vec{\\text{r}}}{|\\vec{\\text{r}}|^3} \\lambda dx = \\frac{1}{4\\pi\\varepsilon_0} \\int_a^b \\frac{(x - x')\\hat{i} + y\\hat{j} + z\\hat{k}}{((x-x')^2+y^2+z^2))^{3/2}} \\lambda dx'  ~ . \\tag{7}\n",
    "$$\n",
    "\n",
    "\n",
    "A continuación este cálculo en Python:"
   ]
  },
  {
   "cell_type": "code",
   "execution_count": null,
   "metadata": {},
   "outputs": [
    {
     "data": {
      "image/png": "[encoded data removed]",
      "text/latex": [
       "$\\displaystyle E_{i} = \\frac{k \\lambda}{\\sqrt{b^{2} - 2 b x + x^{2} + y^{2} + z^{2}}} - \\frac{k \\lambda}{\\sqrt{a^{2} - 2 a x + x^{2} + y^{2} + z^{2}}}$"
      ],
      "text/plain": [
       "                   k*lambda                         k*lambda           \n",
       "E_{i} = ------------------------------ - ------------------------------\n",
       "           ___________________________      ___________________________\n",
       "          /  2            2    2    2      /  2            2    2    2 \n",
       "        \\/  b  - 2*b*x + x  + y  + z     \\/  a  - 2*a*x + x  + y  + z  "
      ]
     },
     "metadata": {},
     "output_type": "display_data"
    },
    {
     "data": {
      "image/png": "[encoded data removed]",
      "text/latex": [
       "$\\displaystyle E_{j} = - \\frac{k \\lambda y \\left(a - x\\right)}{y^{2} \\sqrt{y^{2} + z^{2} + \\left(a - x\\right)^{2}} + z^{2} \\sqrt{y^{2} + z^{2} + \\left(a - x\\right)^{2}}} + \\frac{k \\lambda y \\left(b - x\\right)}{y^{2} \\sqrt{y^{2} + z^{2} + \\left(b - x\\right)^{2}} + z^{2} \\sqrt{y^{2} + z^{2} + \\left(b - x\\right)^{2}}}$"
      ],
      "text/plain": [
       "                             k*lambda*y*(a - x)                                        k*lambda*y*(b - x)                  \n",
       "E_{j} = - ------------------------------------------------------- + -------------------------------------------------------\n",
       "                ____________________         ____________________         ____________________         ____________________\n",
       "           2   /  2    2          2     2   /  2    2          2     2   /  2    2          2     2   /  2    2          2 \n",
       "          y *\\/  y  + z  + (a - x)   + z *\\/  y  + z  + (a - x)     y *\\/  y  + z  + (b - x)   + z *\\/  y  + z  + (b - x)  "
      ]
     },
     "metadata": {},
     "output_type": "display_data"
    },
    {
     "data": {
      "image/png": "[encoded data removed]",
      "text/latex": [
       "$\\displaystyle E_{k} = - \\frac{k \\lambda z \\left(a - x\\right)}{y^{2} \\sqrt{y^{2} + z^{2} + \\left(a - x\\right)^{2}} + z^{2} \\sqrt{y^{2} + z^{2} + \\left(a - x\\right)^{2}}} + \\frac{k \\lambda z \\left(b - x\\right)}{y^{2} \\sqrt{y^{2} + z^{2} + \\left(b - x\\right)^{2}} + z^{2} \\sqrt{y^{2} + z^{2} + \\left(b - x\\right)^{2}}}$"
      ],
      "text/plain": [
       "                             k*lambda*z*(a - x)                                        k*lambda*z*(b - x)                  \n",
       "E_{k} = - ------------------------------------------------------- + -------------------------------------------------------\n",
       "                ____________________         ____________________         ____________________         ____________________\n",
       "           2   /  2    2          2     2   /  2    2          2     2   /  2    2          2     2   /  2    2          2 \n",
       "          y *\\/  y  + z  + (a - x)   + z *\\/  y  + z  + (a - x)     y *\\/  y  + z  + (b - x)   + z *\\/  y  + z  + (b - x)  "
      ]
     },
     "metadata": {},
     "output_type": "display_data"
    }
   ],
   "source": [
    "# X: variable de integración.\n",
    "# El resultado de la integral depende de la zona donde ubicamos el punto campo.\n",
    "# En este caso resolvemos solo para y>0 y z>0.\n",
    "k,l,x,X,a,b = sym.symbols('k lambda x X a b')\n",
    "y = sym.symbols('y', positive=True)\n",
    "z = sym.symbols('z', positive=True)\n",
    "\n",
    "Ei = sym.Eq(\n",
    "  sym.Symbol('E_{i}'),\n",
    "  sym.integrate(k*l*(x-X)/(sym.sqrt((x-X)**2+y**2+z**2))**3,(X,a,b))\n",
    ")\n",
    "Ej = sym.Eq(\n",
    "  sym.Symbol('E_{j}'),\n",
    "  sym.integrate(k*l*y/(sym.sqrt((x-X)**2+y**2+z**2))**3,(X,a,b))\n",
    ")\n",
    "Ek = sym.Eq(\n",
    "  sym.Symbol('E_{k}'),\n",
    "  sym.integrate(k*l*z/(sym.sqrt((x-X)**2+y**2+z**2))**3,(X,a,b))\n",
    ")\n",
    "\n",
    "display(Ei)\n",
    "display(Ej)\n",
    "display(Ek)"
   ]
  },
  {
   "cell_type": "markdown",
   "metadata": {},
   "source": [
    "Podemos usar estas expresiones para obtener las componentes de $E$ reemplazando los valores de $\\lambda$, $a$, $b$ y $k$ (se podría agregar un medio dieléctrico aquí, calculando el valor de $k$ para el correspondiente $\\varepsilon_R$):"
   ]
  },
  {
   "cell_type": "code",
   "execution_count": null,
   "metadata": {},
   "outputs": [
    {
     "data": {
      "image/png": "[encoded data removed]",
      "text/latex": [
       "$\\displaystyle E_{i} = - \\frac{9.0}{\\sqrt{x^{2} + 1.0 x + y^{2} + z^{2} + 0.25}} + \\frac{9.0}{\\sqrt{x^{2} - 1.0 x + y^{2} + z^{2} + 0.25}}$"
      ],
      "text/plain": [
       "                        9.0                              9.0             \n",
       "E_{i} = - -------------------------------- + ----------------------------\n",
       "             _____________________________      _________________________\n",
       "            /  2            2    2             /  2        2    2        \n",
       "          \\/  x  + 1.0*x + y  + z  + 0.25    \\/  x  - x + y  + z  + 0.25 "
      ]
     },
     "metadata": {},
     "output_type": "display_data"
    },
    {
     "data": {
      "image/png": "[encoded data removed]",
      "text/latex": [
       "$\\displaystyle E_{j} = \\frac{9.0 y \\left(0.5 - x\\right)}{y^{2} \\sqrt{y^{2} + z^{2} + \\left(0.5 - x\\right)^{2}} + z^{2} \\sqrt{y^{2} + z^{2} + \\left(0.5 - x\\right)^{2}}} - \\frac{9.0 y \\left(- x - 0.5\\right)}{y^{2} \\sqrt{y^{2} + z^{2} + \\left(- x - 0.5\\right)^{2}} + z^{2} \\sqrt{y^{2} + z^{2} + \\left(- x - 0.5\\right)^{2}}}$"
      ],
      "text/plain": [
       "                              9.0*y*(0.5 - x)                                                9.0*y*(-x - 0.5)                      \n",
       "E_{j} = ----------------------------------------------------------- - -------------------------------------------------------------\n",
       "              ______________________         ______________________         _______________________         _______________________\n",
       "         2   /  2    2            2     2   /  2    2            2     2   /  2    2             2     2   /  2    2             2 \n",
       "        y *\\/  y  + z  + (0.5 - x)   + z *\\/  y  + z  + (0.5 - x)     y *\\/  y  + z  + (-x - 0.5)   + z *\\/  y  + z  + (-x - 0.5)  "
      ]
     },
     "metadata": {},
     "output_type": "display_data"
    },
    {
     "data": {
      "image/png": "[encoded data removed]",
      "text/latex": [
       "$\\displaystyle E_{k} = \\frac{9.0 z \\left(0.5 - x\\right)}{y^{2} \\sqrt{y^{2} + z^{2} + \\left(0.5 - x\\right)^{2}} + z^{2} \\sqrt{y^{2} + z^{2} + \\left(0.5 - x\\right)^{2}}} - \\frac{9.0 z \\left(- x - 0.5\\right)}{y^{2} \\sqrt{y^{2} + z^{2} + \\left(- x - 0.5\\right)^{2}} + z^{2} \\sqrt{y^{2} + z^{2} + \\left(- x - 0.5\\right)^{2}}}$"
      ],
      "text/plain": [
       "                              9.0*z*(0.5 - x)                                                9.0*z*(-x - 0.5)                      \n",
       "E_{k} = ----------------------------------------------------------- - -------------------------------------------------------------\n",
       "              ______________________         ______________________         _______________________         _______________________\n",
       "         2   /  2    2            2     2   /  2    2            2     2   /  2    2             2     2   /  2    2             2 \n",
       "        y *\\/  y  + z  + (0.5 - x)   + z *\\/  y  + z  + (0.5 - x)     y *\\/  y  + z  + (-x - 0.5)   + z *\\/  y  + z  + (-x - 0.5)  "
      ]
     },
     "metadata": {},
     "output_type": "display_data"
    }
   ],
   "source": [
    "Eii = Ei.subs([(k, 9E9), (l, 1E-9), (a, -0.5), (b, 0.5)])\n",
    "Ejj = Ej.subs([(k, 9E9), (l, 1E-9), (a, -0.5), (b, 0.5)])\n",
    "Ekk = Ek.subs([(k, 9E9), (l, 1E-9), (a, -0.5), (b, 0.5)])\n",
    "display(Eii)\n",
    "display(Ejj)\n",
    "display(Ekk)"
   ]
  },
  {
   "cell_type": "markdown",
   "metadata": {},
   "source": [
    "Y ahora podemos evaluar en la posición que nos interese. Recordar que estos resultados son válidos fuera del eje $x$, con $y>0$ y $z>0$."
   ]
  },
  {
   "cell_type": "code",
   "execution_count": null,
   "metadata": {},
   "outputs": [
    {
     "data": {
      "image/png": "[encoded data removed]",
      "text/latex": [
       "$\\displaystyle E_{i} = 0$"
      ],
      "text/plain": [
       "E_{i} = 0"
      ]
     },
     "metadata": {},
     "output_type": "display_data"
    },
    {
     "data": {
      "image/png": "[encoded data removed]",
      "text/latex": [
       "$\\displaystyle E_{j} = 176.504521624366$"
      ],
      "text/plain": [
       "E_{j} = 176.504521624366"
      ]
     },
     "metadata": {},
     "output_type": "display_data"
    },
    {
     "data": {
      "image/png": "[encoded data removed]",
      "text/latex": [
       "$\\displaystyle E_{k} = 0$"
      ],
      "text/plain": [
       "E_{k} = 0"
      ]
     },
     "metadata": {},
     "output_type": "display_data"
    }
   ],
   "source": [
    "display(\n",
    "\n",
    "    Eii.subs([(x,0), (y,0.1), (z,0)]),\n",
    "    Ejj.subs([(x,0), (y,0.1), (z,0)]),\n",
    "    Ekk.subs([(x,0), (y,0.1), (z,0)]),\n",
    "\n",
    "    )"
   ]
  },
  {
   "cell_type": "markdown",
   "metadata": {},
   "source": [
    "### 1.5. <a id='toc1_5_'></a>[Segmento muy largo (línea infinita) con carga uniforme](#toc0_)\n",
    "\n",
    "El cálculo análitico para obtener el campo eléctrico producido por una línea recta de carga infinita es mucho más sencillo que el correspondiente a un segmento de longitud finita. Es por ello que se aprovecha el resultado analítico de la línea infinita para aproximar el campo de un segmento en regiones donde se lo puede considerar muy largo, cerca del centro del segmento.\n",
    "\n",
    "A continuación compararemos los resultados calculando el campo cerca del centro de un segmento utilizando tres métodos: la aproximación de línea recta infinita, el cálculo numérico que estamos utilizando para sumar pequeñas cargas, y el resultado análitico exacto integrando sobre el segmento.\n",
    "\n",
    "Campo de un hilo infinito:\n",
    "\n",
    "$$\n",
    "    \\vec{E}(r) = \\frac{2k\\lambda}{r} \\hat{r} ~ , \\tag{40}\n",
    "$$\n",
    "\n",
    "donde\n",
    "* $r$ es la distancia entre el punto donde se calcula el campo y la línea cargada\n",
    "* $\\hat{r}$ es la dirección radial respecto de la línea de carga\n",
    "* $\\lambda$ es la densidad lineal de carga"
   ]
  },
  {
   "cell_type": "code",
   "execution_count": null,
   "metadata": {},
   "outputs": [],
   "source": [
    "def Ehilo(x, y, z, dq):\n",
    "    \"\"\"Calcula las componentes del campo eléctrico en N/C para un hilo\n",
    "    infinito ubicado sobre el eje i, con densidad de carga dq.\n",
    "    Ingresar valores de x,y,z en m y dq en C/m.\n",
    "    \"\"\"\n",
    "    k = 9E9   #Constante de Coulomb en las unidades correspondientes.\n",
    "\n",
    "    # Módulo de r al cuadrado:\n",
    "    r2 = y**2+z**2\n",
    "\n",
    "    Ej = 2 * k * dq * y / r2\n",
    "    Ek = 2 * k * dq * z / r2\n",
    "\n",
    "    return 0, Ej, Ek"
   ]
  },
  {
   "cell_type": "markdown",
   "metadata": {},
   "source": [
    "Verifiquemos que se obtiene lo esperado:"
   ]
  },
  {
   "cell_type": "code",
   "execution_count": null,
   "metadata": {},
   "outputs": [],
   "source": [
    "#Calculo de E en distintos r y angulos."
   ]
  },
  {
   "cell_type": "markdown",
   "metadata": {},
   "source": [
    "El cálculo analítico exacto para el campo de un segmento de longitud $L$ sobre el eje $i$, centrado en el origen, es:\n",
    "$$\n",
    "\\vec{E}(\\vec{\\text{x}}) = ~ \\tag{5}\n",
    "$$"
   ]
  },
  {
   "cell_type": "code",
   "execution_count": null,
   "metadata": {},
   "outputs": [],
   "source": []
  },
  {
   "cell_type": "code",
   "execution_count": null,
   "metadata": {},
   "outputs": [],
   "source": []
  },
  {
   "cell_type": "markdown",
   "metadata": {},
   "source": [
    "## 2. <a id='toc2_'></a>[Ejercicio XX.2: Dos segmentos](#toc0_)"
   ]
  },
  {
   "cell_type": "code",
   "execution_count": null,
   "metadata": {},
   "outputs": [],
   "source": []
  },
  {
   "cell_type": "markdown",
   "metadata": {},
   "source": [
    "## 3. <a id='toc3_'></a>[Ejercicio XX.3: Anillo cargado uniformemente](#toc0_)\n",
    "\n",
    "Anillo de radio $R$ sobre el plano $ij$ (es decir, $z=0$), centrado en el origen, con carga total $Q$ distribuida uniformemente."
   ]
  },
  {
   "cell_type": "code",
   "execution_count": null,
   "metadata": {},
   "outputs": [],
   "source": [
    "# Carga total del objeto:\n",
    "Qtotal = 1E-9\n",
    "# Longitud del segmento (en m):\n",
    "R = 20E-2\n",
    "# Número de cargas en que se divide el cuerpo extenso:\n",
    "N = 100\n",
    "\n",
    "dq = Qtotal/N\n",
    "# Separación angular entre cargas:\n",
    "dt = 2*np.pi/N\n",
    "# Angulo de la primer carga (el centro del primer \"diferencial\" de longitud dx=R*dt):\n",
    "t0 = dt/2\n",
    "\n",
    "Q = []\n",
    "for i in np.arange(N):\n",
    "    Q = Q + [[dq, R*np.cos(t0+i*dt), R*np.sin(t0+i*dt),0]]\n"
   ]
  },
  {
   "cell_type": "markdown",
   "metadata": {},
   "source": [
    "Algunos vectores de ejemplo:"
   ]
  },
  {
   "cell_type": "code",
   "execution_count": null,
   "metadata": {},
   "outputs": [],
   "source": [
    "# X = [[0,0.1,0],[0,-0.1,0],[-0.2,0,0],[0.2,0,0],[-0.1,0.1,0],[0.1,0.1,0],[-0.1,-0.1,0],[0.1,-0.1,0]]\n",
    "X = [[0,0.1,0], [0.2,0.2,0], [0.1, -0.1,0]]\n",
    "em.plotEfvector(E, Q, X, limites=[-0.3,0.3,-0.3,0.3], title=\"Anillo con carga uniforme\", scale=10)"
   ]
  },
  {
   "cell_type": "code",
   "execution_count": null,
   "metadata": {},
   "outputs": [],
   "source": [
    "em.plotEf(E, Q, dx=0.3, density=0.5, title='Líneas de campo de un\\n anillo con carga uniforme',\n",
    "          figsize=(6,6))\n"
   ]
  },
  {
   "cell_type": "code",
   "execution_count": null,
   "metadata": {},
   "outputs": [],
   "source": [
    "# Para ver las líneas sobre el plano $ik$, hacemos trampa y\n",
    "# escribimos el anillo en el plano $ik$ y graficamos la líneas\n",
    "# en el plano $ij$.\n",
    "\n",
    "Qr = []\n",
    "for i in np.arange(N):\n",
    "    Qr = Qr + [[dq, R*np.cos(t0+i*dt), 0, R*np.sin(t0+i*dt)]]\n",
    "\n",
    "em.plotEf(E, Qr, dx=0.3, density=0.5, title='Líneas de campo de un\\n anillo con carga uniforme',\n",
    "          figsize=(6,6))\n"
   ]
  },
  {
   "cell_type": "markdown",
   "metadata": {},
   "source": [
    "### 3.1. <a id='toc3_1_'></a>[Disco con carga uniforme](#toc0_)\n",
    "\n",
    "El disco como una suma de anillos."
   ]
  },
  {
   "cell_type": "code",
   "execution_count": null,
   "metadata": {},
   "outputs": [],
   "source": [
    "# Carga total del objeto:\n",
    "Qtotal = 1E-9\n",
    "# Longitud del segmento (en m):\n",
    "R = 20E-2\n",
    "# Número de cargas en que se divide el cuerpo extenso: N*Nanillos\n",
    "N = 20\n",
    "Nanillos = 5\n",
    "\n",
    "dq = Qtotal/(N*Nanillos)\n",
    "dR = R/Nanillos\n",
    "# Separación angular entre cargas:\n",
    "dt = 2*np.pi/N\n",
    "# Angulo de la primer carga (el centro del primer \"diferencial\" de longitud dx=R*dt):\n",
    "t0 = dt/2\n",
    "# Radio del primer anillo:\n",
    "R0 = dR/2\n",
    "\n",
    "Q = []\n",
    "for i in np.arange(N):\n",
    "    for j in np.arange(Nanillos):\n",
    "        Q = Q + [[dq, (R0+j*dR)*np.cos(t0+i*dt), 0, (R0+j*dR)*np.sin(t0+i*dt)]]"
   ]
  },
  {
   "cell_type": "code",
   "execution_count": null,
   "metadata": {},
   "outputs": [],
   "source": [
    "em.plotEf(E, Q, dx=0.5, density=0.5, title='Líneas de campo de un\\n disco con carga uniforme',\n",
    "          figsize=(6,6))\n"
   ]
  },
  {
   "cell_type": "code",
   "execution_count": null,
   "metadata": {},
   "outputs": [],
   "source": [
    "# La figura en 3D puede demorar mucho tiempo dependiendo de la cantidad de cargas que se utilicen.\n",
    "\n",
    "# em.plotEfvector3d(E, Q, dx=0.3, w=4, figsize=(6,6))"
   ]
  },
  {
   "cell_type": "markdown",
   "metadata": {},
   "source": [
    "### 3.2. <a id='toc3_2_'></a>[Plano muy grande (infinito) con carga uniforme](#toc0_)\n",
    "\n",
    "El plano infinito no existe, obviamente. Comprobemos que el campo cerca de un plano muy grande está bien aproximado por el campo de un plano infinito.\n",
    "\n",
    "Podemos utilizar el resultado enterior y analizar los resultados miuy cerca del centro."
   ]
  },
  {
   "cell_type": "code",
   "execution_count": null,
   "metadata": {},
   "outputs": [],
   "source": [
    "# Carga total del objeto:\n",
    "Qtotal = 1E-9\n",
    "# Longitud del segmento (en m):\n",
    "R = 20\n",
    "# Número de cargas en que se divide el cuerpo extenso: N*Nanillos\n",
    "N = 100\n",
    "Nanillos = 20\n",
    "\n",
    "dq = Qtotal/(N*Nanillos)\n",
    "dR = R/Nanillos\n",
    "# Separación angular entre cargas:\n",
    "dt = 2*np.pi/N\n",
    "# Angulo de la primer carga (el centro del primer \"diferencial\" de longitud dx=R*dt):\n",
    "t0 = dt/2\n",
    "# Radio del primer anillo:\n",
    "R0 = dR/2\n",
    "\n",
    "Q = []\n",
    "for i in np.arange(N):\n",
    "    for j in np.arange(Nanillos):\n",
    "        Q = Q + [[dq, (R0+j*dR)*np.cos(t0+i*dt), 0, (R0+j*dR)*np.sin(t0+i*dt)]]\n",
    "em.plotEf(E, Q, dx=0.1, density=1, title='Líneas de campo de un\\n disco con carga uniforme',\n",
    "          figsize=(6,6))\n"
   ]
  },
  {
   "cell_type": "markdown",
   "metadata": {},
   "source": [
    "## 4. <a id='toc4_'></a>[Ejercicio XX.3: Dos planos](#toc0_)\n",
    "\n",
    "Dos superficies planas paralelas al plano $ik$, centradas en el eje $j$. Una superficie se encuentra en $y=a$ y la otra en $y=-a$."
   ]
  },
  {
   "cell_type": "code",
   "execution_count": null,
   "metadata": {},
   "outputs": [],
   "source": []
  },
  {
   "cell_type": "markdown",
   "metadata": {},
   "source": [
    "¿qué más? ¿cuáles son ejercicios?\n",
    "\n",
    "\n",
    "Dos superficies cilíndricas uniforme (capacitor)\n",
    "\n",
    "Superficie esférica con carga no uniforme\n",
    "(comentar que la uniforme es trivial ya, y se sabe el resultado)\n",
    "\n",
    "Esfera maciza con rho(x,y,z)\n",
    "(comentar que con rho uniforme es trivial y se sabe el resultado, no se pierde el tiempo)\n",
    "\n",
    "Segmento con carga no uniforme.\n",
    "\n",
    "Plano con carga no uniforme (sigma(r))\n",
    "\n"
   ]
  },
  {
   "cell_type": "code",
   "execution_count": null,
   "metadata": {},
   "outputs": [],
   "source": [
    "# plt.close('all')    "
   ]
  },
  {
   "cell_type": "code",
   "execution_count": null,
   "metadata": {},
   "outputs": [],
   "source": []
  }
 ],
 "metadata": {
  "kernelspec": {
   "display_name": "utn",
   "language": "python",
   "name": "python3"
  },
  "language_info": {
   "codemirror_mode": {
    "name": "ipython",
    "version": 3
   },
   "file_extension": ".py",
   "mimetype": "text/x-python",
   "name": "python",
   "nbconvert_exporter": "python",
   "pygments_lexer": "ipython3",
   "version": "3.10.12"
  }
 },
 "nbformat": 4,
 "nbformat_minor": 2
}

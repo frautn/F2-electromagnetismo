{
 "cells": [
  {
   "cell_type": "markdown",
   "metadata": {},
   "source": [
    "**En desarrollo.**"
   ]
  },
  {
   "cell_type": "markdown",
   "metadata": {},
   "source": [
    "<table>\n",
    "<tr style=\"border:none;\">\n",
    "<td style=\"border:none;\"><a href=\"https://fra.utn.edu.ar/\">\n",
    "<image src=\"https://raw.githubusercontent.com/frautn/F2-electromagnetismo/main/assets_python/logoUTN-500.svg\"  width=\"100\">\n",
    "</a></td>\n",
    "<td style=\"border:none;\"><font face=\"times\" size=4>Física 2<br>2024<br>Electromagnetismo<br>Material para trabajo en clase</font>\n",
    "</td>\n",
    "</tr>\n",
    "</table> \n",
    "\n",
    "</br>\n",
    "\n",
    "<table>\n",
    "<tr style=\"border:none;\">\n",
    "<td style=\"border:none;\"><a href=\"https://creativecommons.org/licenses/by-nc-sa/4.0/deed.es\"><image src=\"https://raw.githubusercontent.com/frautn/F2-electromagnetismo/main/docs/assets/img/by-nc-sa.svg\" width=\"70\" /></a></td>\n",
    "<td style=\"border:none;\"><font face=\"times\" size=4>2024 Edgardo Palazzo (epalazzo@fra.utn.edu.ar)</font>\n",
    "</td>\n",
    "</tr>\n",
    "</table>\n",
    "\n",
    "# Distribuciones de carga contínuas\n",
    "\n",
    "**Parte 2**\n",
    "\n",
    "En este cuaderno se utiliza la librería _SimPy_ para calcular las integrales necesarias en la obtención de campos eléctricos de cargas extensas.\n",
    "\n",
    "---"
   ]
  },
  {
   "cell_type": "markdown",
   "metadata": {},
   "source": [
    "**Objetivos**\n",
    "\n",
    "- Aprovechar la capacidad de realizar cálculos simbólicos en _Python_ para calcular integrales múltiples que demandarían demasiado tiempo si se realizaran en pizarrón o en papel. "
   ]
  },
  {
   "cell_type": "markdown",
   "metadata": {},
   "source": [
    "**Tabla de contenidos**<a id='toc0_'></a>    \n",
    "- 1. [Campo eléctrico de distribuciones de carga contínuas](#toc1_)    \n",
    "- 2. [Segmento de línea](#toc2_)    \n",
    "- 3. [Segmento con carga no uniforme](#toc3_)    \n",
    "\n",
    "<!-- vscode-jupyter-toc-config\n",
    "\tnumbering=true\n",
    "\tanchor=true\n",
    "\tflat=false\n",
    "\tminLevel=2\n",
    "\tmaxLevel=6\n",
    "\t/vscode-jupyter-toc-config -->\n",
    "<!-- THIS CELL WILL BE REPLACED ON TOC UPDATE. DO NOT WRITE YOUR TEXT IN THIS CELL -->"
   ]
  },
  {
   "cell_type": "code",
   "execution_count": null,
   "metadata": {},
   "outputs": [],
   "source": [
    "import matplotlib.pyplot as plt\n",
    "import numpy as np\n",
    "import sys\n",
    "\n",
    "np.seterr(divide='ignore')  # Elimina advertencia al dividir por cero.\n",
    "%precision %.3f\n",
    "\n",
    "!pip install --index-url https://test.pypi.org/simple/ --no-deps frautnEM\n",
    "# from frautnEM.puntuales import plotEfcontribuciones, plotEfVector, equipotencialesPuntuales\n",
    "# from frautnEM.puntuales import plotEfVectorHilo\n",
    "\n",
    "import importlib\n",
    "# import sympy as sym\n",
    "# Necesario para que pylance ande bien con sympy:\n",
    "sym = importlib.import_module('sympy')\n",
    "sym.init_printing(use_unicode=False, wrap_line=False)\n",
    "\n",
    "try:\n",
    "  import google.colab\n",
    "  IN_COLAB = True\n",
    "except:\n",
    "  IN_COLAB = False\n",
    "\n",
    "if IN_COLAB:\n",
    "  !pip --quiet install ipympl\n",
    "  from google.colab import output\n",
    "  output.enable_custom_widget_manager()\n",
    "\n",
    "# Figuras interactivas.\n",
    "# Comentar si se quiere mantener las figuras luego de cerrar el cuaderno.\n",
    "%matplotlib widget\n"
   ]
  },
  {
   "cell_type": "markdown",
   "metadata": {},
   "source": [
    "## 1. <a id='toc1_'></a>[Campo eléctrico de distribuciones de carga contínuas](#toc0_)\n",
    "\n",
    "En el cuaderno [em03_distribuciones_continuas.ipynb](em03_distribuciones_continuas.ipynb) se interpretaron a las distribuciones contínuas como una suma de muchas cargas puntuales, y comprobamos que aumentando el número de cargas la aproximación mejora. Si se aumenta el número de cargas hasta el infinito, se pasa de la sumatoria\n",
    "$$\n",
    "\\vec{E}(\\vec{\\text{x}}) = \\frac{1}{4\\pi\\varepsilon_0} \\sum_{i=1}^N \\frac{q_i}{|\\vec{\\text{r}}_i|^3} \\vec{\\text{r}}_i \\tag{1}\n",
    "$$\n",
    "\n",
    "a un cálculo integral, sobre cargas infinitesimales.  \n",
    "\n",
    "Si la carga está distribuida en una línea, cada carga infinitesimal vale $\\lambda(\\vec{\\text{x}}') dl$, siendo $\\lambda(\\vec{\\text{x}}')$ el valor de la densidad lineal de carga en la posición $\\vec{\\text{x}}'$, que es un punto perteneciente a la línea de carga. La integral en este caso resulta\n",
    "$$\n",
    "\\vec{E}(\\vec{\\text{x}}) = \\frac{1}{4\\pi\\varepsilon_0} \\int_C \\frac{(x - x')\\hat{i} + (y - y')\\hat{j} + (z - z')\\hat{k}}{((x-x')^2+(y-y')^2+(z-z')^2)^{3/2}} \\lambda(\\vec{\\text{x}}') dl  ~ , \\tag{2}\n",
    "$$\n",
    "que es una integral curvilínea donde las variables de integración son las coordenadas $x'$, $y'$ y $z'$ de los puntos que forman la curva $C$. \n",
    "\n",
    "Si la carga está distribuida en una superficie, cada carga infinitesimal vale $\\sigma(\\vec{\\text{x}}') dS$, siendo $\\sigma(\\vec{\\text{x}}')$ el valor de la densidad superficial de carga en la posición $\\vec{\\text{x}}'$, que es un punto perteneciente a la superficie cargada. La integral en este caso es la siguiente integral doble sobre la superficie cargada $S$:\n",
    "$$\n",
    "\\vec{E}(\\vec{\\text{x}}) = \\frac{1}{4\\pi\\varepsilon_0} \\iint_S \\frac{(x - x')\\hat{i} + (y - y')\\hat{j} + (z - z')\\hat{k}}{((x-x')^2+(y-y')^2+(z-z')^2)^{3/2}} \\sigma(\\vec{\\text{x}}') dS  ~ . \\tag{3}\n",
    "$$\n",
    "\n",
    "Y si la carga está distribuida en un volumen, cada carga infinitesimal vale $\\rho(\\vec{\\text{x}}') dV$, siendo $\\rho(\\vec{\\text{x}}')$ el valor de la densidad volumétrica de carga en la posición $\\vec{\\text{x}}'$, que es un punto perteneciente al volumen cargado. La integral en este caso es la siguiente integral triple sobre el volumen cargado $V$:\n",
    "$$\n",
    "\\vec{E}(\\vec{\\text{x}}) = \\frac{1}{4\\pi\\varepsilon_0} \\iiint_V \\frac{(x - x')\\hat{i} + (y - y')\\hat{j} + (z - z')\\hat{k}}{((x-x')^2+(y-y')^2+(z-z')^2)^{3/2}} \\rho(\\vec{\\text{x}}') dV  ~ . \\tag{4}\n",
    "$$"
   ]
  },
  {
   "cell_type": "markdown",
   "metadata": {},
   "source": [
    "## 2. <a id='toc2_'></a>[Segmento de línea](#toc0_)\n",
    "\n",
    "Para el caso del segmento sobre el eje $x$, el diferencial de longitud es $dl = dx$. Por lo tanto, si el segmento se desarrolla desde $x = a$ hasta $x = b$, según la ecuación 2, el campo que genera se calcula como:\n",
    "\n",
    "$$\n",
    "\\vec{E}(\\vec{\\text{x}}) = \\frac{1}{4\\pi\\varepsilon_0} \\int_a^b \\frac{(x - x')\\hat{i} + y\\hat{j} + z\\hat{k}}{((x-x')^2+y^2+z^2)^{3/2}} \\lambda(x') dx'  ~ . \\tag{5}\n",
    "$$\n",
    "\n",
    "\n",
    "A continuación este cálculo en Python:"
   ]
  },
  {
   "cell_type": "code",
   "execution_count": null,
   "metadata": {},
   "outputs": [],
   "source": [
    "# X: variable de integración.\n",
    "# El resultado de la integral depende de la zona donde ubicamos el punto campo.\n",
    "# En este caso resolvemos solo para y>0 y z>0.\n",
    "k,l,x,X,a,b = sym.symbols('k lambda x X a b')\n",
    "y = sym.symbols('y', positive=True)\n",
    "z = sym.symbols('z', positive=True)\n",
    "\n",
    "Ei = sym.Eq(\n",
    "  sym.Symbol('E_{i}'),\n",
    "  sym.integrate(k*l*(x-X)/(sym.sqrt((x-X)**2+y**2+z**2))**3,(X,a,b))\n",
    ")\n",
    "Ej = sym.Eq(\n",
    "  sym.Symbol('E_{j}'),\n",
    "  sym.integrate(k*l*y/(sym.sqrt((x-X)**2+y**2+z**2))**3,(X,a,b))\n",
    ")\n",
    "Ek = sym.Eq(\n",
    "  sym.Symbol('E_{k}'),\n",
    "  sym.integrate(k*l*z/(sym.sqrt((x-X)**2+y**2+z**2))**3,(X,a,b))\n",
    ")\n",
    "\n",
    "display(Ei)\n",
    "display(Ej)\n",
    "display(Ek)"
   ]
  },
  {
   "cell_type": "markdown",
   "metadata": {},
   "source": [
    "Podemos usar estas expresiones para obtener las componentes de $E$ reemplazando los valores de $\\lambda$, $a$, $b$ y $k$ (se podría agregar un medio dieléctrico aquí, calculando el valor de $k$ para el correspondiente $\\varepsilon_R$). Utilicemos los mismos valores que en la sección 2.1 del cuaderno [em03_distribuciones_continuas.ipynb](em03_distribuciones_continuas.ipynb): longitud $L = 20\\text{ cm}$, desde $x = -10\\text{ cm}$ hasta $x = 10\\text{ cm}$, con densidad uniforme $\\lambda = 5\\text{ nC/m}$."
   ]
  },
  {
   "cell_type": "code",
   "execution_count": null,
   "metadata": {},
   "outputs": [],
   "source": [
    "Eii = Ei.subs([(k, 9E9), (l, 5E-9), (a, -0.1), (b, 0.1)])\n",
    "Ejj = Ej.subs([(k, 9E9), (l, 5E-9), (a, -0.1), (b, 0.1)])\n",
    "Ekk = Ek.subs([(k, 9E9), (l, 5E-9), (a, -0.1), (b, 0.1)])\n",
    "display(Eii)\n",
    "display(Ejj)\n",
    "display(Ekk)"
   ]
  },
  {
   "cell_type": "markdown",
   "metadata": {},
   "source": [
    "Y ahora podemos evaluar en la posición que nos interese. Recordar que estos resultados son válidos fuera del eje $x$, con $y>0$ y $z>0$."
   ]
  },
  {
   "cell_type": "code",
   "execution_count": null,
   "metadata": {},
   "outputs": [],
   "source": [
    "display(\n",
    "\n",
    "    Eii.subs([(x,0), (y,0.1), (z,0)]),\n",
    "    Ejj.subs([(x,0), (y,0.1), (z,0)]),\n",
    "    Ekk.subs([(x,0), (y,0.1), (z,0)]),\n",
    "\n",
    "    )"
   ]
  },
  {
   "cell_type": "code",
   "execution_count": null,
   "metadata": {},
   "outputs": [],
   "source": [
    "Eii.rhs.subs([(x,0), (y,0.1), (z,0)])"
   ]
  },
  {
   "cell_type": "markdown",
   "metadata": {},
   "source": [
    "## 3. <a id='toc3_'></a>[Segmento con carga no uniforme](#toc0_)\n",
    "\n",
    "Continuemos con el segmento de longitud $L = 20\\text{ cm}$ sobre el eje $x$, pero ahora con una densidad lineal de carga:\n",
    "$$\n",
    "\\lambda = ax+b \\, ,\n",
    "$$\n",
    "siendo $a = 20\\text{ nC/m}^2$ y $b = -1\\text{ nC/m}$."
   ]
  },
  {
   "cell_type": "code",
   "execution_count": null,
   "metadata": {},
   "outputs": [],
   "source": [
    "# X: variable de integración.\n",
    "# El resultado de la integral depende de la zona donde ubicamos el punto campo.\n",
    "# En este caso resolvemos solo para y>0 y z>0.\n",
    "x,X = sym.symbols('x X')\n",
    "y = sym.symbols('y', positive=True)\n",
    "z = sym.symbols('z', positive=True)\n",
    "\n",
    "Ei = sym.Eq(\n",
    "  sym.Symbol('E_{i}'),\n",
    "  sym.Integral(1E9*(20*X-1)*1E-9*(x-X)/(sym.sqrt((x-X)**2+y**2+z**2))**3,(X,-0.1,0.1))\n",
    ")\n",
    "Ej = sym.Eq(\n",
    "  sym.Symbol('E_{j}'),\n",
    "  sym.Integral(1E9*(20*X-1)*1E-9*y/(sym.sqrt((x-X)**2+y**2+z**2))**3,(X,-0.1,0.1))\n",
    ")\n",
    "Ek = sym.Eq(\n",
    "  sym.Symbol('E_{k}'),\n",
    "  sym.Integral(1E9*(20*X-1)*1E-9*z/(sym.sqrt((x-X)**2+y**2+z**2))**3,(X,-0.1,0.1))\n",
    ")\n",
    "\n",
    "display(Ei)\n",
    "display(Ej)\n",
    "display(Ek)\n"
   ]
  },
  {
   "cell_type": "code",
   "execution_count": null,
   "metadata": {},
   "outputs": [],
   "source": [
    "display(\n",
    "\n",
    "    Ei.subs([(x,0), (y,0.1), (z,0)]),\n",
    "    Ej.subs([(x,0), (y,0.1), (z,0)]),\n",
    "    Ek.subs([(x,0), (y,0.1), (z,0)]),\n",
    "\n",
    "    )"
   ]
  },
  {
   "cell_type": "code",
   "execution_count": null,
   "metadata": {},
   "outputs": [],
   "source": [
    "display(\n",
    "\n",
    "    Ei.subs([(x,0), (y,0.1), (z,0)]).doit(),\n",
    "    Ej.subs([(x,0), (y,0.1), (z,0)]).doit(),\n",
    "    Ek.subs([(x,0), (y,0.1), (z,0)]).doit(),\n",
    "\n",
    "    )"
   ]
  }
 ],
 "metadata": {
  "kernelspec": {
   "display_name": "utn",
   "language": "python",
   "name": "python3"
  },
  "language_info": {
   "codemirror_mode": {
    "name": "ipython",
    "version": 3
   },
   "file_extension": ".py",
   "mimetype": "text/x-python",
   "name": "python",
   "nbconvert_exporter": "python",
   "pygments_lexer": "ipython3",
   "version": "3.10.12"
  }
 },
 "nbformat": 4,
 "nbformat_minor": 2
}

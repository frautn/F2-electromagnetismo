{
 "cells": [
  {
   "cell_type": "markdown",
   "metadata": {},
   "source": [
    "<table>\n",
    "<tr style=\"border:none;\">\n",
    "<td style=\"border:none;\"><a href=\"https://fra.utn.edu.ar/\">\n",
    "<image src=\"https://raw.githubusercontent.com/frautn/F2-electromagnetismo/main/assets_python/logoUTN-500.svg\"  width=\"100\">\n",
    "</a></td>\n",
    "<td style=\"border:none;\"><font face=\"times\" size=4>Física 2<br>2024<br>Electromagnetismo<br>Material para trabajo en clase</font>\n",
    "</td>\n",
    "</tr>\n",
    "</table> \n",
    "\n",
    "</br>\n",
    "\n",
    "<table>\n",
    "<tr style=\"border:none;\">\n",
    "<td style=\"border:none;\"><a href=\"https://creativecommons.org/licenses/by-nc-sa/4.0/deed.es\"><image src=\"https://raw.githubusercontent.com/frautn/F2-electromagnetismo/main/docs/assets/img/by-nc-sa.svg\" width=\"70\" /></a></td>\n",
    "<td style=\"border:none;\"><font face=\"times\" size=4>2024 Edgardo Palazzo (epalazzo@fra.utn.edu.ar)</font>\n",
    "</td>\n",
    "</tr>\n",
    "</table>\n",
    "\n",
    "# Campo Eléctrico\n",
    "\n",
    "---"
   ]
  },
  {
   "cell_type": "markdown",
   "metadata": {},
   "source": [
    "**Objetivos**\n",
    "- Familiarizarse con la metodología de trabajo a través de ejemplos sencillos.\n",
    "- Visualizar líneas de campo eléctrico de distintas distribuciones de cargas puntuales."
   ]
  },
  {
   "cell_type": "markdown",
   "metadata": {},
   "source": [
    "**Tabla de contenidos**<a id='toc0_'></a>    \n",
    "- 1. [Campo de una carga](#toc1_)    \n",
    "- 2. [Campo de un sistema de cargas puntuales](#toc2_)    \n",
    "  - 2.1. [El dipolo eléctrico](#toc2_1_)    \n",
    "  - 2.2. [Ejercicio 1: dos cargas](#toc2_2_)    \n",
    "  - 2.3. [Más de dos cargas](#toc2_3_)    \n",
    "  - 2.4. [Ejercicio 2: cargas en los vértices de un triángulo](#toc2_4_)    \n",
    "- 3. [Visualización del campo en 3D](#toc3_)    \n",
    "\n",
    "<!-- vscode-jupyter-toc-config\n",
    "\tnumbering=true\n",
    "\tanchor=true\n",
    "\tflat=false\n",
    "\tminLevel=2\n",
    "\tmaxLevel=6\n",
    "\t/vscode-jupyter-toc-config -->\n",
    "<!-- THIS CELL WILL BE REPLACED ON TOC UPDATE. DO NOT WRITE YOUR TEXT IN THIS CELL -->"
   ]
  },
  {
   "cell_type": "code",
   "execution_count": null,
   "metadata": {},
   "outputs": [],
   "source": [
    "import matplotlib.pyplot as plt\n",
    "import numpy as np\n",
    "import sys\n",
    "\n",
    "np.seterr(divide='ignore')  # Elimina advertencia al dividir por cero.\n",
    "%precision %.3f\n",
    "\n",
    "!pip install --index-url https://test.pypi.org/simple/ --no-deps --upgrade frautnEM\n",
    "from frautnEM.puntuales import plotE, plotEf, plotEfVector, plotEfvector3d\n",
    "\n",
    "try:\n",
    "  import google.colab\n",
    "  IN_COLAB = True\n",
    "except:\n",
    "  IN_COLAB = False\n",
    "\n",
    "if IN_COLAB:\n",
    "  !pip --quiet install ipympl\n",
    "  from google.colab import output\n",
    "  output.enable_custom_widget_manager()\n",
    "\n",
    "# Figuras interactivas.\n",
    "# Comentar si se quiere mantener las figuras luego de cerrar el cuaderno.\n",
    "# %matplotlib widget\n"
   ]
  },
  {
   "cell_type": "markdown",
   "metadata": {},
   "source": [
    "## 1. <a id='toc1_'></a>[Campo de una carga](#toc0_)\n",
    "\n",
    "El campo eléctrico producido por una carga puntual $q$ ubicada en la posición $\\vec{\\text{x}}_0$ puede escribirse como:\n",
    "$$\n",
    "\\vec{E}(\\vec{\\text{x}}) = \\frac{1}{4\\pi\\varepsilon_0} \\frac{q}{|\\vec{\\text{r}}|^2} \\hat{\\textbf{r}}\\, , \\tag{1}\n",
    "$$\n",
    "donde\n",
    "  * $|\\vec{\\text{r}}|$ es la distancia entre la posición de la partícula cargada ($\\vec{\\text{x}}_0$) y la posición donde se quiere obtener el vector de campo eléctrico ($\\vec{\\text{x}}$)\n",
    "  * $\\hat{\\text{r}}$ es el vector unitario en la dirección desde $\\vec{\\text{x}}_0$ hacia $\\vec{\\text{x}}$\n",
    "\n",
    "según se muestra en la siguiente figura.\n",
    "<div style=\"text-align: center;\">\n",
    "       <image src=\"https://raw.githubusercontent.com/frautn/F2-electromagnetismo/main/modulos/img/em01_una_carga.svg\">\n",
    "</div>\n",
    "\n",
    "Si el vector unitario se reescribe como $\\hat{\\textbf{r}} = \\vec{\\text{r}}/|\\vec{\\text{r}}|$, la expresión para el campo resulta:\n",
    "$$\n",
    "\\vec{E}(\\vec{\\text{x}}) = \\frac{1}{4\\pi\\varepsilon_0} \\frac{q}{|\\vec{\\text{r}}|^3} \\vec{\\text{r}}\\, . \\tag{2}\n",
    "$$\n",
    "\n",
    "Para escribir un código que calcule el campo eléctrico es conveniente utilizar una expresión con las coordenadas del punto campo y las coordenadas de la posición de la carga explícitas. El código que utilizaremos reproduce la siguiente expresión:\n",
    "$$\n",
    "\\vec{E}(x,y,z) = \\frac{1}{4\\pi\\varepsilon_0} \\frac{q}{\\left ((x-x_0)^2 + (y-y_0)^2 + (z-z_0)^2 \\right )^{3/2}} \\left ( (x-x_0)\\hat{\\textbf{i}} + (y-y_0)\\hat{\\textbf{j}} + (z-z_0)\\hat{\\textbf{k}} \\right ) . \\tag{3}\n",
    "$$"
   ]
  },
  {
   "cell_type": "markdown",
   "metadata": {},
   "source": [
    "A continuación de define una función que calcula las componentes del campo eléctrico en la posición $(x,y,z)$ cuando se tiene una carga de $1~\\text{nC}$ en el origen:"
   ]
  },
  {
   "cell_type": "code",
   "execution_count": null,
   "metadata": {},
   "outputs": [],
   "source": [
    "def E1(x,y,z):\n",
    "    \"\"\"Calcula las componentes del campo eléctrico en N/C.\n",
    "    Ingresar valores de x,y,z en metros y q en coulomb.\n",
    "    \"\"\"\n",
    "    k = 9E9   #Constante de Coulomb en las unidades correspondientes.\n",
    "    \n",
    "    q = 1E-9\n",
    "    x0 = 0\n",
    "    y0 = 0\n",
    "    z0 = 0\n",
    "\n",
    "    # El denominador en la ec. 3:\n",
    "    r32 = ((x - x0)**2 + (y - y0)**2 + (z - z0)**2)**(3/2)\n",
    "\n",
    "    # Cada una de las componentes de la ec. 3:\n",
    "    Ei = k * q * (x - x0) / r32\n",
    "    Ej = k * q * (y - y0) / r32\n",
    "    Ek = k * q * (z - z0) / r32\n",
    "\n",
    "    return Ei, Ej, Ek"
   ]
  },
  {
   "cell_type": "markdown",
   "metadata": {},
   "source": [
    "Si queremos el vector campo eléctrico en alguna posición, simplemente se ingresan los valores de $x,y,z$:"
   ]
  },
  {
   "cell_type": "code",
   "execution_count": null,
   "metadata": {},
   "outputs": [],
   "source": [
    "E1(-1,0,0)"
   ]
  },
  {
   "cell_type": "markdown",
   "metadata": {},
   "source": [
    "> Nota: El objetivo principal de esta serie de cuadernos es el cálculo de campos eléctricos.\n",
    "> Por tal motivo los códigos para la creación de gráficos avanzados como el siguiente\n",
    "> no se muestran explícitamente, y se importan de la librería ``libem.py``.\n",
    "\n",
    "Veamos las líneas de campo de una única carga puntual:"
   ]
  },
  {
   "cell_type": "code",
   "execution_count": null,
   "metadata": {},
   "outputs": [],
   "source": [
    "plotE(E1)"
   ]
  },
  {
   "cell_type": "markdown",
   "metadata": {},
   "source": [
    "## 2. <a id='toc2_'></a>[Campo de un sistema de cargas puntuales](#toc0_)\n",
    "\n",
    "El campo total producido por un sistema de $N$ cargas puntuales es la suma de los campos de cada carga (ver ecuación (2) para el campo de una única carga):\n",
    "$$\n",
    "\\vec{E}(\\vec{\\text{x}}) = \\frac{1}{4\\pi\\varepsilon_0} \\sum_{i=1}^N \\frac{q_i}{|\\vec{\\text{r}}_i|^3} \\vec{\\text{r}}_i\\, , \\tag{4}\n",
    "$$\n",
    "\n",
    "donde\n",
    "* $q_i$ es la carga eléctrica de la partícula i-ésima \n",
    "* $\\vec{\\text{r}}_i$ es el vector diferencia entre la posición donde se quiere obtener el vector de campo eléctrico ($\\vec{\\text{x}}$) y la posición de la partícula cargada ($\\vec{\\text{x}}_i$), es decir:\n",
    "$$\n",
    "\\vec{\\text{r}}_i = (x-x_i)\\hat{\\textbf{i}} + (y-y_i)\\hat{\\textbf{j}} + (z-z_i)\\hat{\\textbf{k}} ~ . \\tag{5}\n",
    "$$\n",
    "\n",
    "### 2.1. <a id='toc2_1_'></a>[El dipolo eléctrico](#toc0_)\n",
    "\n",
    "Un dipolo es un sistema de dos cargas eléctricas de igual valor absoluto pero signos opuestos, separadas por una distancia $d$. Para calcular el campo total podemos extender el código utilizado anteriormente agregando los datos de la segunda carga y sumando, como en la definición de la siguiente función:"
   ]
  },
  {
   "cell_type": "code",
   "execution_count": null,
   "metadata": {},
   "outputs": [],
   "source": [
    "def E2(x,y,z):\n",
    "    \"\"\"Calcula las componentes del campo eléctrico en N/C de un sistema de 2 cargas.\n",
    "    Ingresar valores de x,y,z en metros y q en coulomb.\n",
    "    \"\"\"\n",
    "    k = 9E9   #Constante de Coulomb en las unidades correspondientes.\n",
    "\n",
    "    # Datos de la carga 1\n",
    "    q1 = -1E-9\n",
    "    x1 = -2\n",
    "    y1 = 0\n",
    "    z1 = 0\n",
    "\n",
    "    # Datos de la carga 2\n",
    "    q2 = 1E-9\n",
    "    x2 = 2\n",
    "    y2 = 0\n",
    "    z2 = 0\n",
    "\n",
    "    r = ((x - x1)**2 + (y - y1)**2 + (z - z1)**2)**(3/2)\n",
    "    Ei1 = k * q1 * (x - x1) / r\n",
    "    Ej1 = k * q1 * (y - y1) / r\n",
    "    Ek1 = k * q1 * (z - z1) / r\n",
    "\n",
    "    r = ((x - x2)**2 + (y - y2)**2 + (z - z2)**2)**(3/2)\n",
    "    Ei2 = k * q2 * (x - x2) / r\n",
    "    Ej2 = k * q2 * (y - y2) / r\n",
    "    Ek2 = k * q2 * (z - z2) / r\n",
    "\n",
    "    return Ei1+Ei2, Ej1+Ej2, Ek1+Ek2"
   ]
  },
  {
   "cell_type": "markdown",
   "metadata": {},
   "source": [
    "Verifiquemos que nuestro código funciona correctamente, calculando los vectores E en diferentes posiciones:"
   ]
  },
  {
   "cell_type": "code",
   "execution_count": null,
   "metadata": {},
   "outputs": [],
   "source": [
    "print(\"E(0,0,0) = \", E2(0,0,0))\n",
    "print(\"E(1,0,0) = \", E2(1,0,0))\n",
    "print(\"E(4,0,0) = \", E2(4,0,0))\n",
    "print(\"E(-4,0,0) = \", E2(-4,0,0))\n",
    "print(\"E(0,2,0) = \", E2(0,2,0))\n",
    "print(\"E(0,0,2) = \", E2(0,0,2))\n",
    "print(\"E(2,2,0) = \", E2(2,2,0))\n",
    "print(\"E(-2,2,0) = \", E2(-2,2,0))\n",
    "print(\"E(0,2,2) = \", E2(0,2,2))"
   ]
  },
  {
   "cell_type": "markdown",
   "metadata": {},
   "source": [
    "Las líneas de campo eléctrico del dipolo:"
   ]
  },
  {
   "cell_type": "code",
   "execution_count": null,
   "metadata": {},
   "outputs": [],
   "source": [
    "plotE(E2, title='Líneas de campo de un dipolo eléctrico')"
   ]
  },
  {
   "cell_type": "markdown",
   "metadata": {},
   "source": [
    "### 2.2. <a id='toc2_2_'></a>[Ejercicio 1: dos cargas](#toc0_)\n",
    "\n",
    "Experimentar modificando la definición de la función E2 para obtener las líneas de campo de distintas configuraciones."
   ]
  },
  {
   "cell_type": "code",
   "execution_count": null,
   "metadata": {},
   "outputs": [],
   "source": [
    "# Función E2 modificada para el ejercicio 1.\n",
    "\n",
    "# def E2mod(x,y,z):\n",
    "    # El nuevo código.\n",
    "\n"
   ]
  },
  {
   "cell_type": "code",
   "execution_count": null,
   "metadata": {},
   "outputs": [],
   "source": [
    "# Generar las líneas de campo.\n",
    "\n",
    "# plotE(E2)"
   ]
  },
  {
   "cell_type": "markdown",
   "metadata": {},
   "source": [
    "### 2.3. <a id='toc2_3_'></a>[Más de dos cargas](#toc0_)\n",
    "\n",
    "El código que usamos anteriormente no es útil cuando se trabaja con muchas cargas, porque estábamos definiendo las cargas dentro de la función. Esto implica modificar la función cada vez que cambiamos algo en las cargas. Además, si el número de cargas es muy grande, el trabajo es muy incómodo.\n",
    "\n",
    "Para extender nuestro cálculo, en los parámetros de la función agregamos una lista con las cargas y sus posiciones."
   ]
  },
  {
   "cell_type": "code",
   "execution_count": null,
   "metadata": {},
   "outputs": [],
   "source": [
    "def E(x, y, z, Q):\n",
    "    \"\"\"Calcula las componentes del campo eléctrico en N/C.\n",
    "    Ingresar valores de x,y,z en metros y q en coulomb.\n",
    "    Q es una lista de la forma:\n",
    "    Q = [\n",
    "        [q1,x1,y1,z1],\n",
    "        [q2,x2,y2,z2],\n",
    "        ...\n",
    "        [qN,xN,yN,zN]\n",
    "    ]\n",
    "    \"\"\"\n",
    "    k = 9E9   #Constante de Coulomb en las unidades correspondientes.\n",
    "\n",
    "    Ei,Ej,Ek = 0,0,0\n",
    "    for qi in Q:\n",
    "        r = ((x - qi[1])**2 + (y - qi[2])**2 + (z - qi[3])**2)**(3/2)\n",
    "        Ei = Ei + k * qi[0] * (x - qi[1]) / r\n",
    "        Ej = Ej + k * qi[0] * (y - qi[2]) / r\n",
    "        Ek = Ek + k * qi[0] * (z - qi[3]) / r\n",
    "\n",
    "    return Ei, Ej, Ek"
   ]
  },
  {
   "cell_type": "markdown",
   "metadata": {},
   "source": [
    "De ahora en adelante, la definición de la función E(x,y,z,Q) no cambia. Solo es necesario modificar las variables x,y,z y la lista de cargas Q si hay algún cambio en la configuración de cargas.\n",
    "\n",
    "Como ahora las cargas pueden no formar un plano, y en ese caso el gráfico de las líneas de campo puede ser muy complicado, por el momento trabajemos con cargas ubicadas en el plano $xy$, es decir $z=0$.\n",
    "\n",
    "A continuación se define una configuración con 3 cargas en el plano $xy$: q1 = 5 nC en (0,0,0), q2 = -3 nC en (-2,0,0) y q3 = 7 nC en (2,3,0), y se calcula el campo producido en distintas posiciones."
   ]
  },
  {
   "cell_type": "code",
   "execution_count": null,
   "metadata": {},
   "outputs": [],
   "source": [
    "Q = [\n",
    "    [5E-9,0,0,0],\n",
    "    [-3E-9,-2,0,0],\n",
    "    [7E-9,2,3,0],\n",
    "]\n",
    "\n",
    "# Vector de campo eléctrico en la posición (1,1,0) generado por la distribución de cargas Q:\n",
    "E(1,1,0,Q)\n"
   ]
  },
  {
   "cell_type": "code",
   "execution_count": null,
   "metadata": {},
   "outputs": [],
   "source": [
    "# Vector E en otras posiciones.\n",
    "print(\"E(1,0,0)  = \", np.round( E(1,0,0,Q), decimals=3) )\n",
    "print(\"E(1,-2,0) = \", np.round( E(1,-2,0,Q), decimals=3) )\n",
    "print(\"E(-4,0,0) = \", np.round( E(-4,0,0,Q), decimals=3) )\n",
    "print(\"E(0,0,2)  = \", np.round( E(0,0,2,Q), decimals=3) )\n",
    "print(\"E(0,2,0)  = \", np.round( E(0,2,0,Q), decimals=3) )"
   ]
  },
  {
   "cell_type": "markdown",
   "metadata": {},
   "source": [
    "Para analizar el campo o comprobar los resultados de alguna distribución de cargas, usualmente graficamos algunos vectores en diferentes posiciones para comprobar que apuntan en la dirección esperada. En este caso usaremos la función plotEfVector, que debe ser alimentada con la función que se desea calcular (E), la lista de cargas, y una lista de posiciones donde queremos calcular el campo eléctrico (X)."
   ]
  },
  {
   "cell_type": "code",
   "execution_count": null,
   "metadata": {},
   "outputs": [],
   "source": [
    "# Posiciones donde queremos los vectores campo eléctrico.\n",
    "X = [[1,0,0],[0,-2,0],[-3,0,0],[0,2,0], [-3.5,3,0], [0,0.5,0]]\n",
    "\n",
    "plotEfVector(E, Q, X)"
   ]
  },
  {
   "cell_type": "markdown",
   "metadata": {},
   "source": [
    "Veamos las líneas de campo de esta distribución usando una nueva función plotEf diseñada para procesar la lista de cargas Q."
   ]
  },
  {
   "cell_type": "code",
   "execution_count": null,
   "metadata": {},
   "outputs": [],
   "source": [
    "plotEf(E, Q)"
   ]
  },
  {
   "cell_type": "markdown",
   "metadata": {},
   "source": [
    "### 2.4. <a id='toc2_4_'></a>[Ejercicio 2: cargas en los vértices de un triángulo](#toc0_)\n",
    "\n",
    "Las cargas $q_1 = 2~\\mu\\text{C}$, $q_2 = -8~\\mu\\text{C}$ y $q_3 = 12~\\mu\\text{C}$, se colocan en los vértices de un triángulo equilátero, cuyos lados miden $10~\\text{cm}$, como se muestra en la figura. Hallar el campo eléctrico en el punto $P$.  \n",
    "<div style=\"text-align: center;\">\n",
    "       <image src=\"https://raw.githubusercontent.com/frautn/F2-electromagnetismo/main/modulos/img/em01_triangulo.svg\" width=\"300\">\n",
    "</div>\n",
    "\n",
    "Respuesta: $\\vec{E} = \\left (-36\\hat{i} + 9.6\\hat{j} \\right ) \\times 10^6~\\text{N/C}$\n",
    "\n",
    "1. Resolver el problema utilizando el código de esta sección.\n",
    "1. Graficar las líneas de campo de esta distribución de cargas.\n",
    "1. A partir del gráfico localizar posiciones donde el campo es aproximadamente: i) horizontal, ii) vertical. Verificar que sus elecciones de dichas posiciones sean correctas calculando el campo con la función que estamos utilizando.\n",
    "\n"
   ]
  },
  {
   "cell_type": "code",
   "execution_count": null,
   "metadata": {},
   "outputs": [],
   "source": [
    "# 1. Cálculo de E en P\n"
   ]
  },
  {
   "cell_type": "code",
   "execution_count": null,
   "metadata": {},
   "outputs": [],
   "source": [
    "# 2. Líneas de campo\n"
   ]
  },
  {
   "cell_type": "code",
   "execution_count": null,
   "metadata": {},
   "outputs": [],
   "source": [
    "# Posición o posiciones donde E es horizontal\n",
    "\n"
   ]
  },
  {
   "cell_type": "code",
   "execution_count": null,
   "metadata": {},
   "outputs": [],
   "source": [
    "# Posición o posiciones donde E es vertical\n",
    "\n"
   ]
  },
  {
   "cell_type": "markdown",
   "metadata": {},
   "source": [
    "## 3. <a id='toc3_'></a>[Visualización del campo en 3D](#toc0_)\n",
    "\n",
    "Graficar líneas de campo en 3D es bastante complicado. En lugar de líneas de campo, en los ejemplos a continuación se muestran los vectores en diferentes puntos del espacio. Los vectores tienen todos la misma longitud, si se graficaran con las relaciones de longitudes correctas los gráficos resultarían incomprensibles."
   ]
  },
  {
   "cell_type": "code",
   "execution_count": null,
   "metadata": {},
   "outputs": [],
   "source": [
    "# El dipolo\n",
    "Q = [\n",
    "    [1E-9,1,0,0],\n",
    "    [-1E-9,-1,0,0],\n",
    "]\n",
    "\n",
    "plotEfvector3d(E, Q, dx=2, w=6, figsize=(6,6))"
   ]
  },
  {
   "cell_type": "code",
   "execution_count": null,
   "metadata": {},
   "outputs": [],
   "source": [
    "Q = [\n",
    "    [1E-9,1,1,0],\n",
    "    [1E-9,1,-1,0],\n",
    "    # [1E-9,-1,1,0],\n",
    "    # [1E-9,-1,-1,0],\n",
    "    [-3E-9,0,0,1],\n",
    "]\n",
    "\n",
    "plotEfvector3d(E, Q, dx=2, w=6, figsize=(6,6))"
   ]
  },
  {
   "cell_type": "code",
   "execution_count": null,
   "metadata": {},
   "outputs": [],
   "source": []
  }
 ],
 "metadata": {
  "kernelspec": {
   "display_name": "utn",
   "language": "python",
   "name": "python3"
  },
  "language_info": {
   "codemirror_mode": {
    "name": "ipython",
    "version": 3
   },
   "file_extension": ".py",
   "mimetype": "text/x-python",
   "name": "python",
   "nbconvert_exporter": "python",
   "pygments_lexer": "ipython3",
   "version": "3.10.12"
  }
 },
 "nbformat": 4,
 "nbformat_minor": 2
}

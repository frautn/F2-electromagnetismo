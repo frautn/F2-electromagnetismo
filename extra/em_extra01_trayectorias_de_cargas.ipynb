{
 "cells": [
  {
   "cell_type": "markdown",
   "metadata": {},
   "source": [
    "<table>\n",
    "<tr style=\"border:none;\">\n",
    "<td style=\"border:none;\"><a href=\"https://fra.utn.edu.ar/\">\n",
    "<image src=\"https://raw.githubusercontent.com/frautn/F2-electromagnetismo/main/assets_python/logoUTN-500.svg\"  width=\"100\">\n",
    "</a></td>\n",
    "<td style=\"border:none;\"><font face=\"times\" size=4>Física 2<br>2024<br>Electromagnetismo<br>Material extra</font>\n",
    "</td>\n",
    "</tr>\n",
    "</table> \n",
    "\n",
    "</br>\n",
    "\n",
    "<table>\n",
    "<tr style=\"border:none;\">\n",
    "<td style=\"border:none;\"><a href=\"https://creativecommons.org/licenses/by-nc-sa/4.0/deed.es\"><image src=\"https://raw.githubusercontent.com/frautn/F2-electromagnetismo/main/docs/assets/img/by-nc-sa.svg\" width=\"70\" /></a></td>\n",
    "<td style=\"border:none;\"><font face=\"times\" size=4>2024 Edgardo Palazzo (epalazzo@fra.utn.edu.ar)</font>\n",
    "</td>\n",
    "</tr>\n",
    "</table>\n",
    "\n",
    "# Trayectorias de cargas en presencia de un campo eléctrico\n",
    "\n",
    "En confección.\n",
    "\n",
    "---\n",
    "Estudiar como se mueven cargas en distintos campos sencillos.\n",
    "\n",
    "Graficar velocidad y aceleración en función de la posición.\n",
    "\n",
    "Finalizar con algo automatizado que calcule la trayectoria, v y a en presencia de cualquier campo.\n",
    "\n",
    "Buscar algún ejemplo curioso, que genere órbitas o figuras."
   ]
  },
  {
   "cell_type": "markdown",
   "metadata": {},
   "source": [
    "**Tabla de contenidos**<a id='toc0_'></a>    \n",
    "\n",
    "<!-- vscode-jupyter-toc-config\n",
    "\tnumbering=true\n",
    "\tanchor=true\n",
    "\tflat=false\n",
    "\tminLevel=2\n",
    "\tmaxLevel=6\n",
    "\t/vscode-jupyter-toc-config -->\n",
    "<!-- THIS CELL WILL BE REPLACED ON TOC UPDATE. DO NOT WRITE YOUR TEXT IN THIS CELL -->"
   ]
  },
  {
   "cell_type": "code",
   "execution_count": 3,
   "metadata": {},
   "outputs": [],
   "source": [
    "# some imports"
   ]
  },
  {
   "cell_type": "code",
   "execution_count": 5,
   "metadata": {},
   "outputs": [],
   "source": [
    "# some code"
   ]
  },
  {
   "cell_type": "code",
   "execution_count": null,
   "metadata": {},
   "outputs": [],
   "source": []
  }
 ],
 "metadata": {
  "kernelspec": {
   "display_name": "utn",
   "language": "python",
   "name": "python3"
  },
  "language_info": {
   "codemirror_mode": {
    "name": "ipython",
    "version": 3
   },
   "file_extension": ".py",
   "mimetype": "text/x-python",
   "name": "python",
   "nbconvert_exporter": "python",
   "pygments_lexer": "ipython3",
   "version": "3.11.3"
  }
 },
 "nbformat": 4,
 "nbformat_minor": 2
}

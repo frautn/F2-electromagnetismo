{
 "cells": [
  {
   "cell_type": "code",
   "execution_count": 1,
   "id": "6f29de87",
   "metadata": {},
   "outputs": [],
   "source": [
    "import matplotlib.pyplot as plt\n",
    "import numpy as np"
   ]
  },
  {
   "cell_type": "code",
   "execution_count": null,
   "id": "2d160754",
   "metadata": {},
   "outputs": [],
   "source": [
    "def value_F(y):\n",
    "    ep0 = 8.85E-12\n",
    "    q = 1E-9\n",
    "    "
   ]
  },
  {
   "cell_type": "code",
   "execution_count": null,
   "id": "80d977bc",
   "metadata": {},
   "outputs": [],
   "source": [
    "# Lista de posiciones donde se calculará el campo E.\n",
    "y = np.linspace(0.01, 0.2, num=50)\n",
    "x = 0\n",
    "z = 0\n",
    "\n",
    "# Ciclo para calcular E usando las dos funciones en cada valor de y.\n",
    "EjInfinito = []\n",
    "EjPuntuales = []\n",
    "for yi in y:\n",
    "    Ei, Ej, Ek = Ehilo(x,yi,z,Lambda)\n",
    "    EjInfinito.append(Ej)\n",
    "    Ei, Ej, Ek = Ef(x,yi,z,Q)\n",
    "    EjPuntuales.append(Ej)\n",
    "\n",
    "fig, ax = plt.subplots(figsize=(5, 4), layout='constrained')\n",
    "ax.plot(y, EjInfinito, label='Aproximación de hilo infinito')\n",
    "ax.plot(y, EjPuntuales, label='Segmento')\n",
    "ax.set_xlabel('Distancia al centro del segmento [m]')\n",
    "ax.set_ylabel('|E| [N/C]')\n",
    "ax.set_title(\"Campo E de un segmento sobre el eje transversal\")\n",
    "ax.legend()"
   ]
  }
 ],
 "metadata": {
  "kernelspec": {
   "display_name": "utn",
   "language": "python",
   "name": "python3"
  },
  "language_info": {
   "codemirror_mode": {
    "name": "ipython",
    "version": 3
   },
   "file_extension": ".py",
   "mimetype": "text/x-python",
   "name": "python",
   "nbconvert_exporter": "python",
   "pygments_lexer": "ipython3",
   "version": "3.10.12"
  }
 },
 "nbformat": 4,
 "nbformat_minor": 5
}

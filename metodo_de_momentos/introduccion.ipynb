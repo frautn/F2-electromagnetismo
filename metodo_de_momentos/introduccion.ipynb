{
 "cells": [
  {
   "cell_type": "markdown",
   "metadata": {},
   "source": [
    "# Método de momentos"
   ]
  },
  {
   "cell_type": "code",
   "execution_count": 3,
   "metadata": {},
   "outputs": [],
   "source": [
    "import numpy as np"
   ]
  },
  {
   "cell_type": "markdown",
   "metadata": {},
   "source": [
    "## Cilindro conductor\n",
    "\n",
    "Se sigue el método descripto en el capítulo 2 del libro _The method of moments in electromagnetics_, W. C. Gibson.\n",
    "\n",
    "<div><image src=\"img/c2_cilindro.png\"  width=\"400\"></div>\n",
    "\n",
    "<div><image src=\"img/c2_cilindro_discretizado.png\"  width=\"500\"></div>\n"
   ]
  },
  {
   "cell_type": "code",
   "execution_count": 12,
   "metadata": {},
   "outputs": [],
   "source": [
    "def Zmn(row, m, a, delta):\n",
    "    xm = delta/2 + (m-1) * delta\n",
    "    num = row * delta - xm\n",
    "\n",
    "    return num"
   ]
  },
  {
   "cell_type": "code",
   "execution_count": 14,
   "metadata": {},
   "outputs": [
    {
     "data": {
      "text/plain": [
       "array([ 1.,  3.,  5.,  7.,  9., 11., 13., 15., 17.])"
      ]
     },
     "execution_count": 14,
     "metadata": {},
     "output_type": "execute_result"
    }
   ],
   "source": [
    "w = np.array(np.arange(1,10))\n",
    "Zmn(w, 1, 2, 2)"
   ]
  },
  {
   "cell_type": "code",
   "execution_count": 3,
   "metadata": {},
   "outputs": [
    {
     "data": {
      "text/plain": [
       "array([-1.,  1.])"
      ]
     },
     "execution_count": 3,
     "metadata": {},
     "output_type": "execute_result"
    }
   ],
   "source": [
    "a = np.array([[1, 2], [3, 5]])\n",
    "\n",
    "b = np.array([1, 2])\n",
    "\n",
    "x = np.linalg.solve(a, b)\n",
    "\n",
    "x"
   ]
  },
  {
   "cell_type": "code",
   "execution_count": 5,
   "metadata": {},
   "outputs": [
    {
     "data": {
      "text/plain": [
       "True"
      ]
     },
     "execution_count": 5,
     "metadata": {},
     "output_type": "execute_result"
    }
   ],
   "source": [
    "# Check that the solution is correct:\n",
    "np.allclose(np.dot(a, x), b)"
   ]
  },
  {
   "cell_type": "code",
   "execution_count": null,
   "metadata": {},
   "outputs": [],
   "source": []
  },
  {
   "cell_type": "code",
   "execution_count": null,
   "metadata": {},
   "outputs": [],
   "source": []
  },
  {
   "cell_type": "code",
   "execution_count": null,
   "metadata": {},
   "outputs": [],
   "source": [
    "a = 0.125\n",
    "h = 1\n",
    "V = 0.5\n",
    "item = np.array([], dtype=np.int32).reshape(0,4)\n",
    "for i in range(4):\n",
    "    for j in range(4):\n",
    "        xi = -0.5 + a*(1+2*i)\n",
    "        yj = -0.5 + a*(1+2*j)\n",
    "        temp = np.array([xi,yj, h, V]).reshape(1,4)\n",
    "        item = np.concatenate((item,temp))\n",
    "\n",
    "h = 2\n",
    "V = -0.5\n",
    "for i in range(4):\n",
    "    for j in range(4):\n",
    "        xi = -0.5 + a*(1+2*i)\n",
    "        yj = -0.5 + a*(1+2*j)\n",
    "        temp = np.array([xi,yj, h, V]).reshape(1,4)\n",
    "        item = np.concatenate((item,temp))\n",
    "item"
   ]
  },
  {
   "cell_type": "markdown",
   "metadata": {},
   "source": [
    "$$\n",
    "L_{i,j}\\approx \\frac{k}{r + [L_a \\cdot (1 + r/a)]^{-1}}\n",
    "$$\n",
    "where $a=b$ (squares), and\n",
    "$$\n",
    "r = \\sqrt{(x_i-x_j)^2 + (y_i-y_j)^2 + (z_i-z_j)^2}\n",
    "$$"
   ]
  },
  {
   "cell_type": "code",
   "execution_count": null,
   "metadata": {},
   "outputs": [],
   "source": []
  }
 ],
 "metadata": {
  "kernelspec": {
   "display_name": "utn",
   "language": "python",
   "name": "python3"
  },
  "language_info": {
   "codemirror_mode": {
    "name": "ipython",
    "version": 3
   },
   "file_extension": ".py",
   "mimetype": "text/x-python",
   "name": "python",
   "nbconvert_exporter": "python",
   "pygments_lexer": "ipython3",
   "version": "3.10.12"
  }
 },
 "nbformat": 4,
 "nbformat_minor": 2
}

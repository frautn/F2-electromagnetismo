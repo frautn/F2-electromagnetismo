{
 "cells": [
  {
   "cell_type": "code",
   "execution_count": 2,
   "metadata": {},
   "outputs": [],
   "source": [
    "import numpy as np"
   ]
  },
  {
   "cell_type": "code",
   "execution_count": 49,
   "metadata": {},
   "outputs": [
    {
     "data": {
      "text/plain": [
       "array([[-0.375, -0.375,  1.   ,  0.5  ],\n",
       "       [-0.375, -0.125,  1.   ,  0.5  ],\n",
       "       [-0.375,  0.125,  1.   ,  0.5  ],\n",
       "       [-0.375,  0.375,  1.   ,  0.5  ],\n",
       "       [-0.125, -0.375,  1.   ,  0.5  ],\n",
       "       [-0.125, -0.125,  1.   ,  0.5  ],\n",
       "       [-0.125,  0.125,  1.   ,  0.5  ],\n",
       "       [-0.125,  0.375,  1.   ,  0.5  ],\n",
       "       [ 0.125, -0.375,  1.   ,  0.5  ],\n",
       "       [ 0.125, -0.125,  1.   ,  0.5  ],\n",
       "       [ 0.125,  0.125,  1.   ,  0.5  ],\n",
       "       [ 0.125,  0.375,  1.   ,  0.5  ],\n",
       "       [ 0.375, -0.375,  1.   ,  0.5  ],\n",
       "       [ 0.375, -0.125,  1.   ,  0.5  ],\n",
       "       [ 0.375,  0.125,  1.   ,  0.5  ],\n",
       "       [ 0.375,  0.375,  1.   ,  0.5  ],\n",
       "       [-0.375, -0.375,  2.   , -0.5  ],\n",
       "       [-0.375, -0.125,  2.   , -0.5  ],\n",
       "       [-0.375,  0.125,  2.   , -0.5  ],\n",
       "       [-0.375,  0.375,  2.   , -0.5  ],\n",
       "       [-0.125, -0.375,  2.   , -0.5  ],\n",
       "       [-0.125, -0.125,  2.   , -0.5  ],\n",
       "       [-0.125,  0.125,  2.   , -0.5  ],\n",
       "       [-0.125,  0.375,  2.   , -0.5  ],\n",
       "       [ 0.125, -0.375,  2.   , -0.5  ],\n",
       "       [ 0.125, -0.125,  2.   , -0.5  ],\n",
       "       [ 0.125,  0.125,  2.   , -0.5  ],\n",
       "       [ 0.125,  0.375,  2.   , -0.5  ],\n",
       "       [ 0.375, -0.375,  2.   , -0.5  ],\n",
       "       [ 0.375, -0.125,  2.   , -0.5  ],\n",
       "       [ 0.375,  0.125,  2.   , -0.5  ],\n",
       "       [ 0.375,  0.375,  2.   , -0.5  ]])"
      ]
     },
     "execution_count": 49,
     "metadata": {},
     "output_type": "execute_result"
    }
   ],
   "source": [
    "a = 0.125\n",
    "h = 1\n",
    "V = 0.5\n",
    "item = np.array([], dtype=np.int32).reshape(0,4)\n",
    "for i in range(4):\n",
    "    for j in range(4):\n",
    "        xi = -0.5 + a*(1+2*i)\n",
    "        yj = -0.5 + a*(1+2*j)\n",
    "        temp = np.array([xi,yj, h, V]).reshape(1,4)\n",
    "        item = np.concatenate((item,temp))\n",
    "\n",
    "h = 2\n",
    "V = -0.5\n",
    "for i in range(4):\n",
    "    for j in range(4):\n",
    "        xi = -0.5 + a*(1+2*i)\n",
    "        yj = -0.5 + a*(1+2*j)\n",
    "        temp = np.array([xi,yj, h, V]).reshape(1,4)\n",
    "        item = np.concatenate((item,temp))\n",
    "item"
   ]
  },
  {
   "cell_type": "markdown",
   "metadata": {},
   "source": [
    "$$\n",
    "L_{i,j}\\approx \\frac{k}{r + [L_a \\cdot (1 + r/a)]^{-1}}\n",
    "$$\n",
    "where $a=b$ (squares), and\n",
    "$$\n",
    "r = \\sqrt{(x_i-x_j)^2 + (y_i-y_j)^2 + (z_i-z_j)^2}\n",
    "$$"
   ]
  },
  {
   "cell_type": "code",
   "execution_count": null,
   "metadata": {},
   "outputs": [],
   "source": []
  }
 ],
 "metadata": {
  "kernelspec": {
   "display_name": "utn",
   "language": "python",
   "name": "python3"
  },
  "language_info": {
   "codemirror_mode": {
    "name": "ipython",
    "version": 3
   },
   "file_extension": ".py",
   "mimetype": "text/x-python",
   "name": "python",
   "nbconvert_exporter": "python",
   "pygments_lexer": "ipython3",
   "version": "3.10.12"
  }
 },
 "nbformat": 4,
 "nbformat_minor": 2
}
